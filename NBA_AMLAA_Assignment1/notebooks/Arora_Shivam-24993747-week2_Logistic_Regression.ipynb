{
 "cells": [
  {
   "cell_type": "code",
   "execution_count": 51,
   "id": "3454e693956d63ac",
   "metadata": {
    "ExecuteTime": {
     "end_time": "2024-09-04T03:19:45.548083Z",
     "start_time": "2024-09-04T03:19:45.544811Z"
    }
   },
   "outputs": [],
   "source": [
    "import warnings\n",
    "warnings.filterwarnings('ignore')"
   ]
  },
  {
   "cell_type": "code",
   "execution_count": 52,
   "id": "de74325113959b08",
   "metadata": {
    "ExecuteTime": {
     "end_time": "2024-09-04T03:19:46.926952Z",
     "start_time": "2024-09-04T03:19:46.923437Z"
    }
   },
   "outputs": [],
   "source": [
    "# Cell 1: Set Python path to the root directory\n",
    "import sys\n",
    "import os\n",
    "\n",
    "# Get the path to the root directory\n",
    "root_dir = os.path.abspath(\"..\")\n",
    "\n",
    "# Add the root directory to the Python path\n",
    "if root_dir not in sys.path:\n",
    "    sys.path.append(root_dir)\n"
   ]
  },
  {
   "cell_type": "code",
   "execution_count": 53,
   "id": "initial_id",
   "metadata": {
    "ExecuteTime": {
     "end_time": "2024-09-04T03:20:49.960861Z",
     "start_time": "2024-09-04T03:20:49.954322Z"
    },
    "collapsed": true
   },
   "outputs": [],
   "source": [
    "# Cell 2: Import necessary modules and functions\n",
    "import pandas as pd\n",
    "import numpy as np\n",
    "import matplotlib.pyplot as plt\n",
    "import seaborn as sns\n",
    "import src.data.make_dataset as make_ds\n",
    "# import NBA_AMLAA_Assignment1.src.data.make_dataset as make_ds\n",
    "# from src.data.make_dataset import clean_data , report_missing_values\n",
    "# from src.features.build_features import pre_processing, apply_pca, important_features\n",
    "# from src.models.train_model import train_model\n",
    "# from src.models.predict_model import predict_test_data, preprocess_test_data\n",
    "import src.visualization.visualize as viz\n",
    "from nba_drafted.make_dataset import clean_data , report_missing_values\n",
    "from nba_drafted.build_features import pre_processing, apply_pca, important_features\n",
    "from nba_drafted.train_model import train_model\n",
    "from nba_drafted.predict_model import predict_test_data, preprocess_test_data\n",
    "import plotly.express as px"
   ]
  },
  {
   "cell_type": "code",
   "execution_count": 54,
   "id": "00243970",
   "metadata": {},
   "outputs": [],
   "source": [
    "pd.set_option('display.max_rows', None)  # Show all rows\n",
    "pd.set_option('display.max_columns', None)  # Show all columns\n",
    "pd.set_option('display.width', None)  # Adjust the width to show all content\n",
    "pd.set_option('display.max_colwidth', None)"
   ]
  },
  {
   "cell_type": "code",
   "execution_count": 55,
   "id": "ac1d10451e2f08c7",
   "metadata": {
    "ExecuteTime": {
     "end_time": "2024-09-04T03:19:56.808961Z",
     "start_time": "2024-09-04T03:19:56.325272Z"
    }
   },
   "outputs": [
    {
     "data": {
      "text/html": [
       "<div>\n",
       "<style scoped>\n",
       "    .dataframe tbody tr th:only-of-type {\n",
       "        vertical-align: middle;\n",
       "    }\n",
       "\n",
       "    .dataframe tbody tr th {\n",
       "        vertical-align: top;\n",
       "    }\n",
       "\n",
       "    .dataframe thead th {\n",
       "        text-align: right;\n",
       "    }\n",
       "</style>\n",
       "<table border=\"1\" class=\"dataframe\">\n",
       "  <thead>\n",
       "    <tr style=\"text-align: right;\">\n",
       "      <th></th>\n",
       "      <th>team</th>\n",
       "      <th>conf</th>\n",
       "      <th>GP</th>\n",
       "      <th>Min_per</th>\n",
       "      <th>Ortg</th>\n",
       "      <th>usg</th>\n",
       "      <th>eFG</th>\n",
       "      <th>TS_per</th>\n",
       "      <th>ORB_per</th>\n",
       "      <th>DRB_per</th>\n",
       "      <th>AST_per</th>\n",
       "      <th>TO_per</th>\n",
       "      <th>FTM</th>\n",
       "      <th>FTA</th>\n",
       "      <th>FT_per</th>\n",
       "      <th>twoPM</th>\n",
       "      <th>twoPA</th>\n",
       "      <th>twoP_per</th>\n",
       "      <th>TPM</th>\n",
       "      <th>TPA</th>\n",
       "      <th>TP_per</th>\n",
       "      <th>blk_per</th>\n",
       "      <th>stl_per</th>\n",
       "      <th>ftr</th>\n",
       "      <th>yr</th>\n",
       "      <th>ht</th>\n",
       "      <th>num</th>\n",
       "      <th>porpag</th>\n",
       "      <th>adjoe</th>\n",
       "      <th>pfr</th>\n",
       "      <th>year</th>\n",
       "      <th>type</th>\n",
       "      <th>Rec_Rank</th>\n",
       "      <th>ast_tov</th>\n",
       "      <th>rimmade</th>\n",
       "      <th>rimmade_rimmiss</th>\n",
       "      <th>midmade</th>\n",
       "      <th>midmade_midmiss</th>\n",
       "      <th>rim_ratio</th>\n",
       "      <th>mid_ratio</th>\n",
       "      <th>dunksmade</th>\n",
       "      <th>dunksmiss_dunksmade</th>\n",
       "      <th>dunks_ratio</th>\n",
       "      <th>pick</th>\n",
       "      <th>drtg</th>\n",
       "      <th>adrtg</th>\n",
       "      <th>dporpag</th>\n",
       "      <th>stops</th>\n",
       "      <th>bpm</th>\n",
       "      <th>obpm</th>\n",
       "      <th>dbpm</th>\n",
       "      <th>gbpm</th>\n",
       "      <th>mp</th>\n",
       "      <th>ogbpm</th>\n",
       "      <th>dgbpm</th>\n",
       "      <th>oreb</th>\n",
       "      <th>dreb</th>\n",
       "      <th>treb</th>\n",
       "      <th>ast</th>\n",
       "      <th>stl</th>\n",
       "      <th>blk</th>\n",
       "      <th>pts</th>\n",
       "      <th>player_id</th>\n",
       "      <th>drafted</th>\n",
       "    </tr>\n",
       "  </thead>\n",
       "  <tbody>\n",
       "    <tr>\n",
       "      <th>0</th>\n",
       "      <td>South Alabama</td>\n",
       "      <td>SB</td>\n",
       "      <td>26</td>\n",
       "      <td>29.5</td>\n",
       "      <td>97.3</td>\n",
       "      <td>16.6</td>\n",
       "      <td>42.5</td>\n",
       "      <td>44.43</td>\n",
       "      <td>1.6</td>\n",
       "      <td>4.6</td>\n",
       "      <td>15.8</td>\n",
       "      <td>16.3</td>\n",
       "      <td>10</td>\n",
       "      <td>14</td>\n",
       "      <td>0.714</td>\n",
       "      <td>26</td>\n",
       "      <td>68</td>\n",
       "      <td>0.382</td>\n",
       "      <td>13</td>\n",
       "      <td>39</td>\n",
       "      <td>0.333</td>\n",
       "      <td>0.3</td>\n",
       "      <td>1.5</td>\n",
       "      <td>13.1</td>\n",
       "      <td>So</td>\n",
       "      <td>2-Jun</td>\n",
       "      <td>NaN</td>\n",
       "      <td>0.258086</td>\n",
       "      <td>89.3938</td>\n",
       "      <td>2.5</td>\n",
       "      <td>2009</td>\n",
       "      <td>all</td>\n",
       "      <td>NaN</td>\n",
       "      <td>1.823646</td>\n",
       "      <td>NaN</td>\n",
       "      <td>NaN</td>\n",
       "      <td>NaN</td>\n",
       "      <td>NaN</td>\n",
       "      <td>NaN</td>\n",
       "      <td>NaN</td>\n",
       "      <td>NaN</td>\n",
       "      <td>NaN</td>\n",
       "      <td>NaN</td>\n",
       "      <td>NaN</td>\n",
       "      <td>108.321</td>\n",
       "      <td>108.527</td>\n",
       "      <td>0.893017</td>\n",
       "      <td>49.9644</td>\n",
       "      <td>-4.995140</td>\n",
       "      <td>-1.623360</td>\n",
       "      <td>-3.371780</td>\n",
       "      <td>-4.723150</td>\n",
       "      <td>14.5769</td>\n",
       "      <td>-2.781990</td>\n",
       "      <td>-1.941150</td>\n",
       "      <td>0.1923</td>\n",
       "      <td>0.6154</td>\n",
       "      <td>0.8077</td>\n",
       "      <td>1.1923</td>\n",
       "      <td>0.3462</td>\n",
       "      <td>0.0385</td>\n",
       "      <td>3.8846</td>\n",
       "      <td>b2716b2d-3422-4959-9fe7-fe496414a4e8</td>\n",
       "      <td>0.0</td>\n",
       "    </tr>\n",
       "    <tr>\n",
       "      <th>1</th>\n",
       "      <td>Utah St.</td>\n",
       "      <td>WAC</td>\n",
       "      <td>34</td>\n",
       "      <td>60.9</td>\n",
       "      <td>108.3</td>\n",
       "      <td>14.9</td>\n",
       "      <td>52.4</td>\n",
       "      <td>54.48</td>\n",
       "      <td>3.8</td>\n",
       "      <td>6.3</td>\n",
       "      <td>13.6</td>\n",
       "      <td>19.8</td>\n",
       "      <td>30</td>\n",
       "      <td>45</td>\n",
       "      <td>0.667</td>\n",
       "      <td>56</td>\n",
       "      <td>113</td>\n",
       "      <td>0.496</td>\n",
       "      <td>20</td>\n",
       "      <td>51</td>\n",
       "      <td>0.392</td>\n",
       "      <td>1.0</td>\n",
       "      <td>1.1</td>\n",
       "      <td>27.4</td>\n",
       "      <td>So</td>\n",
       "      <td>4-Jun</td>\n",
       "      <td>NaN</td>\n",
       "      <td>1.334920</td>\n",
       "      <td>100.0660</td>\n",
       "      <td>3.4</td>\n",
       "      <td>2009</td>\n",
       "      <td>all</td>\n",
       "      <td>NaN</td>\n",
       "      <td>1.631621</td>\n",
       "      <td>NaN</td>\n",
       "      <td>NaN</td>\n",
       "      <td>NaN</td>\n",
       "      <td>NaN</td>\n",
       "      <td>NaN</td>\n",
       "      <td>NaN</td>\n",
       "      <td>NaN</td>\n",
       "      <td>NaN</td>\n",
       "      <td>NaN</td>\n",
       "      <td>NaN</td>\n",
       "      <td>105.078</td>\n",
       "      <td>104.017</td>\n",
       "      <td>1.880030</td>\n",
       "      <td>111.9290</td>\n",
       "      <td>0.593024</td>\n",
       "      <td>1.385490</td>\n",
       "      <td>-0.792469</td>\n",
       "      <td>-0.300196</td>\n",
       "      <td>24.5294</td>\n",
       "      <td>-0.052263</td>\n",
       "      <td>-0.247934</td>\n",
       "      <td>0.6765</td>\n",
       "      <td>1.2647</td>\n",
       "      <td>1.9412</td>\n",
       "      <td>1.8235</td>\n",
       "      <td>0.4118</td>\n",
       "      <td>0.2353</td>\n",
       "      <td>5.9412</td>\n",
       "      <td>bb387960-e3a0-4ffd-96ae-184bad07cb8a</td>\n",
       "      <td>0.0</td>\n",
       "    </tr>\n",
       "    <tr>\n",
       "      <th>2</th>\n",
       "      <td>South Florida</td>\n",
       "      <td>BE</td>\n",
       "      <td>27</td>\n",
       "      <td>72.0</td>\n",
       "      <td>96.2</td>\n",
       "      <td>21.8</td>\n",
       "      <td>45.7</td>\n",
       "      <td>47.98</td>\n",
       "      <td>2.1</td>\n",
       "      <td>8.0</td>\n",
       "      <td>14.7</td>\n",
       "      <td>15.9</td>\n",
       "      <td>45</td>\n",
       "      <td>67</td>\n",
       "      <td>0.672</td>\n",
       "      <td>67</td>\n",
       "      <td>157</td>\n",
       "      <td>0.427</td>\n",
       "      <td>50</td>\n",
       "      <td>154</td>\n",
       "      <td>0.325</td>\n",
       "      <td>0.0</td>\n",
       "      <td>0.9</td>\n",
       "      <td>21.5</td>\n",
       "      <td>Sr</td>\n",
       "      <td>4-Jun</td>\n",
       "      <td>NaN</td>\n",
       "      <td>2.274070</td>\n",
       "      <td>104.1070</td>\n",
       "      <td>1.7</td>\n",
       "      <td>2009</td>\n",
       "      <td>all</td>\n",
       "      <td>NaN</td>\n",
       "      <td>1.081662</td>\n",
       "      <td>NaN</td>\n",
       "      <td>NaN</td>\n",
       "      <td>NaN</td>\n",
       "      <td>NaN</td>\n",
       "      <td>NaN</td>\n",
       "      <td>NaN</td>\n",
       "      <td>NaN</td>\n",
       "      <td>NaN</td>\n",
       "      <td>NaN</td>\n",
       "      <td>NaN</td>\n",
       "      <td>107.556</td>\n",
       "      <td>102.154</td>\n",
       "      <td>2.763870</td>\n",
       "      <td>115.0210</td>\n",
       "      <td>0.003161</td>\n",
       "      <td>1.024770</td>\n",
       "      <td>-1.021610</td>\n",
       "      <td>0.665065</td>\n",
       "      <td>33.1852</td>\n",
       "      <td>1.548230</td>\n",
       "      <td>-0.883163</td>\n",
       "      <td>0.6296</td>\n",
       "      <td>2.3333</td>\n",
       "      <td>2.9630</td>\n",
       "      <td>1.9630</td>\n",
       "      <td>0.4815</td>\n",
       "      <td>0.0000</td>\n",
       "      <td>12.1852</td>\n",
       "      <td>89bbdf11-eadd-4de4-95e5-03f7e2874aa1</td>\n",
       "      <td>0.0</td>\n",
       "    </tr>\n",
       "    <tr>\n",
       "      <th>3</th>\n",
       "      <td>Pepperdine</td>\n",
       "      <td>WCC</td>\n",
       "      <td>30</td>\n",
       "      <td>44.5</td>\n",
       "      <td>97.7</td>\n",
       "      <td>16.0</td>\n",
       "      <td>53.6</td>\n",
       "      <td>53.69</td>\n",
       "      <td>4.1</td>\n",
       "      <td>9.4</td>\n",
       "      <td>13.7</td>\n",
       "      <td>23.8</td>\n",
       "      <td>14</td>\n",
       "      <td>27</td>\n",
       "      <td>0.519</td>\n",
       "      <td>25</td>\n",
       "      <td>63</td>\n",
       "      <td>0.397</td>\n",
       "      <td>28</td>\n",
       "      <td>62</td>\n",
       "      <td>0.452</td>\n",
       "      <td>0.8</td>\n",
       "      <td>1.9</td>\n",
       "      <td>21.6</td>\n",
       "      <td>Sr</td>\n",
       "      <td>4-Jun</td>\n",
       "      <td>NaN</td>\n",
       "      <td>0.552857</td>\n",
       "      <td>93.2086</td>\n",
       "      <td>2.0</td>\n",
       "      <td>2009</td>\n",
       "      <td>all</td>\n",
       "      <td>NaN</td>\n",
       "      <td>0.942830</td>\n",
       "      <td>NaN</td>\n",
       "      <td>NaN</td>\n",
       "      <td>NaN</td>\n",
       "      <td>NaN</td>\n",
       "      <td>NaN</td>\n",
       "      <td>NaN</td>\n",
       "      <td>NaN</td>\n",
       "      <td>NaN</td>\n",
       "      <td>NaN</td>\n",
       "      <td>NaN</td>\n",
       "      <td>108.858</td>\n",
       "      <td>106.556</td>\n",
       "      <td>1.218710</td>\n",
       "      <td>84.1698</td>\n",
       "      <td>-0.977798</td>\n",
       "      <td>-0.502574</td>\n",
       "      <td>-0.475224</td>\n",
       "      <td>-0.736233</td>\n",
       "      <td>17.9667</td>\n",
       "      <td>-0.342775</td>\n",
       "      <td>-0.393459</td>\n",
       "      <td>0.7000</td>\n",
       "      <td>1.4333</td>\n",
       "      <td>2.1333</td>\n",
       "      <td>1.1000</td>\n",
       "      <td>0.5667</td>\n",
       "      <td>0.1333</td>\n",
       "      <td>4.9333</td>\n",
       "      <td>0c87ada8-8446-4ea2-a05b-bd07aed5f37a</td>\n",
       "      <td>0.0</td>\n",
       "    </tr>\n",
       "    <tr>\n",
       "      <th>4</th>\n",
       "      <td>Pacific</td>\n",
       "      <td>BW</td>\n",
       "      <td>33</td>\n",
       "      <td>56.2</td>\n",
       "      <td>96.5</td>\n",
       "      <td>22.0</td>\n",
       "      <td>52.8</td>\n",
       "      <td>54.31</td>\n",
       "      <td>8.3</td>\n",
       "      <td>18.6</td>\n",
       "      <td>8.2</td>\n",
       "      <td>22.7</td>\n",
       "      <td>64</td>\n",
       "      <td>114</td>\n",
       "      <td>0.561</td>\n",
       "      <td>93</td>\n",
       "      <td>176</td>\n",
       "      <td>0.528</td>\n",
       "      <td>0</td>\n",
       "      <td>0</td>\n",
       "      <td>0.000</td>\n",
       "      <td>1.9</td>\n",
       "      <td>1.3</td>\n",
       "      <td>64.8</td>\n",
       "      <td>Sr</td>\n",
       "      <td>8-Jun</td>\n",
       "      <td>NaN</td>\n",
       "      <td>1.060130</td>\n",
       "      <td>97.8554</td>\n",
       "      <td>3.8</td>\n",
       "      <td>2009</td>\n",
       "      <td>all</td>\n",
       "      <td>NaN</td>\n",
       "      <td>0.491229</td>\n",
       "      <td>NaN</td>\n",
       "      <td>NaN</td>\n",
       "      <td>NaN</td>\n",
       "      <td>NaN</td>\n",
       "      <td>NaN</td>\n",
       "      <td>NaN</td>\n",
       "      <td>NaN</td>\n",
       "      <td>NaN</td>\n",
       "      <td>NaN</td>\n",
       "      <td>NaN</td>\n",
       "      <td>101.052</td>\n",
       "      <td>100.724</td>\n",
       "      <td>1.992790</td>\n",
       "      <td>128.0280</td>\n",
       "      <td>-1.836060</td>\n",
       "      <td>-1.946040</td>\n",
       "      <td>0.109983</td>\n",
       "      <td>-2.353180</td>\n",
       "      <td>22.9091</td>\n",
       "      <td>-1.684860</td>\n",
       "      <td>-0.668318</td>\n",
       "      <td>1.4242</td>\n",
       "      <td>3.3030</td>\n",
       "      <td>4.7273</td>\n",
       "      <td>0.8485</td>\n",
       "      <td>0.4545</td>\n",
       "      <td>0.3333</td>\n",
       "      <td>7.5758</td>\n",
       "      <td>84661e00-ad20-4308-817e-efa8da52a86c</td>\n",
       "      <td>0.0</td>\n",
       "    </tr>\n",
       "  </tbody>\n",
       "</table>\n",
       "</div>"
      ],
      "text/plain": [
       "            team conf  GP  Min_per   Ortg   usg   eFG  TS_per  ORB_per  \\\n",
       "0  South Alabama   SB  26     29.5   97.3  16.6  42.5   44.43      1.6   \n",
       "1       Utah St.  WAC  34     60.9  108.3  14.9  52.4   54.48      3.8   \n",
       "2  South Florida   BE  27     72.0   96.2  21.8  45.7   47.98      2.1   \n",
       "3     Pepperdine  WCC  30     44.5   97.7  16.0  53.6   53.69      4.1   \n",
       "4        Pacific   BW  33     56.2   96.5  22.0  52.8   54.31      8.3   \n",
       "\n",
       "   DRB_per  AST_per  TO_per  FTM  FTA  FT_per  twoPM  twoPA  twoP_per  TPM  \\\n",
       "0      4.6     15.8    16.3   10   14   0.714     26     68     0.382   13   \n",
       "1      6.3     13.6    19.8   30   45   0.667     56    113     0.496   20   \n",
       "2      8.0     14.7    15.9   45   67   0.672     67    157     0.427   50   \n",
       "3      9.4     13.7    23.8   14   27   0.519     25     63     0.397   28   \n",
       "4     18.6      8.2    22.7   64  114   0.561     93    176     0.528    0   \n",
       "\n",
       "   TPA  TP_per  blk_per  stl_per   ftr  yr     ht  num    porpag     adjoe  \\\n",
       "0   39   0.333      0.3      1.5  13.1  So  2-Jun  NaN  0.258086   89.3938   \n",
       "1   51   0.392      1.0      1.1  27.4  So  4-Jun  NaN  1.334920  100.0660   \n",
       "2  154   0.325      0.0      0.9  21.5  Sr  4-Jun  NaN  2.274070  104.1070   \n",
       "3   62   0.452      0.8      1.9  21.6  Sr  4-Jun  NaN  0.552857   93.2086   \n",
       "4    0   0.000      1.9      1.3  64.8  Sr  8-Jun  NaN  1.060130   97.8554   \n",
       "\n",
       "   pfr  year type  Rec_Rank   ast_tov  rimmade  rimmade_rimmiss  midmade  \\\n",
       "0  2.5  2009  all       NaN  1.823646      NaN              NaN      NaN   \n",
       "1  3.4  2009  all       NaN  1.631621      NaN              NaN      NaN   \n",
       "2  1.7  2009  all       NaN  1.081662      NaN              NaN      NaN   \n",
       "3  2.0  2009  all       NaN  0.942830      NaN              NaN      NaN   \n",
       "4  3.8  2009  all       NaN  0.491229      NaN              NaN      NaN   \n",
       "\n",
       "   midmade_midmiss  rim_ratio  mid_ratio  dunksmade  dunksmiss_dunksmade  \\\n",
       "0              NaN        NaN        NaN        NaN                  NaN   \n",
       "1              NaN        NaN        NaN        NaN                  NaN   \n",
       "2              NaN        NaN        NaN        NaN                  NaN   \n",
       "3              NaN        NaN        NaN        NaN                  NaN   \n",
       "4              NaN        NaN        NaN        NaN                  NaN   \n",
       "\n",
       "   dunks_ratio  pick     drtg    adrtg   dporpag     stops       bpm  \\\n",
       "0          NaN   NaN  108.321  108.527  0.893017   49.9644 -4.995140   \n",
       "1          NaN   NaN  105.078  104.017  1.880030  111.9290  0.593024   \n",
       "2          NaN   NaN  107.556  102.154  2.763870  115.0210  0.003161   \n",
       "3          NaN   NaN  108.858  106.556  1.218710   84.1698 -0.977798   \n",
       "4          NaN   NaN  101.052  100.724  1.992790  128.0280 -1.836060   \n",
       "\n",
       "       obpm      dbpm      gbpm       mp     ogbpm     dgbpm    oreb    dreb  \\\n",
       "0 -1.623360 -3.371780 -4.723150  14.5769 -2.781990 -1.941150  0.1923  0.6154   \n",
       "1  1.385490 -0.792469 -0.300196  24.5294 -0.052263 -0.247934  0.6765  1.2647   \n",
       "2  1.024770 -1.021610  0.665065  33.1852  1.548230 -0.883163  0.6296  2.3333   \n",
       "3 -0.502574 -0.475224 -0.736233  17.9667 -0.342775 -0.393459  0.7000  1.4333   \n",
       "4 -1.946040  0.109983 -2.353180  22.9091 -1.684860 -0.668318  1.4242  3.3030   \n",
       "\n",
       "     treb     ast     stl     blk      pts  \\\n",
       "0  0.8077  1.1923  0.3462  0.0385   3.8846   \n",
       "1  1.9412  1.8235  0.4118  0.2353   5.9412   \n",
       "2  2.9630  1.9630  0.4815  0.0000  12.1852   \n",
       "3  2.1333  1.1000  0.5667  0.1333   4.9333   \n",
       "4  4.7273  0.8485  0.4545  0.3333   7.5758   \n",
       "\n",
       "                              player_id  drafted  \n",
       "0  b2716b2d-3422-4959-9fe7-fe496414a4e8      0.0  \n",
       "1  bb387960-e3a0-4ffd-96ae-184bad07cb8a      0.0  \n",
       "2  89bbdf11-eadd-4de4-95e5-03f7e2874aa1      0.0  \n",
       "3  0c87ada8-8446-4ea2-a05b-bd07aed5f37a      0.0  \n",
       "4  84661e00-ad20-4308-817e-efa8da52a86c      0.0  "
      ]
     },
     "execution_count": 55,
     "metadata": {},
     "output_type": "execute_result"
    }
   ],
   "source": [
    "train_filepath = '../data/raw/train.csv'\n",
    "\n",
    "train_df = pd.read_csv(train_filepath, low_memory=False)\n",
    "train_df.head()"
   ]
  },
  {
   "cell_type": "code",
   "execution_count": 56,
   "id": "f4bcfcc1",
   "metadata": {},
   "outputs": [],
   "source": [
    "def eda(df):\n",
    "  df.columns = [train_col.lower() for train_col in df.columns]\n",
    "  #  Top 10 Teams\n",
    "  top_10 = df['team'].value_counts().nlargest(10).index\n",
    "  top_10 = df[df['team'].isin(top_10)]\n",
    "  no_drafted = top_10[top_10['drafted'] == 0]\n",
    "\n",
    "  fig = px.bar(no_drafted, x='team', title='Top Team with Undrafted Players Analysis',\n",
    "              labels={'team': 'Top most Teams'}, color_discrete_sequence=['burlywood'])\n",
    "  fig.update_layout(\n",
    "      width=800,\n",
    "      height=500,\n",
    "      xaxis_title='team',\n",
    "      yaxis_title='Counts of Undrafted Players',\n",
    "      xaxis=dict(tickmode='linear'),\n",
    "      template='plotly_white'\n",
    "  )\n",
    "\n",
    "  # Show the plot\n",
    "  fig.show()\n",
    "\n",
    "  yearly_ftp = df.groupby('year')['ft_per'].sum().reset_index()\n",
    "  yearly_ftp['year'] = pd.to_datetime(yearly_ftp['year'], format='%Y').dt.year\n",
    "  fig = px.line(yearly_ftp,\n",
    "                x='year',\n",
    "                y='ft_per',\n",
    "                title='Free Throws Attempts Yearly Analysis',\n",
    "                labels={'ft_per': 'Free Throws Percentage', 'year': 'Year'},\n",
    "                template='plotly_white')\n",
    "\n",
    "  fig.add_scatter(x=yearly_ftp['year'],\n",
    "                  y=yearly_ftp['ft_per'].rolling(window=2).mean(),\n",
    "                  mode='lines',\n",
    "                  line=dict(color='red', dash='dash'),\n",
    "                  name='Trendline')\n",
    "\n",
    "  # Customize the layout\n",
    "  fig.update_layout(\n",
    "      width=800,\n",
    "      height=500,\n",
    "      xaxis_title='Year',\n",
    "      yaxis_title='Free Throws Percentage',\n",
    "      xaxis=dict(tickmode='linear'),\n",
    "      template='plotly_white'\n",
    "  )\n",
    "\n",
    "  # Show the plot\n",
    "  fig.show()\n",
    "\n",
    "\n",
    "  top_5 = df['team'].value_counts().nlargest(5).index\n",
    "  top_5 = df[df['team'].isin(top_5)]\n",
    "  yearly_team = top_5.groupby(['year','team'])['gp'].sum().reset_index()\n",
    "  yearly_team['year'] = pd.to_datetime(yearly_team['year'], format='%Y').dt.year\n",
    "  yearly_team=yearly_team[yearly_team['year'] >=2016]\n",
    "  fig = px.bar(yearly_team, x='team', y='gp', facet_col='year', barmode='group', title='Top 5 teams with number of games played across seasons 2016-18',\n",
    "              labels={'gp': 'Number of Games Played', 'team': 'Top 5 Teams',}, color_discrete_sequence=['lightcoral'])\n",
    "\n",
    "  fig.update_layout(\n",
    "      width=1100,\n",
    "      height=500,\n",
    "      xaxis_title='Top 5 Teams',\n",
    "      yaxis_title='Number of Games Played',\n",
    "      xaxis=dict(tickmode='linear'),\n",
    "      template='plotly_white'\n",
    "  )\n",
    "\n",
    "  # Show the plot\n",
    "  fig.show()\n",
    "\n",
    "  top_10 = df['team'].value_counts().nlargest(10).index\n",
    "  top_10_df = df[df['team'].isin(top_10)]\n",
    "\n",
    "  perf_team = top_10_df.groupby('team')[['twop_per', 'tp_per']].sum().reset_index()\n",
    "  perf_team = perf_team.melt(id_vars='team',\n",
    "                                    value_vars=['twop_per', 'tp_per'],\n",
    "                                    var_name='Pointer Type',\n",
    "                                    value_name='Total')\n",
    "  fig = px.bar(perf_team, x='team', y='Total', color='Pointer Type',barmode='group',\n",
    "              title='Top 10 Teams Performance Metrics: Two and Three Pointers',labels={'team': 'Team', 'Total': 'Total Points'},color_discrete_sequence=['lightcoral', 'deeppink'])\n",
    "\n",
    "  # Update layout\n",
    "  fig.update_layout(\n",
    "      width=1100,\n",
    "      height=500,\n",
    "      xaxis_title='Top 10 Teams',\n",
    "      yaxis_title='Total Points',\n",
    "      xaxis=dict(tickmode='linear'),\n",
    "      template='plotly_white'\n",
    "  )\n",
    "\n",
    "  # Show the plot\n",
    "  fig.show()\n",
    "\n",
    "  top_10_a = df['team'].value_counts().nlargest(10).index\n",
    "  top_10_df1 = df[df['team'].isin(top_10_a)]\n",
    "\n",
    "  perf_team1 = top_10_df1.groupby('team')[['stl_per', 'blk_per']].sum().reset_index()\n",
    "  perf_team1 = perf_team1.melt(id_vars='team',\n",
    "                                    value_vars=['stl_per', 'blk_per'],\n",
    "                                    var_name='Pointer Type',\n",
    "                                    value_name='Total')\n",
    "  fig = px.bar(perf_team1, x='team', y='Total', color='Pointer Type',barmode='group',\n",
    "              title='Top 10 Teams Performance Metrics: Steals and Blocks Percentages',labels={'team': 'Team', 'Total': 'Total steal and block points'},color_discrete_sequence=['lightgreen', 'olive'])\n",
    "\n",
    "  # Update layout\n",
    "  fig.update_layout(\n",
    "      width=1100,\n",
    "      height=500,\n",
    "      xaxis_title='Top 10 Teams',\n",
    "      yaxis_title='Total Points',\n",
    "      xaxis=dict(tickmode='linear'),\n",
    "      template='plotly_white'\n",
    "  )\n",
    "\n",
    "  # Show the plot\n",
    "  fig.show()\n",
    "\n",
    "\n",
    "  top_101 = df['team'].value_counts().nlargest(10).index\n",
    "  top_10 = df[df['team'].isin(top_101)]\n",
    "  drafted = top_10[top_10['drafted'] ==1]\n",
    "  counts = drafted['team'].value_counts().reset_index()\n",
    "  counts.columns = ['team', 'count']\n",
    "\n",
    "  fig = px.pie(counts, names='team', values='count', color='team',color_discrete_sequence=[\"blue\",\"red\"],\n",
    "                title='Top Teams with Drafted Players')\n",
    "  fig.update_layout(\n",
    "        width=800,\n",
    "        height=500,\n",
    "          xaxis_title='Team',\n",
    "          yaxis_title='Counts'\n",
    "      )\n",
    "  fig.show()"
   ]
  },
  {
   "cell_type": "code",
   "execution_count": 57,
   "id": "5a5b0ef1",
   "metadata": {},
   "outputs": [
    {
     "data": {
      "application/vnd.plotly.v1+json": {
       "config": {
        "plotlyServerURL": "https://plot.ly"
       },
       "data": [
        {
         "alignmentgroup": "True",
         "hovertemplate": "Top most Teams=%{x}<br>count=%{y}<extra></extra>",
         "legendgroup": "",
         "marker": {
          "color": "burlywood",
          "pattern": {
           "shape": ""
          }
         },
         "name": "",
         "offsetgroup": "",
         "orientation": "v",
         "showlegend": false,
         "textposition": "auto",
         "type": "bar",
         "x": [
          "Navy",
          "Navy",
          "Princeton",
          "Wake Forest",
          "Jackson St.",
          "Cornell",
          "Navy",
          "Army",
          "Air Force",
          "Army",
          "Army",
          "Army",
          "Army",
          "Princeton",
          "Delaware St.",
          "Cornell",
          "Cornell",
          "Cornell",
          "Cornell",
          "Cornell",
          "Cornell",
          "Delaware St.",
          "North Carolina",
          "Air Force",
          "Penn",
          "Delaware St.",
          "Princeton",
          "Princeton",
          "North Carolina",
          "North Carolina",
          "Wake Forest",
          "Wake Forest",
          "Penn",
          "Penn",
          "Penn",
          "Jackson St.",
          "Princeton",
          "Army",
          "Air Force",
          "Army",
          "Army",
          "Army",
          "Army",
          "Navy",
          "Navy",
          "Navy",
          "Navy",
          "Princeton",
          "Princeton",
          "Cornell",
          "Cornell",
          "North Carolina",
          "Delaware St.",
          "North Carolina",
          "Penn",
          "Jackson St.",
          "Army",
          "Army",
          "Wake Forest",
          "Wake Forest",
          "North Carolina",
          "Penn",
          "Penn",
          "Jackson St.",
          "Air Force",
          "North Carolina",
          "Delaware St.",
          "Princeton",
          "Navy",
          "Navy",
          "Navy",
          "Navy",
          "Air Force",
          "Air Force",
          "Air Force",
          "Wake Forest",
          "Cornell",
          "Delaware St.",
          "Air Force",
          "Jackson St.",
          "Jackson St.",
          "Princeton",
          "Jackson St.",
          "Air Force",
          "Cornell",
          "Cornell",
          "Delaware St.",
          "North Carolina",
          "Army",
          "Army",
          "Army",
          "Penn",
          "Cornell",
          "Air Force",
          "Jackson St.",
          "Wake Forest",
          "Air Force",
          "Jackson St.",
          "Penn",
          "Delaware St.",
          "Cornell",
          "Princeton",
          "Princeton",
          "Princeton",
          "Navy",
          "Navy",
          "Jackson St.",
          "Jackson St.",
          "Jackson St.",
          "Wake Forest",
          "Wake Forest",
          "Air Force",
          "Air Force",
          "Air Force",
          "Air Force",
          "Cornell",
          "Cornell",
          "Army",
          "Jackson St.",
          "Penn",
          "Penn",
          "Penn",
          "Wake Forest",
          "Wake Forest",
          "Delaware St.",
          "Delaware St.",
          "Delaware St.",
          "Delaware St.",
          "Delaware St.",
          "North Carolina",
          "North Carolina",
          "North Carolina",
          "Delaware St.",
          "Wake Forest",
          "Wake Forest",
          "Penn",
          "Navy",
          "Army",
          "Penn",
          "Penn",
          "Cornell",
          "Jackson St.",
          "Army",
          "North Carolina",
          "Wake Forest",
          "Jackson St.",
          "Princeton",
          "Jackson St.",
          "Air Force",
          "Air Force",
          "Penn",
          "Wake Forest",
          "Jackson St.",
          "North Carolina",
          "Delaware St.",
          "Jackson St.",
          "Delaware St.",
          "Navy",
          "Navy",
          "Delaware St.",
          "Princeton",
          "Wake Forest",
          "Jackson St.",
          "Navy",
          "Army",
          "Air Force",
          "Princeton",
          "Delaware St.",
          "Cornell",
          "Cornell",
          "Cornell",
          "Cornell",
          "Cornell",
          "Cornell",
          "Delaware St.",
          "Penn",
          "North Carolina",
          "Wake Forest",
          "Cornell",
          "Penn",
          "Penn",
          "Jackson St.",
          "Princeton",
          "Army",
          "Army",
          "Army",
          "Army",
          "Army",
          "Princeton",
          "Princeton",
          "Cornell",
          "Cornell",
          "North Carolina",
          "Army",
          "Army",
          "Penn",
          "Penn",
          "Penn",
          "Jackson St.",
          "Air Force",
          "North Carolina",
          "Princeton",
          "Navy",
          "Navy",
          "Navy",
          "Navy",
          "Air Force",
          "Air Force",
          "Wake Forest",
          "Delaware St.",
          "Princeton",
          "Air Force",
          "Delaware St.",
          "Army",
          "Army",
          "Cornell",
          "Air Force",
          "Wake Forest",
          "Air Force",
          "Delaware St.",
          "Princeton",
          "Princeton",
          "Navy",
          "Navy",
          "Jackson St.",
          "Jackson St.",
          "Jackson St.",
          "Wake Forest",
          "Air Force",
          "Air Force",
          "Air Force",
          "Cornell",
          "Penn",
          "Penn",
          "Wake Forest",
          "Delaware St.",
          "North Carolina",
          "North Carolina",
          "Navy",
          "Army",
          "Penn",
          "Penn",
          "Cornell",
          "Jackson St.",
          "North Carolina",
          "North Carolina",
          "Wake Forest",
          "Navy",
          "Navy",
          "Navy",
          "Army",
          "Army",
          "Army",
          "Delaware St.",
          "Delaware St.",
          "Delaware St.",
          "North Carolina",
          "North Carolina",
          "North Carolina",
          "North Carolina",
          "Penn",
          "Navy",
          "Air Force",
          "Air Force",
          "Cornell",
          "North Carolina",
          "Cornell",
          "Cornell",
          "Jackson St.",
          "Wake Forest",
          "Wake Forest",
          "Wake Forest",
          "Wake Forest",
          "Cornell",
          "Cornell",
          "Wake Forest",
          "Army",
          "Air Force",
          "Penn",
          "Penn",
          "Penn",
          "Penn",
          "Wake Forest",
          "Jackson St.",
          "Wake Forest",
          "Jackson St.",
          "Jackson St.",
          "Jackson St.",
          "Jackson St.",
          "Air Force",
          "Air Force",
          "Air Force",
          "Delaware St.",
          "Princeton",
          "Cornell",
          "Delaware St.",
          "Delaware St.",
          "Delaware St.",
          "Delaware St.",
          "Air Force",
          "Princeton",
          "Princeton",
          "Jackson St.",
          "Army",
          "Penn",
          "Princeton",
          "Princeton",
          "Princeton",
          "Penn",
          "North Carolina",
          "Penn",
          "Wake Forest",
          "North Carolina",
          "Jackson St.",
          "North Carolina",
          "Wake Forest",
          "Cornell",
          "Delaware St.",
          "Delaware St.",
          "Jackson St.",
          "Delaware St.",
          "North Carolina",
          "Penn",
          "Cornell",
          "Cornell",
          "Penn",
          "Penn",
          "Jackson St.",
          "Princeton",
          "Army",
          "Princeton",
          "Princeton",
          "Cornell",
          "Penn",
          "Penn",
          "Air Force",
          "Navy",
          "Navy",
          "Navy",
          "Air Force",
          "Jackson St.",
          "Air Force",
          "Army",
          "Army",
          "Wake Forest",
          "Delaware St.",
          "Princeton",
          "Princeton",
          "Navy",
          "Navy",
          "Jackson St.",
          "Jackson St.",
          "Jackson St.",
          "Wake Forest",
          "Air Force",
          "Air Force",
          "Cornell",
          "Penn",
          "Penn",
          "Wake Forest",
          "North Carolina",
          "North Carolina",
          "Navy",
          "Army",
          "Penn",
          "Penn",
          "Cornell",
          "North Carolina",
          "Wake Forest",
          "Army",
          "Army",
          "Delaware St.",
          "Delaware St.",
          "Delaware St.",
          "North Carolina",
          "North Carolina",
          "Navy",
          "Air Force",
          "Air Force",
          "Cornell",
          "Cornell",
          "Cornell",
          "Jackson St.",
          "Wake Forest",
          "Wake Forest",
          "Wake Forest",
          "Wake Forest",
          "Cornell",
          "Cornell",
          "Army",
          "Air Force",
          "Penn",
          "Jackson St.",
          "Jackson St.",
          "Jackson St.",
          "Jackson St.",
          "Air Force",
          "Air Force",
          "Air Force",
          "Delaware St.",
          "Princeton",
          "Cornell",
          "Delaware St.",
          "Delaware St.",
          "Delaware St.",
          "Air Force",
          "Princeton",
          "Princeton",
          "Jackson St.",
          "Army",
          "Princeton",
          "Princeton",
          "Princeton",
          "Jackson St.",
          "Army",
          "Princeton",
          "Princeton",
          "Princeton",
          "Wake Forest",
          "Wake Forest",
          "Wake Forest",
          "North Carolina",
          "North Carolina",
          "North Carolina",
          "North Carolina",
          "North Carolina",
          "North Carolina",
          "Delaware St.",
          "North Carolina",
          "North Carolina",
          "Jackson St.",
          "Cornell",
          "Cornell",
          "Jackson St.",
          "Army",
          "Army",
          "Army",
          "Army",
          "Army",
          "Delaware St.",
          "Navy",
          "Navy",
          "Navy",
          "Army",
          "Army",
          "Penn",
          "Penn",
          "Air Force",
          "Air Force",
          "Army",
          "Navy",
          "Air Force",
          "Delaware St.",
          "Jackson St.",
          "Navy",
          "North Carolina",
          "Air Force",
          "Penn",
          "Penn",
          "Wake Forest",
          "Princeton",
          "Penn",
          "Penn",
          "Delaware St.",
          "Delaware St.",
          "Army",
          "Delaware St.",
          "Jackson St.",
          "Cornell",
          "North Carolina",
          "Wake Forest",
          "Princeton",
          "Wake Forest",
          "Cornell",
          "Cornell",
          "Navy",
          "Cornell",
          "Delaware St.",
          "Cornell",
          "Cornell",
          "Penn",
          "Princeton",
          "Princeton",
          "Navy",
          "Navy",
          "Wake Forest",
          "Air Force",
          "Air Force",
          "Cornell",
          "Penn",
          "Penn",
          "Wake Forest",
          "North Carolina",
          "Army",
          "Penn",
          "Army",
          "Delaware St.",
          "Delaware St.",
          "North Carolina",
          "Navy",
          "Air Force",
          "Air Force",
          "Cornell",
          "Cornell",
          "Wake Forest",
          "Wake Forest",
          "Wake Forest",
          "Cornell",
          "Cornell",
          "Army",
          "Air Force",
          "Jackson St.",
          "Jackson St.",
          "Jackson St.",
          "Air Force",
          "Air Force",
          "Delaware St.",
          "Princeton",
          "Cornell",
          "Delaware St.",
          "Air Force",
          "Princeton",
          "Princeton",
          "Jackson St.",
          "Army",
          "Princeton",
          "Princeton",
          "Princeton",
          "Princeton",
          "Princeton",
          "Wake Forest",
          "Wake Forest",
          "North Carolina",
          "North Carolina",
          "North Carolina",
          "Delaware St.",
          "North Carolina",
          "Jackson St.",
          "Cornell",
          "Jackson St.",
          "Army",
          "Army",
          "Army",
          "Navy",
          "Navy",
          "Navy",
          "Jackson St.",
          "Army",
          "Army",
          "Penn",
          "Navy",
          "Air Force",
          "Navy",
          "Air Force",
          "Penn",
          "Penn",
          "Wake Forest",
          "Princeton",
          "Penn",
          "Penn",
          "Delaware St.",
          "Delaware St.",
          "Penn",
          "Penn",
          "Princeton",
          "Wake Forest",
          "Wake Forest",
          "Jackson St.",
          "Navy",
          "Navy",
          "North Carolina",
          "Navy",
          "Princeton",
          "Princeton",
          "Delaware St.",
          "North Carolina",
          "Jackson St.",
          "Army",
          "Army",
          "Army",
          "Army",
          "Jackson St.",
          "Navy",
          "Navy",
          "Army",
          "Jackson St.",
          "Jackson St.",
          "Delaware St.",
          "Cornell",
          "Cornell",
          "Cornell",
          "Penn",
          "Penn",
          "Penn",
          "Penn",
          "Air Force",
          "Air Force",
          "Air Force",
          "Air Force",
          "North Carolina",
          "North Carolina",
          "Delaware St.",
          "Army",
          "Jackson St.",
          "Cornell",
          "North Carolina",
          "Cornell",
          "Jackson St.",
          "Jackson St.",
          "Navy",
          "Navy",
          "Navy",
          "Wake Forest",
          "Delaware St.",
          "Delaware St.",
          "Army",
          "Air Force",
          "Air Force",
          "Wake Forest",
          "Army",
          "Air Force",
          "Princeton",
          "Wake Forest",
          "Wake Forest",
          "Navy",
          "Cornell",
          "Army",
          "Delaware St.",
          "Cornell",
          "Princeton",
          "Cornell",
          "Army",
          "Delaware St.",
          "North Carolina",
          "North Carolina",
          "Air Force",
          "Cornell",
          "Cornell",
          "Wake Forest",
          "Cornell",
          "Cornell",
          "Army",
          "Air Force",
          "Jackson St.",
          "Jackson St.",
          "Jackson St.",
          "Air Force",
          "Air Force",
          "Delaware St.",
          "Cornell",
          "Delaware St.",
          "Air Force",
          "Princeton",
          "Jackson St.",
          "Princeton",
          "Princeton",
          "Princeton",
          "Princeton",
          "Wake Forest",
          "Delaware St.",
          "Navy",
          "Navy",
          "Navy",
          "Army",
          "Army",
          "Penn",
          "Jackson St.",
          "Navy",
          "Air Force",
          "Penn",
          "Penn",
          "Princeton",
          "Penn",
          "Penn",
          "Delaware St.",
          "Princeton",
          "Wake Forest",
          "Wake Forest",
          "Jackson St.",
          "Princeton",
          "Princeton",
          "North Carolina",
          "Jackson St.",
          "Army",
          "Army",
          "Jackson St.",
          "Navy",
          "Navy",
          "Army",
          "Delaware St.",
          "Cornell",
          "Cornell",
          "Cornell",
          "Penn",
          "Penn",
          "Penn",
          "Penn",
          "Air Force",
          "Air Force",
          "Air Force",
          "Air Force",
          "North Carolina",
          "North Carolina",
          "Delaware St.",
          "Jackson St.",
          "Cornell",
          "North Carolina",
          "Cornell",
          "Jackson St.",
          "Jackson St.",
          "Navy",
          "Navy",
          "Navy",
          "Delaware St.",
          "Delaware St.",
          "Wake Forest",
          "Army",
          "Cornell",
          "Army",
          "North Carolina",
          "North Carolina",
          "North Carolina",
          "Wake Forest",
          "Wake Forest",
          "Princeton",
          "Delaware St.",
          "Navy",
          "Cornell",
          "Penn",
          "Penn",
          "Penn",
          "Jackson St.",
          "Jackson St.",
          "Cornell",
          "Navy",
          "Navy",
          "Delaware St.",
          "Delaware St.",
          "Delaware St.",
          "Army",
          "Army",
          "Delaware St.",
          "North Carolina",
          "Army",
          "Army",
          "Army",
          "Army",
          "Army",
          "Army",
          "Navy",
          "Princeton",
          "Navy",
          "Wake Forest",
          "Navy",
          "Princeton",
          "North Carolina",
          "North Carolina",
          "Air Force",
          "Air Force",
          "Air Force",
          "Air Force",
          "Princeton",
          "North Carolina",
          "Wake Forest",
          "Wake Forest",
          "North Carolina",
          "Jackson St.",
          "Penn",
          "North Carolina",
          "Jackson St.",
          "Air Force",
          "Navy",
          "Cornell",
          "Cornell",
          "Army",
          "Princeton",
          "Wake Forest",
          "Army",
          "Wake Forest",
          "Delaware St.",
          "Cornell",
          "Cornell",
          "Delaware St.",
          "Princeton",
          "Cornell",
          "Wake Forest",
          "Wake Forest",
          "Cornell",
          "North Carolina",
          "Wake Forest",
          "Princeton",
          "Princeton",
          "Jackson St.",
          "Princeton",
          "Princeton",
          "Wake Forest",
          "Delaware St.",
          "Navy",
          "Navy",
          "Army",
          "Penn",
          "Air Force",
          "Penn",
          "Penn",
          "Princeton",
          "Penn",
          "Penn",
          "Delaware St.",
          "Wake Forest",
          "Jackson St.",
          "Princeton",
          "Princeton",
          "North Carolina",
          "Army",
          "Navy",
          "Navy",
          "Delaware St.",
          "Cornell",
          "Cornell",
          "Cornell",
          "Penn",
          "Penn",
          "Penn",
          "Air Force",
          "Air Force",
          "Air Force",
          "Air Force",
          "North Carolina",
          "Delaware St.",
          "Cornell",
          "North Carolina",
          "Cornell",
          "Navy",
          "Army",
          "Army",
          "North Carolina",
          "North Carolina",
          "North Carolina",
          "Wake Forest",
          "Wake Forest",
          "Princeton",
          "Navy",
          "Cornell",
          "Penn",
          "Penn",
          "Penn",
          "Jackson St.",
          "Navy",
          "Navy",
          "Delaware St.",
          "Delaware St.",
          "Delaware St.",
          "Army",
          "Delaware St.",
          "North Carolina",
          "Army",
          "Army",
          "Army",
          "Army",
          "Army",
          "Army",
          "Navy",
          "Wake Forest",
          "North Carolina",
          "Air Force",
          "Air Force",
          "Air Force",
          "North Carolina",
          "Wake Forest",
          "Wake Forest",
          "North Carolina",
          "Penn",
          "North Carolina",
          "Air Force",
          "Navy",
          "Delaware St.",
          "Delaware St.",
          "Penn",
          "Air Force",
          "Navy",
          "Princeton",
          "Princeton",
          "Wake Forest",
          "Wake Forest",
          "Delaware St.",
          "Delaware St.",
          "Delaware St.",
          "Delaware St.",
          "Princeton",
          "Princeton",
          "Princeton",
          "Princeton",
          "Penn",
          "Army",
          "Jackson St.",
          "Navy",
          "Cornell",
          "Cornell",
          "Jackson St.",
          "Cornell",
          "Delaware St.",
          "North Carolina",
          "Navy",
          "Navy",
          "Navy",
          "Navy",
          "Princeton",
          "Jackson St.",
          "Army",
          "Penn",
          "Penn",
          "Penn",
          "Army",
          "Jackson St.",
          "Jackson St.",
          "Jackson St.",
          "Jackson St.",
          "Jackson St.",
          "Jackson St.",
          "Navy",
          "North Carolina",
          "North Carolina",
          "Army",
          "Air Force",
          "Penn",
          "Jackson St.",
          "Jackson St.",
          "Navy",
          "Air Force",
          "Air Force",
          "Air Force",
          "Air Force",
          "Air Force",
          "Cornell",
          "Cornell",
          "Cornell",
          "Cornell",
          "Army",
          "Cornell",
          "Princeton",
          "Wake Forest",
          "Wake Forest",
          "Cornell",
          "Wake Forest",
          "Delaware St.",
          "Delaware St.",
          "Princeton",
          "Jackson St.",
          "Wake Forest",
          "Wake Forest",
          "Princeton",
          "Wake Forest",
          "Jackson St.",
          "Wake Forest",
          "Jackson St.",
          "North Carolina",
          "Princeton",
          "Princeton",
          "North Carolina",
          "Army",
          "Army",
          "Navy",
          "Navy",
          "Delaware St.",
          "Cornell",
          "Cornell",
          "Cornell",
          "Penn",
          "Air Force",
          "Air Force",
          "Air Force",
          "Air Force",
          "Delaware St.",
          "North Carolina",
          "Cornell",
          "Navy",
          "Wake Forest",
          "Army",
          "Army",
          "North Carolina",
          "North Carolina",
          "North Carolina",
          "Delaware St.",
          "Wake Forest",
          "Princeton",
          "Navy",
          "Cornell",
          "Penn",
          "Penn",
          "Navy",
          "Navy",
          "Delaware St.",
          "North Carolina",
          "Army",
          "Army",
          "Army",
          "Army",
          "Army",
          "Wake Forest",
          "Air Force",
          "Wake Forest",
          "Wake Forest",
          "North Carolina",
          "Penn",
          "Jackson St.",
          "Air Force",
          "Navy",
          "Delaware St.",
          "Penn",
          "Princeton",
          "Princeton",
          "Wake Forest",
          "Wake Forest",
          "Delaware St.",
          "Delaware St.",
          "Delaware St.",
          "Delaware St.",
          "Princeton",
          "Princeton",
          "Princeton",
          "Princeton",
          "Army",
          "Navy",
          "Cornell",
          "Cornell",
          "North Carolina",
          "Navy",
          "Navy",
          "Navy",
          "Princeton",
          "Jackson St.",
          "Army",
          "Penn",
          "Penn",
          "Army",
          "Jackson St.",
          "Jackson St.",
          "Jackson St.",
          "Jackson St.",
          "Jackson St.",
          "North Carolina",
          "North Carolina",
          "Army",
          "Jackson St.",
          "Navy",
          "Air Force",
          "Air Force",
          "Cornell",
          "Cornell",
          "Cornell",
          "Cornell",
          "Army",
          "Penn",
          "Penn",
          "Penn",
          "Army",
          "Princeton",
          "Princeton",
          "Cornell",
          "Wake Forest",
          "Wake Forest",
          "Cornell",
          "Cornell",
          "Army",
          "Cornell",
          "Wake Forest",
          "Delaware St.",
          "Princeton",
          "Navy",
          "Navy",
          "Wake Forest",
          "North Carolina",
          "North Carolina",
          "Air Force",
          "North Carolina",
          "Jackson St.",
          "Jackson St.",
          "Jackson St.",
          "Navy",
          "Navy",
          "Navy",
          "North Carolina",
          "North Carolina",
          "North Carolina",
          "Air Force",
          "Air Force",
          "Air Force",
          "Air Force",
          "Air Force",
          "Air Force",
          "Air Force",
          "Cornell",
          "Jackson St.",
          "Jackson St.",
          "Army",
          "Army",
          "Army",
          "Army",
          "Delaware St.",
          "Penn",
          "Penn",
          "Penn",
          "Air Force",
          "Jackson St.",
          "Delaware St.",
          "Delaware St.",
          "Delaware St.",
          "Penn",
          "Princeton",
          "Navy",
          "Princeton",
          "Princeton",
          "Wake Forest",
          "Air Force",
          "Delaware St.",
          "Jackson St.",
          "Cornell",
          "Wake Forest",
          "Wake Forest",
          "Wake Forest",
          "Wake Forest",
          "Jackson St.",
          "North Carolina",
          "Army",
          "Army",
          "Delaware St.",
          "Wake Forest",
          "Navy",
          "Cornell",
          "Penn",
          "Penn",
          "Navy",
          "Navy",
          "Delaware St.",
          "North Carolina",
          "Army",
          "Army",
          "Army",
          "Army",
          "Army",
          "Air Force",
          "Wake Forest",
          "Wake Forest",
          "Jackson St.",
          "Air Force",
          "Princeton",
          "Wake Forest",
          "Wake Forest",
          "Delaware St.",
          "Princeton",
          "Princeton",
          "Princeton",
          "Navy",
          "Cornell",
          "Cornell",
          "North Carolina",
          "Navy",
          "Navy",
          "Navy",
          "Navy",
          "Princeton",
          "Jackson St.",
          "Army",
          "Penn",
          "Penn",
          "Army",
          "Jackson St.",
          "Jackson St.",
          "Jackson St.",
          "North Carolina",
          "North Carolina",
          "Army",
          "Jackson St.",
          "Air Force",
          "Air Force",
          "Cornell",
          "Cornell",
          "Cornell",
          "Penn",
          "Penn",
          "Penn",
          "Army",
          "Princeton",
          "Princeton",
          "Cornell",
          "Wake Forest",
          "Wake Forest",
          "Cornell",
          "Cornell",
          "Cornell",
          "Wake Forest",
          "Princeton",
          "Delaware St.",
          "Navy",
          "Navy",
          "Wake Forest",
          "North Carolina",
          "North Carolina",
          "Air Force",
          "North Carolina",
          "Jackson St.",
          "Jackson St.",
          "Navy",
          "Navy",
          "Navy",
          "North Carolina",
          "North Carolina",
          "Air Force",
          "Air Force",
          "Air Force",
          "Air Force",
          "Air Force",
          "Air Force",
          "Jackson St.",
          "Army",
          "Army",
          "Delaware St.",
          "Penn",
          "Penn",
          "Air Force",
          "Delaware St.",
          "Delaware St.",
          "Penn",
          "Princeton",
          "Princeton",
          "Princeton",
          "Penn",
          "Penn",
          "Penn",
          "Cornell",
          "Army",
          "Army",
          "Cornell",
          "Delaware St.",
          "Delaware St.",
          "Navy",
          "Army",
          "Army",
          "Delaware St.",
          "Delaware St.",
          "Delaware St.",
          "Delaware St.",
          "Delaware St.",
          "Jackson St.",
          "Jackson St.",
          "Navy",
          "Wake Forest",
          "Jackson St.",
          "Wake Forest",
          "Wake Forest",
          "North Carolina",
          "Delaware St.",
          "North Carolina",
          "Wake Forest",
          "Navy",
          "Navy",
          "Wake Forest",
          "Cornell",
          "Army",
          "Army",
          "Wake Forest",
          "Penn",
          "Penn",
          "Princeton",
          "Princeton",
          "North Carolina",
          "Princeton",
          "Delaware St.",
          "Cornell",
          "Cornell",
          "Cornell",
          "Air Force",
          "Air Force",
          "Air Force",
          "Air Force",
          "Air Force",
          "Air Force",
          "Air Force",
          "Cornell",
          "Jackson St.",
          "Jackson St.",
          "Jackson St.",
          "North Carolina",
          "Princeton",
          "Jackson St.",
          "Wake Forest",
          "Delaware St.",
          "Wake Forest",
          "Penn",
          "North Carolina",
          "Princeton",
          "Cornell",
          "Wake Forest",
          "Princeton",
          "Wake Forest",
          "Princeton",
          "Princeton",
          "Princeton",
          "Navy",
          "Cornell",
          "Cornell",
          "North Carolina",
          "Navy",
          "Navy",
          "Navy",
          "Navy",
          "Princeton",
          "Army",
          "Penn",
          "Army",
          "Jackson St.",
          "Jackson St.",
          "North Carolina",
          "North Carolina",
          "Army",
          "Air Force",
          "Air Force",
          "Cornell",
          "Cornell",
          "Cornell",
          "Penn",
          "Penn",
          "Army",
          "Princeton",
          "Wake Forest",
          "Cornell",
          "Cornell",
          "Wake Forest",
          "Princeton",
          "Delaware St.",
          "Navy",
          "Navy",
          "Wake Forest",
          "North Carolina",
          "North Carolina",
          "Air Force",
          "Jackson St.",
          "Navy",
          "Navy",
          "Air Force",
          "Air Force",
          "Air Force",
          "Air Force",
          "Army",
          "Army",
          "Delaware St.",
          "Penn",
          "Air Force",
          "Delaware St.",
          "Delaware St.",
          "Penn",
          "Princeton",
          "Princeton",
          "Princeton",
          "Penn",
          "Penn",
          "Penn",
          "Penn",
          "Cornell",
          "Wake Forest",
          "Navy",
          "Army",
          "Army",
          "Cornell",
          "Delaware St.",
          "Navy",
          "Army",
          "Army",
          "Army",
          "Delaware St.",
          "Delaware St.",
          "Delaware St.",
          "Delaware St.",
          "Delaware St.",
          "Jackson St.",
          "Wake Forest",
          "Jackson St.",
          "Wake Forest",
          "Wake Forest",
          "North Carolina",
          "Delaware St.",
          "Navy",
          "Navy",
          "Navy",
          "Navy",
          "Cornell",
          "Cornell",
          "Army",
          "Penn",
          "Penn",
          "Princeton",
          "Princeton",
          "North Carolina",
          "Princeton",
          "Cornell",
          "Cornell",
          "Cornell",
          "Air Force",
          "Air Force",
          "Jackson St.",
          "Jackson St.",
          "North Carolina",
          "Princeton",
          "Jackson St.",
          "North Carolina",
          "Navy",
          "Navy",
          "Delaware St.",
          "Delaware St.",
          "Air Force",
          "Air Force",
          "Air Force",
          "Princeton",
          "Princeton",
          "Wake Forest",
          "Delaware St.",
          "Navy",
          "Jackson St.",
          "Air Force",
          "Army",
          "Army",
          "Army",
          "Penn",
          "Penn",
          "Penn",
          "Penn",
          "Penn",
          "Penn",
          "Penn",
          "Jackson St.",
          "Princeton",
          "Princeton",
          "Princeton",
          "Air Force",
          "Air Force",
          "Jackson St.",
          "Air Force",
          "Wake Forest",
          "Delaware St.",
          "Jackson St.",
          "Jackson St.",
          "Jackson St.",
          "Wake Forest",
          "Wake Forest",
          "Wake Forest",
          "Wake Forest",
          "North Carolina",
          "North Carolina",
          "North Carolina",
          "Delaware St.",
          "Cornell",
          "Jackson St.",
          "Jackson St.",
          "Penn",
          "Penn",
          "Penn",
          "Princeton",
          "Jackson St.",
          "Wake Forest",
          "Cornell",
          "Cornell",
          "Cornell",
          "Jackson St.",
          "Navy",
          "Navy",
          "Wake Forest",
          "North Carolina",
          "North Carolina",
          "Air Force",
          "Navy",
          "Navy",
          "Air Force",
          "Air Force",
          "Air Force",
          "Air Force",
          "Army",
          "Army",
          "Army",
          "Delaware St.",
          "Penn",
          "Delaware St.",
          "Princeton",
          "Princeton",
          "Princeton",
          "Penn",
          "Penn",
          "Penn",
          "Cornell",
          "Wake Forest",
          "Navy",
          "Army",
          "Cornell",
          "Navy",
          "Army",
          "Army",
          "Army",
          "Army",
          "Delaware St.",
          "Delaware St.",
          "Jackson St.",
          "Wake Forest",
          "Jackson St.",
          "Wake Forest",
          "Wake Forest",
          "Wake Forest",
          "North Carolina",
          "Navy",
          "Navy",
          "Navy",
          "Cornell",
          "Army",
          "Wake Forest",
          "Penn",
          "Penn",
          "Princeton",
          "Princeton",
          "North Carolina",
          "Princeton",
          "Cornell",
          "Air Force",
          "Air Force",
          "Jackson St.",
          "Princeton",
          "North Carolina",
          "Navy",
          "Delaware St.",
          "Delaware St.",
          "Air Force",
          "Air Force",
          "Air Force",
          "Princeton",
          "Jackson St.",
          "Wake Forest",
          "Delaware St.",
          "Navy",
          "Navy",
          "Air Force",
          "Army",
          "Army",
          "Penn",
          "Penn",
          "Penn",
          "Penn",
          "Penn",
          "Penn",
          "Penn",
          "Princeton",
          "Princeton",
          "Princeton",
          "Air Force",
          "Jackson St.",
          "Air Force",
          "Jackson St.",
          "Jackson St.",
          "Wake Forest",
          "Wake Forest",
          "Wake Forest",
          "North Carolina",
          "North Carolina",
          "North Carolina",
          "Delaware St.",
          "Army",
          "North Carolina",
          "Cornell",
          "Cornell",
          "Cornell",
          "Cornell",
          "Cornell",
          "Wake Forest",
          "Wake Forest",
          "Wake Forest",
          "Wake Forest",
          "Cornell",
          "North Carolina",
          "North Carolina",
          "North Carolina",
          "North Carolina",
          "North Carolina",
          "Jackson St.",
          "Jackson St.",
          "Jackson St.",
          "Air Force",
          "Penn",
          "Princeton",
          "Princeton",
          "Princeton",
          "Princeton",
          "Princeton",
          "Air Force",
          "Air Force",
          "Air Force",
          "Delaware St.",
          "Jackson St.",
          "Penn",
          "Jackson St.",
          "Jackson St.",
          "North Carolina",
          "Navy",
          "Navy",
          "Navy",
          "Navy",
          "Navy",
          "Navy",
          "Navy",
          "Delaware St.",
          "Delaware St.",
          "Delaware St.",
          "Delaware St.",
          "Delaware St.",
          "Delaware St.",
          "Delaware St.",
          "Army",
          "Army",
          "Army",
          "Delaware St.",
          "Army",
          "Army",
          "North Carolina"
         ],
         "xaxis": "x",
         "y": [
          1,
          1,
          1,
          1,
          1,
          1,
          1,
          1,
          1,
          1,
          1,
          1,
          1,
          1,
          1,
          1,
          1,
          1,
          1,
          1,
          1,
          1,
          1,
          1,
          1,
          1,
          1,
          1,
          1,
          1,
          1,
          1,
          1,
          1,
          1,
          1,
          1,
          1,
          1,
          1,
          1,
          1,
          1,
          1,
          1,
          1,
          1,
          1,
          1,
          1,
          1,
          1,
          1,
          1,
          1,
          1,
          1,
          1,
          1,
          1,
          1,
          1,
          1,
          1,
          1,
          1,
          1,
          1,
          1,
          1,
          1,
          1,
          1,
          1,
          1,
          1,
          1,
          1,
          1,
          1,
          1,
          1,
          1,
          1,
          1,
          1,
          1,
          1,
          1,
          1,
          1,
          1,
          1,
          1,
          1,
          1,
          1,
          1,
          1,
          1,
          1,
          1,
          1,
          1,
          1,
          1,
          1,
          1,
          1,
          1,
          1,
          1,
          1,
          1,
          1,
          1,
          1,
          1,
          1,
          1,
          1,
          1,
          1,
          1,
          1,
          1,
          1,
          1,
          1,
          1,
          1,
          1,
          1,
          1,
          1,
          1,
          1,
          1,
          1,
          1,
          1,
          1,
          1,
          1,
          1,
          1,
          1,
          1,
          1,
          1,
          1,
          1,
          1,
          1,
          1,
          1,
          1,
          1,
          1,
          1,
          1,
          1,
          1,
          1,
          1,
          1,
          1,
          1,
          1,
          1,
          1,
          1,
          1,
          1,
          1,
          1,
          1,
          1,
          1,
          1,
          1,
          1,
          1,
          1,
          1,
          1,
          1,
          1,
          1,
          1,
          1,
          1,
          1,
          1,
          1,
          1,
          1,
          1,
          1,
          1,
          1,
          1,
          1,
          1,
          1,
          1,
          1,
          1,
          1,
          1,
          1,
          1,
          1,
          1,
          1,
          1,
          1,
          1,
          1,
          1,
          1,
          1,
          1,
          1,
          1,
          1,
          1,
          1,
          1,
          1,
          1,
          1,
          1,
          1,
          1,
          1,
          1,
          1,
          1,
          1,
          1,
          1,
          1,
          1,
          1,
          1,
          1,
          1,
          1,
          1,
          1,
          1,
          1,
          1,
          1,
          1,
          1,
          1,
          1,
          1,
          1,
          1,
          1,
          1,
          1,
          1,
          1,
          1,
          1,
          1,
          1,
          1,
          1,
          1,
          1,
          1,
          1,
          1,
          1,
          1,
          1,
          1,
          1,
          1,
          1,
          1,
          1,
          1,
          1,
          1,
          1,
          1,
          1,
          1,
          1,
          1,
          1,
          1,
          1,
          1,
          1,
          1,
          1,
          1,
          1,
          1,
          1,
          1,
          1,
          1,
          1,
          1,
          1,
          1,
          1,
          1,
          1,
          1,
          1,
          1,
          1,
          1,
          1,
          1,
          1,
          1,
          1,
          1,
          1,
          1,
          1,
          1,
          1,
          1,
          1,
          1,
          1,
          1,
          1,
          1,
          1,
          1,
          1,
          1,
          1,
          1,
          1,
          1,
          1,
          1,
          1,
          1,
          1,
          1,
          1,
          1,
          1,
          1,
          1,
          1,
          1,
          1,
          1,
          1,
          1,
          1,
          1,
          1,
          1,
          1,
          1,
          1,
          1,
          1,
          1,
          1,
          1,
          1,
          1,
          1,
          1,
          1,
          1,
          1,
          1,
          1,
          1,
          1,
          1,
          1,
          1,
          1,
          1,
          1,
          1,
          1,
          1,
          1,
          1,
          1,
          1,
          1,
          1,
          1,
          1,
          1,
          1,
          1,
          1,
          1,
          1,
          1,
          1,
          1,
          1,
          1,
          1,
          1,
          1,
          1,
          1,
          1,
          1,
          1,
          1,
          1,
          1,
          1,
          1,
          1,
          1,
          1,
          1,
          1,
          1,
          1,
          1,
          1,
          1,
          1,
          1,
          1,
          1,
          1,
          1,
          1,
          1,
          1,
          1,
          1,
          1,
          1,
          1,
          1,
          1,
          1,
          1,
          1,
          1,
          1,
          1,
          1,
          1,
          1,
          1,
          1,
          1,
          1,
          1,
          1,
          1,
          1,
          1,
          1,
          1,
          1,
          1,
          1,
          1,
          1,
          1,
          1,
          1,
          1,
          1,
          1,
          1,
          1,
          1,
          1,
          1,
          1,
          1,
          1,
          1,
          1,
          1,
          1,
          1,
          1,
          1,
          1,
          1,
          1,
          1,
          1,
          1,
          1,
          1,
          1,
          1,
          1,
          1,
          1,
          1,
          1,
          1,
          1,
          1,
          1,
          1,
          1,
          1,
          1,
          1,
          1,
          1,
          1,
          1,
          1,
          1,
          1,
          1,
          1,
          1,
          1,
          1,
          1,
          1,
          1,
          1,
          1,
          1,
          1,
          1,
          1,
          1,
          1,
          1,
          1,
          1,
          1,
          1,
          1,
          1,
          1,
          1,
          1,
          1,
          1,
          1,
          1,
          1,
          1,
          1,
          1,
          1,
          1,
          1,
          1,
          1,
          1,
          1,
          1,
          1,
          1,
          1,
          1,
          1,
          1,
          1,
          1,
          1,
          1,
          1,
          1,
          1,
          1,
          1,
          1,
          1,
          1,
          1,
          1,
          1,
          1,
          1,
          1,
          1,
          1,
          1,
          1,
          1,
          1,
          1,
          1,
          1,
          1,
          1,
          1,
          1,
          1,
          1,
          1,
          1,
          1,
          1,
          1,
          1,
          1,
          1,
          1,
          1,
          1,
          1,
          1,
          1,
          1,
          1,
          1,
          1,
          1,
          1,
          1,
          1,
          1,
          1,
          1,
          1,
          1,
          1,
          1,
          1,
          1,
          1,
          1,
          1,
          1,
          1,
          1,
          1,
          1,
          1,
          1,
          1,
          1,
          1,
          1,
          1,
          1,
          1,
          1,
          1,
          1,
          1,
          1,
          1,
          1,
          1,
          1,
          1,
          1,
          1,
          1,
          1,
          1,
          1,
          1,
          1,
          1,
          1,
          1,
          1,
          1,
          1,
          1,
          1,
          1,
          1,
          1,
          1,
          1,
          1,
          1,
          1,
          1,
          1,
          1,
          1,
          1,
          1,
          1,
          1,
          1,
          1,
          1,
          1,
          1,
          1,
          1,
          1,
          1,
          1,
          1,
          1,
          1,
          1,
          1,
          1,
          1,
          1,
          1,
          1,
          1,
          1,
          1,
          1,
          1,
          1,
          1,
          1,
          1,
          1,
          1,
          1,
          1,
          1,
          1,
          1,
          1,
          1,
          1,
          1,
          1,
          1,
          1,
          1,
          1,
          1,
          1,
          1,
          1,
          1,
          1,
          1,
          1,
          1,
          1,
          1,
          1,
          1,
          1,
          1,
          1,
          1,
          1,
          1,
          1,
          1,
          1,
          1,
          1,
          1,
          1,
          1,
          1,
          1,
          1,
          1,
          1,
          1,
          1,
          1,
          1,
          1,
          1,
          1,
          1,
          1,
          1,
          1,
          1,
          1,
          1,
          1,
          1,
          1,
          1,
          1,
          1,
          1,
          1,
          1,
          1,
          1,
          1,
          1,
          1,
          1,
          1,
          1,
          1,
          1,
          1,
          1,
          1,
          1,
          1,
          1,
          1,
          1,
          1,
          1,
          1,
          1,
          1,
          1,
          1,
          1,
          1,
          1,
          1,
          1,
          1,
          1,
          1,
          1,
          1,
          1,
          1,
          1,
          1,
          1,
          1,
          1,
          1,
          1,
          1,
          1,
          1,
          1,
          1,
          1,
          1,
          1,
          1,
          1,
          1,
          1,
          1,
          1,
          1,
          1,
          1,
          1,
          1,
          1,
          1,
          1,
          1,
          1,
          1,
          1,
          1,
          1,
          1,
          1,
          1,
          1,
          1,
          1,
          1,
          1,
          1,
          1,
          1,
          1,
          1,
          1,
          1,
          1,
          1,
          1,
          1,
          1,
          1,
          1,
          1,
          1,
          1,
          1,
          1,
          1,
          1,
          1,
          1,
          1,
          1,
          1,
          1,
          1,
          1,
          1,
          1,
          1,
          1,
          1,
          1,
          1,
          1,
          1,
          1,
          1,
          1,
          1,
          1,
          1,
          1,
          1,
          1,
          1,
          1,
          1,
          1,
          1,
          1,
          1,
          1,
          1,
          1,
          1,
          1,
          1,
          1,
          1,
          1,
          1,
          1,
          1,
          1,
          1,
          1,
          1,
          1,
          1,
          1,
          1,
          1,
          1,
          1,
          1,
          1,
          1,
          1,
          1,
          1,
          1,
          1,
          1,
          1,
          1,
          1,
          1,
          1,
          1,
          1,
          1,
          1,
          1,
          1,
          1,
          1,
          1,
          1,
          1,
          1,
          1,
          1,
          1,
          1,
          1,
          1,
          1,
          1,
          1,
          1,
          1,
          1,
          1,
          1,
          1,
          1,
          1,
          1,
          1,
          1,
          1,
          1,
          1,
          1,
          1,
          1,
          1,
          1,
          1,
          1,
          1,
          1,
          1,
          1,
          1,
          1,
          1,
          1,
          1,
          1,
          1,
          1,
          1,
          1,
          1,
          1,
          1,
          1,
          1,
          1,
          1,
          1,
          1,
          1,
          1,
          1,
          1,
          1,
          1,
          1,
          1,
          1,
          1,
          1,
          1,
          1,
          1,
          1,
          1,
          1,
          1,
          1,
          1,
          1,
          1,
          1,
          1,
          1,
          1,
          1,
          1,
          1,
          1,
          1,
          1,
          1,
          1,
          1,
          1,
          1,
          1,
          1,
          1,
          1,
          1,
          1,
          1,
          1,
          1,
          1,
          1,
          1,
          1,
          1,
          1,
          1,
          1,
          1,
          1,
          1,
          1,
          1,
          1,
          1,
          1,
          1,
          1,
          1,
          1,
          1,
          1,
          1,
          1,
          1,
          1,
          1,
          1,
          1,
          1,
          1,
          1,
          1,
          1,
          1,
          1,
          1,
          1,
          1,
          1,
          1,
          1,
          1,
          1,
          1,
          1,
          1,
          1,
          1,
          1,
          1,
          1,
          1,
          1,
          1,
          1,
          1,
          1,
          1,
          1,
          1,
          1,
          1,
          1,
          1,
          1,
          1,
          1,
          1,
          1,
          1,
          1,
          1,
          1,
          1,
          1,
          1,
          1,
          1,
          1,
          1,
          1,
          1,
          1,
          1,
          1,
          1,
          1,
          1,
          1,
          1,
          1,
          1,
          1,
          1,
          1,
          1,
          1,
          1,
          1,
          1,
          1,
          1,
          1,
          1,
          1,
          1,
          1,
          1,
          1,
          1,
          1,
          1,
          1,
          1,
          1,
          1,
          1,
          1,
          1,
          1,
          1,
          1,
          1,
          1,
          1,
          1,
          1,
          1,
          1,
          1,
          1,
          1,
          1,
          1,
          1,
          1,
          1,
          1,
          1,
          1,
          1,
          1,
          1,
          1,
          1,
          1,
          1,
          1,
          1,
          1,
          1,
          1,
          1,
          1,
          1,
          1,
          1,
          1,
          1,
          1,
          1,
          1,
          1,
          1,
          1,
          1,
          1,
          1,
          1,
          1,
          1,
          1,
          1,
          1,
          1,
          1,
          1,
          1,
          1,
          1,
          1,
          1,
          1,
          1,
          1,
          1,
          1,
          1,
          1,
          1,
          1,
          1,
          1,
          1,
          1,
          1,
          1,
          1,
          1,
          1,
          1,
          1,
          1,
          1,
          1,
          1,
          1,
          1,
          1,
          1,
          1,
          1,
          1,
          1,
          1,
          1,
          1,
          1,
          1,
          1,
          1,
          1,
          1,
          1,
          1,
          1,
          1,
          1,
          1,
          1,
          1,
          1,
          1,
          1,
          1,
          1,
          1,
          1,
          1,
          1,
          1,
          1,
          1,
          1,
          1,
          1,
          1,
          1,
          1,
          1,
          1,
          1,
          1,
          1,
          1,
          1,
          1,
          1,
          1,
          1,
          1,
          1,
          1,
          1,
          1,
          1,
          1,
          1,
          1,
          1,
          1,
          1,
          1,
          1,
          1,
          1,
          1,
          1,
          1,
          1,
          1,
          1,
          1,
          1,
          1,
          1,
          1,
          1,
          1,
          1,
          1,
          1,
          1,
          1,
          1,
          1,
          1,
          1,
          1,
          1,
          1,
          1,
          1,
          1,
          1,
          1,
          1,
          1,
          1,
          1,
          1,
          1,
          1,
          1,
          1,
          1,
          1,
          1,
          1,
          1,
          1,
          1,
          1,
          1,
          1,
          1,
          1,
          1,
          1,
          1,
          1,
          1,
          1,
          1,
          1,
          1,
          1,
          1,
          1,
          1,
          1,
          1,
          1,
          1,
          1,
          1,
          1,
          1,
          1,
          1,
          1,
          1,
          1,
          1,
          1,
          1,
          1,
          1,
          1,
          1,
          1,
          1,
          1,
          1,
          1,
          1,
          1,
          1,
          1,
          1,
          1,
          1,
          1,
          1,
          1,
          1,
          1,
          1,
          1,
          1,
          1,
          1,
          1,
          1,
          1,
          1,
          1,
          1,
          1,
          1,
          1,
          1,
          1,
          1,
          1,
          1,
          1,
          1,
          1,
          1,
          1,
          1,
          1,
          1,
          1,
          1,
          1,
          1,
          1,
          1,
          1,
          1,
          1,
          1,
          1,
          1,
          1,
          1,
          1,
          1,
          1,
          1,
          1,
          1,
          1,
          1,
          1,
          1,
          1,
          1,
          1,
          1,
          1,
          1,
          1,
          1,
          1,
          1,
          1,
          1,
          1,
          1,
          1,
          1,
          1,
          1,
          1,
          1,
          1,
          1,
          1,
          1,
          1,
          1,
          1,
          1,
          1,
          1,
          1,
          1,
          1,
          1,
          1,
          1,
          1,
          1,
          1,
          1,
          1,
          1,
          1,
          1,
          1,
          1,
          1,
          1,
          1,
          1,
          1,
          1,
          1,
          1,
          1,
          1,
          1,
          1,
          1,
          1,
          1,
          1,
          1,
          1,
          1,
          1,
          1,
          1,
          1,
          1,
          1,
          1,
          1,
          1,
          1,
          1,
          1,
          1,
          1,
          1,
          1,
          1,
          1,
          1,
          1,
          1,
          1,
          1,
          1,
          1,
          1,
          1,
          1,
          1,
          1,
          1,
          1,
          1,
          1,
          1,
          1,
          1,
          1,
          1
         ],
         "yaxis": "y"
        }
       ],
       "layout": {
        "barmode": "relative",
        "height": 500,
        "legend": {
         "tracegroupgap": 0
        },
        "template": {
         "data": {
          "bar": [
           {
            "error_x": {
             "color": "#2a3f5f"
            },
            "error_y": {
             "color": "#2a3f5f"
            },
            "marker": {
             "line": {
              "color": "white",
              "width": 0.5
             },
             "pattern": {
              "fillmode": "overlay",
              "size": 10,
              "solidity": 0.2
             }
            },
            "type": "bar"
           }
          ],
          "barpolar": [
           {
            "marker": {
             "line": {
              "color": "white",
              "width": 0.5
             },
             "pattern": {
              "fillmode": "overlay",
              "size": 10,
              "solidity": 0.2
             }
            },
            "type": "barpolar"
           }
          ],
          "carpet": [
           {
            "aaxis": {
             "endlinecolor": "#2a3f5f",
             "gridcolor": "#C8D4E3",
             "linecolor": "#C8D4E3",
             "minorgridcolor": "#C8D4E3",
             "startlinecolor": "#2a3f5f"
            },
            "baxis": {
             "endlinecolor": "#2a3f5f",
             "gridcolor": "#C8D4E3",
             "linecolor": "#C8D4E3",
             "minorgridcolor": "#C8D4E3",
             "startlinecolor": "#2a3f5f"
            },
            "type": "carpet"
           }
          ],
          "choropleth": [
           {
            "colorbar": {
             "outlinewidth": 0,
             "ticks": ""
            },
            "type": "choropleth"
           }
          ],
          "contour": [
           {
            "colorbar": {
             "outlinewidth": 0,
             "ticks": ""
            },
            "colorscale": [
             [
              0,
              "#0d0887"
             ],
             [
              0.1111111111111111,
              "#46039f"
             ],
             [
              0.2222222222222222,
              "#7201a8"
             ],
             [
              0.3333333333333333,
              "#9c179e"
             ],
             [
              0.4444444444444444,
              "#bd3786"
             ],
             [
              0.5555555555555556,
              "#d8576b"
             ],
             [
              0.6666666666666666,
              "#ed7953"
             ],
             [
              0.7777777777777778,
              "#fb9f3a"
             ],
             [
              0.8888888888888888,
              "#fdca26"
             ],
             [
              1,
              "#f0f921"
             ]
            ],
            "type": "contour"
           }
          ],
          "contourcarpet": [
           {
            "colorbar": {
             "outlinewidth": 0,
             "ticks": ""
            },
            "type": "contourcarpet"
           }
          ],
          "heatmap": [
           {
            "colorbar": {
             "outlinewidth": 0,
             "ticks": ""
            },
            "colorscale": [
             [
              0,
              "#0d0887"
             ],
             [
              0.1111111111111111,
              "#46039f"
             ],
             [
              0.2222222222222222,
              "#7201a8"
             ],
             [
              0.3333333333333333,
              "#9c179e"
             ],
             [
              0.4444444444444444,
              "#bd3786"
             ],
             [
              0.5555555555555556,
              "#d8576b"
             ],
             [
              0.6666666666666666,
              "#ed7953"
             ],
             [
              0.7777777777777778,
              "#fb9f3a"
             ],
             [
              0.8888888888888888,
              "#fdca26"
             ],
             [
              1,
              "#f0f921"
             ]
            ],
            "type": "heatmap"
           }
          ],
          "heatmapgl": [
           {
            "colorbar": {
             "outlinewidth": 0,
             "ticks": ""
            },
            "colorscale": [
             [
              0,
              "#0d0887"
             ],
             [
              0.1111111111111111,
              "#46039f"
             ],
             [
              0.2222222222222222,
              "#7201a8"
             ],
             [
              0.3333333333333333,
              "#9c179e"
             ],
             [
              0.4444444444444444,
              "#bd3786"
             ],
             [
              0.5555555555555556,
              "#d8576b"
             ],
             [
              0.6666666666666666,
              "#ed7953"
             ],
             [
              0.7777777777777778,
              "#fb9f3a"
             ],
             [
              0.8888888888888888,
              "#fdca26"
             ],
             [
              1,
              "#f0f921"
             ]
            ],
            "type": "heatmapgl"
           }
          ],
          "histogram": [
           {
            "marker": {
             "pattern": {
              "fillmode": "overlay",
              "size": 10,
              "solidity": 0.2
             }
            },
            "type": "histogram"
           }
          ],
          "histogram2d": [
           {
            "colorbar": {
             "outlinewidth": 0,
             "ticks": ""
            },
            "colorscale": [
             [
              0,
              "#0d0887"
             ],
             [
              0.1111111111111111,
              "#46039f"
             ],
             [
              0.2222222222222222,
              "#7201a8"
             ],
             [
              0.3333333333333333,
              "#9c179e"
             ],
             [
              0.4444444444444444,
              "#bd3786"
             ],
             [
              0.5555555555555556,
              "#d8576b"
             ],
             [
              0.6666666666666666,
              "#ed7953"
             ],
             [
              0.7777777777777778,
              "#fb9f3a"
             ],
             [
              0.8888888888888888,
              "#fdca26"
             ],
             [
              1,
              "#f0f921"
             ]
            ],
            "type": "histogram2d"
           }
          ],
          "histogram2dcontour": [
           {
            "colorbar": {
             "outlinewidth": 0,
             "ticks": ""
            },
            "colorscale": [
             [
              0,
              "#0d0887"
             ],
             [
              0.1111111111111111,
              "#46039f"
             ],
             [
              0.2222222222222222,
              "#7201a8"
             ],
             [
              0.3333333333333333,
              "#9c179e"
             ],
             [
              0.4444444444444444,
              "#bd3786"
             ],
             [
              0.5555555555555556,
              "#d8576b"
             ],
             [
              0.6666666666666666,
              "#ed7953"
             ],
             [
              0.7777777777777778,
              "#fb9f3a"
             ],
             [
              0.8888888888888888,
              "#fdca26"
             ],
             [
              1,
              "#f0f921"
             ]
            ],
            "type": "histogram2dcontour"
           }
          ],
          "mesh3d": [
           {
            "colorbar": {
             "outlinewidth": 0,
             "ticks": ""
            },
            "type": "mesh3d"
           }
          ],
          "parcoords": [
           {
            "line": {
             "colorbar": {
              "outlinewidth": 0,
              "ticks": ""
             }
            },
            "type": "parcoords"
           }
          ],
          "pie": [
           {
            "automargin": true,
            "type": "pie"
           }
          ],
          "scatter": [
           {
            "fillpattern": {
             "fillmode": "overlay",
             "size": 10,
             "solidity": 0.2
            },
            "type": "scatter"
           }
          ],
          "scatter3d": [
           {
            "line": {
             "colorbar": {
              "outlinewidth": 0,
              "ticks": ""
             }
            },
            "marker": {
             "colorbar": {
              "outlinewidth": 0,
              "ticks": ""
             }
            },
            "type": "scatter3d"
           }
          ],
          "scattercarpet": [
           {
            "marker": {
             "colorbar": {
              "outlinewidth": 0,
              "ticks": ""
             }
            },
            "type": "scattercarpet"
           }
          ],
          "scattergeo": [
           {
            "marker": {
             "colorbar": {
              "outlinewidth": 0,
              "ticks": ""
             }
            },
            "type": "scattergeo"
           }
          ],
          "scattergl": [
           {
            "marker": {
             "colorbar": {
              "outlinewidth": 0,
              "ticks": ""
             }
            },
            "type": "scattergl"
           }
          ],
          "scattermapbox": [
           {
            "marker": {
             "colorbar": {
              "outlinewidth": 0,
              "ticks": ""
             }
            },
            "type": "scattermapbox"
           }
          ],
          "scatterpolar": [
           {
            "marker": {
             "colorbar": {
              "outlinewidth": 0,
              "ticks": ""
             }
            },
            "type": "scatterpolar"
           }
          ],
          "scatterpolargl": [
           {
            "marker": {
             "colorbar": {
              "outlinewidth": 0,
              "ticks": ""
             }
            },
            "type": "scatterpolargl"
           }
          ],
          "scatterternary": [
           {
            "marker": {
             "colorbar": {
              "outlinewidth": 0,
              "ticks": ""
             }
            },
            "type": "scatterternary"
           }
          ],
          "surface": [
           {
            "colorbar": {
             "outlinewidth": 0,
             "ticks": ""
            },
            "colorscale": [
             [
              0,
              "#0d0887"
             ],
             [
              0.1111111111111111,
              "#46039f"
             ],
             [
              0.2222222222222222,
              "#7201a8"
             ],
             [
              0.3333333333333333,
              "#9c179e"
             ],
             [
              0.4444444444444444,
              "#bd3786"
             ],
             [
              0.5555555555555556,
              "#d8576b"
             ],
             [
              0.6666666666666666,
              "#ed7953"
             ],
             [
              0.7777777777777778,
              "#fb9f3a"
             ],
             [
              0.8888888888888888,
              "#fdca26"
             ],
             [
              1,
              "#f0f921"
             ]
            ],
            "type": "surface"
           }
          ],
          "table": [
           {
            "cells": {
             "fill": {
              "color": "#EBF0F8"
             },
             "line": {
              "color": "white"
             }
            },
            "header": {
             "fill": {
              "color": "#C8D4E3"
             },
             "line": {
              "color": "white"
             }
            },
            "type": "table"
           }
          ]
         },
         "layout": {
          "annotationdefaults": {
           "arrowcolor": "#2a3f5f",
           "arrowhead": 0,
           "arrowwidth": 1
          },
          "autotypenumbers": "strict",
          "coloraxis": {
           "colorbar": {
            "outlinewidth": 0,
            "ticks": ""
           }
          },
          "colorscale": {
           "diverging": [
            [
             0,
             "#8e0152"
            ],
            [
             0.1,
             "#c51b7d"
            ],
            [
             0.2,
             "#de77ae"
            ],
            [
             0.3,
             "#f1b6da"
            ],
            [
             0.4,
             "#fde0ef"
            ],
            [
             0.5,
             "#f7f7f7"
            ],
            [
             0.6,
             "#e6f5d0"
            ],
            [
             0.7,
             "#b8e186"
            ],
            [
             0.8,
             "#7fbc41"
            ],
            [
             0.9,
             "#4d9221"
            ],
            [
             1,
             "#276419"
            ]
           ],
           "sequential": [
            [
             0,
             "#0d0887"
            ],
            [
             0.1111111111111111,
             "#46039f"
            ],
            [
             0.2222222222222222,
             "#7201a8"
            ],
            [
             0.3333333333333333,
             "#9c179e"
            ],
            [
             0.4444444444444444,
             "#bd3786"
            ],
            [
             0.5555555555555556,
             "#d8576b"
            ],
            [
             0.6666666666666666,
             "#ed7953"
            ],
            [
             0.7777777777777778,
             "#fb9f3a"
            ],
            [
             0.8888888888888888,
             "#fdca26"
            ],
            [
             1,
             "#f0f921"
            ]
           ],
           "sequentialminus": [
            [
             0,
             "#0d0887"
            ],
            [
             0.1111111111111111,
             "#46039f"
            ],
            [
             0.2222222222222222,
             "#7201a8"
            ],
            [
             0.3333333333333333,
             "#9c179e"
            ],
            [
             0.4444444444444444,
             "#bd3786"
            ],
            [
             0.5555555555555556,
             "#d8576b"
            ],
            [
             0.6666666666666666,
             "#ed7953"
            ],
            [
             0.7777777777777778,
             "#fb9f3a"
            ],
            [
             0.8888888888888888,
             "#fdca26"
            ],
            [
             1,
             "#f0f921"
            ]
           ]
          },
          "colorway": [
           "#636efa",
           "#EF553B",
           "#00cc96",
           "#ab63fa",
           "#FFA15A",
           "#19d3f3",
           "#FF6692",
           "#B6E880",
           "#FF97FF",
           "#FECB52"
          ],
          "font": {
           "color": "#2a3f5f"
          },
          "geo": {
           "bgcolor": "white",
           "lakecolor": "white",
           "landcolor": "white",
           "showlakes": true,
           "showland": true,
           "subunitcolor": "#C8D4E3"
          },
          "hoverlabel": {
           "align": "left"
          },
          "hovermode": "closest",
          "mapbox": {
           "style": "light"
          },
          "paper_bgcolor": "white",
          "plot_bgcolor": "white",
          "polar": {
           "angularaxis": {
            "gridcolor": "#EBF0F8",
            "linecolor": "#EBF0F8",
            "ticks": ""
           },
           "bgcolor": "white",
           "radialaxis": {
            "gridcolor": "#EBF0F8",
            "linecolor": "#EBF0F8",
            "ticks": ""
           }
          },
          "scene": {
           "xaxis": {
            "backgroundcolor": "white",
            "gridcolor": "#DFE8F3",
            "gridwidth": 2,
            "linecolor": "#EBF0F8",
            "showbackground": true,
            "ticks": "",
            "zerolinecolor": "#EBF0F8"
           },
           "yaxis": {
            "backgroundcolor": "white",
            "gridcolor": "#DFE8F3",
            "gridwidth": 2,
            "linecolor": "#EBF0F8",
            "showbackground": true,
            "ticks": "",
            "zerolinecolor": "#EBF0F8"
           },
           "zaxis": {
            "backgroundcolor": "white",
            "gridcolor": "#DFE8F3",
            "gridwidth": 2,
            "linecolor": "#EBF0F8",
            "showbackground": true,
            "ticks": "",
            "zerolinecolor": "#EBF0F8"
           }
          },
          "shapedefaults": {
           "line": {
            "color": "#2a3f5f"
           }
          },
          "ternary": {
           "aaxis": {
            "gridcolor": "#DFE8F3",
            "linecolor": "#A2B1C6",
            "ticks": ""
           },
           "baxis": {
            "gridcolor": "#DFE8F3",
            "linecolor": "#A2B1C6",
            "ticks": ""
           },
           "bgcolor": "white",
           "caxis": {
            "gridcolor": "#DFE8F3",
            "linecolor": "#A2B1C6",
            "ticks": ""
           }
          },
          "title": {
           "x": 0.05
          },
          "xaxis": {
           "automargin": true,
           "gridcolor": "#EBF0F8",
           "linecolor": "#EBF0F8",
           "ticks": "",
           "title": {
            "standoff": 15
           },
           "zerolinecolor": "#EBF0F8",
           "zerolinewidth": 2
          },
          "yaxis": {
           "automargin": true,
           "gridcolor": "#EBF0F8",
           "linecolor": "#EBF0F8",
           "ticks": "",
           "title": {
            "standoff": 15
           },
           "zerolinecolor": "#EBF0F8",
           "zerolinewidth": 2
          }
         }
        },
        "title": {
         "text": "Top Team with Undrafted Players Analysis"
        },
        "width": 800,
        "xaxis": {
         "anchor": "y",
         "domain": [
          0,
          1
         ],
         "tickmode": "linear",
         "title": {
          "text": "team"
         }
        },
        "yaxis": {
         "anchor": "x",
         "domain": [
          0,
          1
         ],
         "title": {
          "text": "Counts of Undrafted Players"
         }
        }
       }
      }
     },
     "metadata": {},
     "output_type": "display_data"
    },
    {
     "data": {
      "application/vnd.plotly.v1+json": {
       "config": {
        "plotlyServerURL": "https://plot.ly"
       },
       "data": [
        {
         "hovertemplate": "Year=%{x}<br>Free Throws Percentage=%{y}<extra></extra>",
         "legendgroup": "",
         "line": {
          "color": "#636efa",
          "dash": "solid"
         },
         "marker": {
          "symbol": "circle"
         },
         "mode": "lines",
         "name": "",
         "orientation": "v",
         "showlegend": false,
         "type": "scatter",
         "x": [
          2009,
          2010,
          2011,
          2012,
          2013,
          2014,
          2015,
          2016,
          2017,
          2018
         ],
         "xaxis": "x",
         "y": [
          2639.993,
          2700.005,
          2659.56,
          2633.736,
          2661.227,
          2731.335,
          2683.151,
          2737.928,
          2786.007,
          2767.89
         ],
         "yaxis": "y"
        },
        {
         "line": {
          "color": "red",
          "dash": "dash"
         },
         "mode": "lines",
         "name": "Trendline",
         "type": "scatter",
         "x": [
          2009,
          2010,
          2011,
          2012,
          2013,
          2014,
          2015,
          2016,
          2017,
          2018
         ],
         "y": [
          null,
          2669.999,
          2679.7825000000003,
          2646.648,
          2647.4815,
          2696.281,
          2707.243,
          2710.5395,
          2761.9674999999997,
          2776.9485
         ]
        }
       ],
       "layout": {
        "height": 500,
        "legend": {
         "tracegroupgap": 0
        },
        "template": {
         "data": {
          "bar": [
           {
            "error_x": {
             "color": "#2a3f5f"
            },
            "error_y": {
             "color": "#2a3f5f"
            },
            "marker": {
             "line": {
              "color": "white",
              "width": 0.5
             },
             "pattern": {
              "fillmode": "overlay",
              "size": 10,
              "solidity": 0.2
             }
            },
            "type": "bar"
           }
          ],
          "barpolar": [
           {
            "marker": {
             "line": {
              "color": "white",
              "width": 0.5
             },
             "pattern": {
              "fillmode": "overlay",
              "size": 10,
              "solidity": 0.2
             }
            },
            "type": "barpolar"
           }
          ],
          "carpet": [
           {
            "aaxis": {
             "endlinecolor": "#2a3f5f",
             "gridcolor": "#C8D4E3",
             "linecolor": "#C8D4E3",
             "minorgridcolor": "#C8D4E3",
             "startlinecolor": "#2a3f5f"
            },
            "baxis": {
             "endlinecolor": "#2a3f5f",
             "gridcolor": "#C8D4E3",
             "linecolor": "#C8D4E3",
             "minorgridcolor": "#C8D4E3",
             "startlinecolor": "#2a3f5f"
            },
            "type": "carpet"
           }
          ],
          "choropleth": [
           {
            "colorbar": {
             "outlinewidth": 0,
             "ticks": ""
            },
            "type": "choropleth"
           }
          ],
          "contour": [
           {
            "colorbar": {
             "outlinewidth": 0,
             "ticks": ""
            },
            "colorscale": [
             [
              0,
              "#0d0887"
             ],
             [
              0.1111111111111111,
              "#46039f"
             ],
             [
              0.2222222222222222,
              "#7201a8"
             ],
             [
              0.3333333333333333,
              "#9c179e"
             ],
             [
              0.4444444444444444,
              "#bd3786"
             ],
             [
              0.5555555555555556,
              "#d8576b"
             ],
             [
              0.6666666666666666,
              "#ed7953"
             ],
             [
              0.7777777777777778,
              "#fb9f3a"
             ],
             [
              0.8888888888888888,
              "#fdca26"
             ],
             [
              1,
              "#f0f921"
             ]
            ],
            "type": "contour"
           }
          ],
          "contourcarpet": [
           {
            "colorbar": {
             "outlinewidth": 0,
             "ticks": ""
            },
            "type": "contourcarpet"
           }
          ],
          "heatmap": [
           {
            "colorbar": {
             "outlinewidth": 0,
             "ticks": ""
            },
            "colorscale": [
             [
              0,
              "#0d0887"
             ],
             [
              0.1111111111111111,
              "#46039f"
             ],
             [
              0.2222222222222222,
              "#7201a8"
             ],
             [
              0.3333333333333333,
              "#9c179e"
             ],
             [
              0.4444444444444444,
              "#bd3786"
             ],
             [
              0.5555555555555556,
              "#d8576b"
             ],
             [
              0.6666666666666666,
              "#ed7953"
             ],
             [
              0.7777777777777778,
              "#fb9f3a"
             ],
             [
              0.8888888888888888,
              "#fdca26"
             ],
             [
              1,
              "#f0f921"
             ]
            ],
            "type": "heatmap"
           }
          ],
          "heatmapgl": [
           {
            "colorbar": {
             "outlinewidth": 0,
             "ticks": ""
            },
            "colorscale": [
             [
              0,
              "#0d0887"
             ],
             [
              0.1111111111111111,
              "#46039f"
             ],
             [
              0.2222222222222222,
              "#7201a8"
             ],
             [
              0.3333333333333333,
              "#9c179e"
             ],
             [
              0.4444444444444444,
              "#bd3786"
             ],
             [
              0.5555555555555556,
              "#d8576b"
             ],
             [
              0.6666666666666666,
              "#ed7953"
             ],
             [
              0.7777777777777778,
              "#fb9f3a"
             ],
             [
              0.8888888888888888,
              "#fdca26"
             ],
             [
              1,
              "#f0f921"
             ]
            ],
            "type": "heatmapgl"
           }
          ],
          "histogram": [
           {
            "marker": {
             "pattern": {
              "fillmode": "overlay",
              "size": 10,
              "solidity": 0.2
             }
            },
            "type": "histogram"
           }
          ],
          "histogram2d": [
           {
            "colorbar": {
             "outlinewidth": 0,
             "ticks": ""
            },
            "colorscale": [
             [
              0,
              "#0d0887"
             ],
             [
              0.1111111111111111,
              "#46039f"
             ],
             [
              0.2222222222222222,
              "#7201a8"
             ],
             [
              0.3333333333333333,
              "#9c179e"
             ],
             [
              0.4444444444444444,
              "#bd3786"
             ],
             [
              0.5555555555555556,
              "#d8576b"
             ],
             [
              0.6666666666666666,
              "#ed7953"
             ],
             [
              0.7777777777777778,
              "#fb9f3a"
             ],
             [
              0.8888888888888888,
              "#fdca26"
             ],
             [
              1,
              "#f0f921"
             ]
            ],
            "type": "histogram2d"
           }
          ],
          "histogram2dcontour": [
           {
            "colorbar": {
             "outlinewidth": 0,
             "ticks": ""
            },
            "colorscale": [
             [
              0,
              "#0d0887"
             ],
             [
              0.1111111111111111,
              "#46039f"
             ],
             [
              0.2222222222222222,
              "#7201a8"
             ],
             [
              0.3333333333333333,
              "#9c179e"
             ],
             [
              0.4444444444444444,
              "#bd3786"
             ],
             [
              0.5555555555555556,
              "#d8576b"
             ],
             [
              0.6666666666666666,
              "#ed7953"
             ],
             [
              0.7777777777777778,
              "#fb9f3a"
             ],
             [
              0.8888888888888888,
              "#fdca26"
             ],
             [
              1,
              "#f0f921"
             ]
            ],
            "type": "histogram2dcontour"
           }
          ],
          "mesh3d": [
           {
            "colorbar": {
             "outlinewidth": 0,
             "ticks": ""
            },
            "type": "mesh3d"
           }
          ],
          "parcoords": [
           {
            "line": {
             "colorbar": {
              "outlinewidth": 0,
              "ticks": ""
             }
            },
            "type": "parcoords"
           }
          ],
          "pie": [
           {
            "automargin": true,
            "type": "pie"
           }
          ],
          "scatter": [
           {
            "fillpattern": {
             "fillmode": "overlay",
             "size": 10,
             "solidity": 0.2
            },
            "type": "scatter"
           }
          ],
          "scatter3d": [
           {
            "line": {
             "colorbar": {
              "outlinewidth": 0,
              "ticks": ""
             }
            },
            "marker": {
             "colorbar": {
              "outlinewidth": 0,
              "ticks": ""
             }
            },
            "type": "scatter3d"
           }
          ],
          "scattercarpet": [
           {
            "marker": {
             "colorbar": {
              "outlinewidth": 0,
              "ticks": ""
             }
            },
            "type": "scattercarpet"
           }
          ],
          "scattergeo": [
           {
            "marker": {
             "colorbar": {
              "outlinewidth": 0,
              "ticks": ""
             }
            },
            "type": "scattergeo"
           }
          ],
          "scattergl": [
           {
            "marker": {
             "colorbar": {
              "outlinewidth": 0,
              "ticks": ""
             }
            },
            "type": "scattergl"
           }
          ],
          "scattermapbox": [
           {
            "marker": {
             "colorbar": {
              "outlinewidth": 0,
              "ticks": ""
             }
            },
            "type": "scattermapbox"
           }
          ],
          "scatterpolar": [
           {
            "marker": {
             "colorbar": {
              "outlinewidth": 0,
              "ticks": ""
             }
            },
            "type": "scatterpolar"
           }
          ],
          "scatterpolargl": [
           {
            "marker": {
             "colorbar": {
              "outlinewidth": 0,
              "ticks": ""
             }
            },
            "type": "scatterpolargl"
           }
          ],
          "scatterternary": [
           {
            "marker": {
             "colorbar": {
              "outlinewidth": 0,
              "ticks": ""
             }
            },
            "type": "scatterternary"
           }
          ],
          "surface": [
           {
            "colorbar": {
             "outlinewidth": 0,
             "ticks": ""
            },
            "colorscale": [
             [
              0,
              "#0d0887"
             ],
             [
              0.1111111111111111,
              "#46039f"
             ],
             [
              0.2222222222222222,
              "#7201a8"
             ],
             [
              0.3333333333333333,
              "#9c179e"
             ],
             [
              0.4444444444444444,
              "#bd3786"
             ],
             [
              0.5555555555555556,
              "#d8576b"
             ],
             [
              0.6666666666666666,
              "#ed7953"
             ],
             [
              0.7777777777777778,
              "#fb9f3a"
             ],
             [
              0.8888888888888888,
              "#fdca26"
             ],
             [
              1,
              "#f0f921"
             ]
            ],
            "type": "surface"
           }
          ],
          "table": [
           {
            "cells": {
             "fill": {
              "color": "#EBF0F8"
             },
             "line": {
              "color": "white"
             }
            },
            "header": {
             "fill": {
              "color": "#C8D4E3"
             },
             "line": {
              "color": "white"
             }
            },
            "type": "table"
           }
          ]
         },
         "layout": {
          "annotationdefaults": {
           "arrowcolor": "#2a3f5f",
           "arrowhead": 0,
           "arrowwidth": 1
          },
          "autotypenumbers": "strict",
          "coloraxis": {
           "colorbar": {
            "outlinewidth": 0,
            "ticks": ""
           }
          },
          "colorscale": {
           "diverging": [
            [
             0,
             "#8e0152"
            ],
            [
             0.1,
             "#c51b7d"
            ],
            [
             0.2,
             "#de77ae"
            ],
            [
             0.3,
             "#f1b6da"
            ],
            [
             0.4,
             "#fde0ef"
            ],
            [
             0.5,
             "#f7f7f7"
            ],
            [
             0.6,
             "#e6f5d0"
            ],
            [
             0.7,
             "#b8e186"
            ],
            [
             0.8,
             "#7fbc41"
            ],
            [
             0.9,
             "#4d9221"
            ],
            [
             1,
             "#276419"
            ]
           ],
           "sequential": [
            [
             0,
             "#0d0887"
            ],
            [
             0.1111111111111111,
             "#46039f"
            ],
            [
             0.2222222222222222,
             "#7201a8"
            ],
            [
             0.3333333333333333,
             "#9c179e"
            ],
            [
             0.4444444444444444,
             "#bd3786"
            ],
            [
             0.5555555555555556,
             "#d8576b"
            ],
            [
             0.6666666666666666,
             "#ed7953"
            ],
            [
             0.7777777777777778,
             "#fb9f3a"
            ],
            [
             0.8888888888888888,
             "#fdca26"
            ],
            [
             1,
             "#f0f921"
            ]
           ],
           "sequentialminus": [
            [
             0,
             "#0d0887"
            ],
            [
             0.1111111111111111,
             "#46039f"
            ],
            [
             0.2222222222222222,
             "#7201a8"
            ],
            [
             0.3333333333333333,
             "#9c179e"
            ],
            [
             0.4444444444444444,
             "#bd3786"
            ],
            [
             0.5555555555555556,
             "#d8576b"
            ],
            [
             0.6666666666666666,
             "#ed7953"
            ],
            [
             0.7777777777777778,
             "#fb9f3a"
            ],
            [
             0.8888888888888888,
             "#fdca26"
            ],
            [
             1,
             "#f0f921"
            ]
           ]
          },
          "colorway": [
           "#636efa",
           "#EF553B",
           "#00cc96",
           "#ab63fa",
           "#FFA15A",
           "#19d3f3",
           "#FF6692",
           "#B6E880",
           "#FF97FF",
           "#FECB52"
          ],
          "font": {
           "color": "#2a3f5f"
          },
          "geo": {
           "bgcolor": "white",
           "lakecolor": "white",
           "landcolor": "white",
           "showlakes": true,
           "showland": true,
           "subunitcolor": "#C8D4E3"
          },
          "hoverlabel": {
           "align": "left"
          },
          "hovermode": "closest",
          "mapbox": {
           "style": "light"
          },
          "paper_bgcolor": "white",
          "plot_bgcolor": "white",
          "polar": {
           "angularaxis": {
            "gridcolor": "#EBF0F8",
            "linecolor": "#EBF0F8",
            "ticks": ""
           },
           "bgcolor": "white",
           "radialaxis": {
            "gridcolor": "#EBF0F8",
            "linecolor": "#EBF0F8",
            "ticks": ""
           }
          },
          "scene": {
           "xaxis": {
            "backgroundcolor": "white",
            "gridcolor": "#DFE8F3",
            "gridwidth": 2,
            "linecolor": "#EBF0F8",
            "showbackground": true,
            "ticks": "",
            "zerolinecolor": "#EBF0F8"
           },
           "yaxis": {
            "backgroundcolor": "white",
            "gridcolor": "#DFE8F3",
            "gridwidth": 2,
            "linecolor": "#EBF0F8",
            "showbackground": true,
            "ticks": "",
            "zerolinecolor": "#EBF0F8"
           },
           "zaxis": {
            "backgroundcolor": "white",
            "gridcolor": "#DFE8F3",
            "gridwidth": 2,
            "linecolor": "#EBF0F8",
            "showbackground": true,
            "ticks": "",
            "zerolinecolor": "#EBF0F8"
           }
          },
          "shapedefaults": {
           "line": {
            "color": "#2a3f5f"
           }
          },
          "ternary": {
           "aaxis": {
            "gridcolor": "#DFE8F3",
            "linecolor": "#A2B1C6",
            "ticks": ""
           },
           "baxis": {
            "gridcolor": "#DFE8F3",
            "linecolor": "#A2B1C6",
            "ticks": ""
           },
           "bgcolor": "white",
           "caxis": {
            "gridcolor": "#DFE8F3",
            "linecolor": "#A2B1C6",
            "ticks": ""
           }
          },
          "title": {
           "x": 0.05
          },
          "xaxis": {
           "automargin": true,
           "gridcolor": "#EBF0F8",
           "linecolor": "#EBF0F8",
           "ticks": "",
           "title": {
            "standoff": 15
           },
           "zerolinecolor": "#EBF0F8",
           "zerolinewidth": 2
          },
          "yaxis": {
           "automargin": true,
           "gridcolor": "#EBF0F8",
           "linecolor": "#EBF0F8",
           "ticks": "",
           "title": {
            "standoff": 15
           },
           "zerolinecolor": "#EBF0F8",
           "zerolinewidth": 2
          }
         }
        },
        "title": {
         "text": "Free Throws Attempts Yearly Analysis"
        },
        "width": 800,
        "xaxis": {
         "anchor": "y",
         "domain": [
          0,
          1
         ],
         "tickmode": "linear",
         "title": {
          "text": "Year"
         }
        },
        "yaxis": {
         "anchor": "x",
         "domain": [
          0,
          1
         ],
         "title": {
          "text": "Free Throws Percentage"
         }
        }
       }
      }
     },
     "metadata": {},
     "output_type": "display_data"
    },
    {
     "data": {
      "application/vnd.plotly.v1+json": {
       "config": {
        "plotlyServerURL": "https://plot.ly"
       },
       "data": [
        {
         "alignmentgroup": "True",
         "hovertemplate": "year=2016<br>Top 5 Teams=%{x}<br>Number of Games Played=%{y}<extra></extra>",
         "legendgroup": "",
         "marker": {
          "color": "lightcoral",
          "pattern": {
           "shape": ""
          }
         },
         "name": "",
         "offsetgroup": "",
         "orientation": "v",
         "showlegend": false,
         "textposition": "auto",
         "type": "bar",
         "x": [
          "Air Force",
          "Army",
          "Cornell",
          "Navy",
          "Penn"
         ],
         "xaxis": "x",
         "y": [
          327,
          371,
          330,
          382,
          292
         ],
         "yaxis": "y"
        },
        {
         "alignmentgroup": "True",
         "hovertemplate": "year=2017<br>Top 5 Teams=%{x}<br>Number of Games Played=%{y}<extra></extra>",
         "legendgroup": "",
         "marker": {
          "color": "lightcoral",
          "pattern": {
           "shape": ""
          }
         },
         "name": "",
         "offsetgroup": "",
         "orientation": "v",
         "showlegend": false,
         "textposition": "auto",
         "type": "bar",
         "x": [
          "Air Force",
          "Army",
          "Cornell",
          "Navy",
          "Penn"
         ],
         "xaxis": "x2",
         "y": [
          352,
          332,
          298,
          354,
          319
         ],
         "yaxis": "y2"
        },
        {
         "alignmentgroup": "True",
         "hovertemplate": "year=2018<br>Top 5 Teams=%{x}<br>Number of Games Played=%{y}<extra></extra>",
         "legendgroup": "",
         "marker": {
          "color": "lightcoral",
          "pattern": {
           "shape": ""
          }
         },
         "name": "",
         "offsetgroup": "",
         "orientation": "v",
         "showlegend": false,
         "textposition": "auto",
         "type": "bar",
         "x": [
          "Air Force",
          "Army",
          "Cornell",
          "Navy",
          "Penn"
         ],
         "xaxis": "x3",
         "y": [
          355,
          322,
          286,
          340,
          359
         ],
         "yaxis": "y3"
        }
       ],
       "layout": {
        "annotations": [
         {
          "font": {},
          "showarrow": false,
          "text": "year=2016",
          "x": 0.15999999999999998,
          "xanchor": "center",
          "xref": "paper",
          "y": 1,
          "yanchor": "bottom",
          "yref": "paper"
         },
         {
          "font": {},
          "showarrow": false,
          "text": "year=2017",
          "x": 0.49999999999999994,
          "xanchor": "center",
          "xref": "paper",
          "y": 1,
          "yanchor": "bottom",
          "yref": "paper"
         },
         {
          "font": {},
          "showarrow": false,
          "text": "year=2018",
          "x": 0.8399999999999999,
          "xanchor": "center",
          "xref": "paper",
          "y": 1,
          "yanchor": "bottom",
          "yref": "paper"
         }
        ],
        "barmode": "group",
        "height": 500,
        "legend": {
         "tracegroupgap": 0
        },
        "template": {
         "data": {
          "bar": [
           {
            "error_x": {
             "color": "#2a3f5f"
            },
            "error_y": {
             "color": "#2a3f5f"
            },
            "marker": {
             "line": {
              "color": "white",
              "width": 0.5
             },
             "pattern": {
              "fillmode": "overlay",
              "size": 10,
              "solidity": 0.2
             }
            },
            "type": "bar"
           }
          ],
          "barpolar": [
           {
            "marker": {
             "line": {
              "color": "white",
              "width": 0.5
             },
             "pattern": {
              "fillmode": "overlay",
              "size": 10,
              "solidity": 0.2
             }
            },
            "type": "barpolar"
           }
          ],
          "carpet": [
           {
            "aaxis": {
             "endlinecolor": "#2a3f5f",
             "gridcolor": "#C8D4E3",
             "linecolor": "#C8D4E3",
             "minorgridcolor": "#C8D4E3",
             "startlinecolor": "#2a3f5f"
            },
            "baxis": {
             "endlinecolor": "#2a3f5f",
             "gridcolor": "#C8D4E3",
             "linecolor": "#C8D4E3",
             "minorgridcolor": "#C8D4E3",
             "startlinecolor": "#2a3f5f"
            },
            "type": "carpet"
           }
          ],
          "choropleth": [
           {
            "colorbar": {
             "outlinewidth": 0,
             "ticks": ""
            },
            "type": "choropleth"
           }
          ],
          "contour": [
           {
            "colorbar": {
             "outlinewidth": 0,
             "ticks": ""
            },
            "colorscale": [
             [
              0,
              "#0d0887"
             ],
             [
              0.1111111111111111,
              "#46039f"
             ],
             [
              0.2222222222222222,
              "#7201a8"
             ],
             [
              0.3333333333333333,
              "#9c179e"
             ],
             [
              0.4444444444444444,
              "#bd3786"
             ],
             [
              0.5555555555555556,
              "#d8576b"
             ],
             [
              0.6666666666666666,
              "#ed7953"
             ],
             [
              0.7777777777777778,
              "#fb9f3a"
             ],
             [
              0.8888888888888888,
              "#fdca26"
             ],
             [
              1,
              "#f0f921"
             ]
            ],
            "type": "contour"
           }
          ],
          "contourcarpet": [
           {
            "colorbar": {
             "outlinewidth": 0,
             "ticks": ""
            },
            "type": "contourcarpet"
           }
          ],
          "heatmap": [
           {
            "colorbar": {
             "outlinewidth": 0,
             "ticks": ""
            },
            "colorscale": [
             [
              0,
              "#0d0887"
             ],
             [
              0.1111111111111111,
              "#46039f"
             ],
             [
              0.2222222222222222,
              "#7201a8"
             ],
             [
              0.3333333333333333,
              "#9c179e"
             ],
             [
              0.4444444444444444,
              "#bd3786"
             ],
             [
              0.5555555555555556,
              "#d8576b"
             ],
             [
              0.6666666666666666,
              "#ed7953"
             ],
             [
              0.7777777777777778,
              "#fb9f3a"
             ],
             [
              0.8888888888888888,
              "#fdca26"
             ],
             [
              1,
              "#f0f921"
             ]
            ],
            "type": "heatmap"
           }
          ],
          "heatmapgl": [
           {
            "colorbar": {
             "outlinewidth": 0,
             "ticks": ""
            },
            "colorscale": [
             [
              0,
              "#0d0887"
             ],
             [
              0.1111111111111111,
              "#46039f"
             ],
             [
              0.2222222222222222,
              "#7201a8"
             ],
             [
              0.3333333333333333,
              "#9c179e"
             ],
             [
              0.4444444444444444,
              "#bd3786"
             ],
             [
              0.5555555555555556,
              "#d8576b"
             ],
             [
              0.6666666666666666,
              "#ed7953"
             ],
             [
              0.7777777777777778,
              "#fb9f3a"
             ],
             [
              0.8888888888888888,
              "#fdca26"
             ],
             [
              1,
              "#f0f921"
             ]
            ],
            "type": "heatmapgl"
           }
          ],
          "histogram": [
           {
            "marker": {
             "pattern": {
              "fillmode": "overlay",
              "size": 10,
              "solidity": 0.2
             }
            },
            "type": "histogram"
           }
          ],
          "histogram2d": [
           {
            "colorbar": {
             "outlinewidth": 0,
             "ticks": ""
            },
            "colorscale": [
             [
              0,
              "#0d0887"
             ],
             [
              0.1111111111111111,
              "#46039f"
             ],
             [
              0.2222222222222222,
              "#7201a8"
             ],
             [
              0.3333333333333333,
              "#9c179e"
             ],
             [
              0.4444444444444444,
              "#bd3786"
             ],
             [
              0.5555555555555556,
              "#d8576b"
             ],
             [
              0.6666666666666666,
              "#ed7953"
             ],
             [
              0.7777777777777778,
              "#fb9f3a"
             ],
             [
              0.8888888888888888,
              "#fdca26"
             ],
             [
              1,
              "#f0f921"
             ]
            ],
            "type": "histogram2d"
           }
          ],
          "histogram2dcontour": [
           {
            "colorbar": {
             "outlinewidth": 0,
             "ticks": ""
            },
            "colorscale": [
             [
              0,
              "#0d0887"
             ],
             [
              0.1111111111111111,
              "#46039f"
             ],
             [
              0.2222222222222222,
              "#7201a8"
             ],
             [
              0.3333333333333333,
              "#9c179e"
             ],
             [
              0.4444444444444444,
              "#bd3786"
             ],
             [
              0.5555555555555556,
              "#d8576b"
             ],
             [
              0.6666666666666666,
              "#ed7953"
             ],
             [
              0.7777777777777778,
              "#fb9f3a"
             ],
             [
              0.8888888888888888,
              "#fdca26"
             ],
             [
              1,
              "#f0f921"
             ]
            ],
            "type": "histogram2dcontour"
           }
          ],
          "mesh3d": [
           {
            "colorbar": {
             "outlinewidth": 0,
             "ticks": ""
            },
            "type": "mesh3d"
           }
          ],
          "parcoords": [
           {
            "line": {
             "colorbar": {
              "outlinewidth": 0,
              "ticks": ""
             }
            },
            "type": "parcoords"
           }
          ],
          "pie": [
           {
            "automargin": true,
            "type": "pie"
           }
          ],
          "scatter": [
           {
            "fillpattern": {
             "fillmode": "overlay",
             "size": 10,
             "solidity": 0.2
            },
            "type": "scatter"
           }
          ],
          "scatter3d": [
           {
            "line": {
             "colorbar": {
              "outlinewidth": 0,
              "ticks": ""
             }
            },
            "marker": {
             "colorbar": {
              "outlinewidth": 0,
              "ticks": ""
             }
            },
            "type": "scatter3d"
           }
          ],
          "scattercarpet": [
           {
            "marker": {
             "colorbar": {
              "outlinewidth": 0,
              "ticks": ""
             }
            },
            "type": "scattercarpet"
           }
          ],
          "scattergeo": [
           {
            "marker": {
             "colorbar": {
              "outlinewidth": 0,
              "ticks": ""
             }
            },
            "type": "scattergeo"
           }
          ],
          "scattergl": [
           {
            "marker": {
             "colorbar": {
              "outlinewidth": 0,
              "ticks": ""
             }
            },
            "type": "scattergl"
           }
          ],
          "scattermapbox": [
           {
            "marker": {
             "colorbar": {
              "outlinewidth": 0,
              "ticks": ""
             }
            },
            "type": "scattermapbox"
           }
          ],
          "scatterpolar": [
           {
            "marker": {
             "colorbar": {
              "outlinewidth": 0,
              "ticks": ""
             }
            },
            "type": "scatterpolar"
           }
          ],
          "scatterpolargl": [
           {
            "marker": {
             "colorbar": {
              "outlinewidth": 0,
              "ticks": ""
             }
            },
            "type": "scatterpolargl"
           }
          ],
          "scatterternary": [
           {
            "marker": {
             "colorbar": {
              "outlinewidth": 0,
              "ticks": ""
             }
            },
            "type": "scatterternary"
           }
          ],
          "surface": [
           {
            "colorbar": {
             "outlinewidth": 0,
             "ticks": ""
            },
            "colorscale": [
             [
              0,
              "#0d0887"
             ],
             [
              0.1111111111111111,
              "#46039f"
             ],
             [
              0.2222222222222222,
              "#7201a8"
             ],
             [
              0.3333333333333333,
              "#9c179e"
             ],
             [
              0.4444444444444444,
              "#bd3786"
             ],
             [
              0.5555555555555556,
              "#d8576b"
             ],
             [
              0.6666666666666666,
              "#ed7953"
             ],
             [
              0.7777777777777778,
              "#fb9f3a"
             ],
             [
              0.8888888888888888,
              "#fdca26"
             ],
             [
              1,
              "#f0f921"
             ]
            ],
            "type": "surface"
           }
          ],
          "table": [
           {
            "cells": {
             "fill": {
              "color": "#EBF0F8"
             },
             "line": {
              "color": "white"
             }
            },
            "header": {
             "fill": {
              "color": "#C8D4E3"
             },
             "line": {
              "color": "white"
             }
            },
            "type": "table"
           }
          ]
         },
         "layout": {
          "annotationdefaults": {
           "arrowcolor": "#2a3f5f",
           "arrowhead": 0,
           "arrowwidth": 1
          },
          "autotypenumbers": "strict",
          "coloraxis": {
           "colorbar": {
            "outlinewidth": 0,
            "ticks": ""
           }
          },
          "colorscale": {
           "diverging": [
            [
             0,
             "#8e0152"
            ],
            [
             0.1,
             "#c51b7d"
            ],
            [
             0.2,
             "#de77ae"
            ],
            [
             0.3,
             "#f1b6da"
            ],
            [
             0.4,
             "#fde0ef"
            ],
            [
             0.5,
             "#f7f7f7"
            ],
            [
             0.6,
             "#e6f5d0"
            ],
            [
             0.7,
             "#b8e186"
            ],
            [
             0.8,
             "#7fbc41"
            ],
            [
             0.9,
             "#4d9221"
            ],
            [
             1,
             "#276419"
            ]
           ],
           "sequential": [
            [
             0,
             "#0d0887"
            ],
            [
             0.1111111111111111,
             "#46039f"
            ],
            [
             0.2222222222222222,
             "#7201a8"
            ],
            [
             0.3333333333333333,
             "#9c179e"
            ],
            [
             0.4444444444444444,
             "#bd3786"
            ],
            [
             0.5555555555555556,
             "#d8576b"
            ],
            [
             0.6666666666666666,
             "#ed7953"
            ],
            [
             0.7777777777777778,
             "#fb9f3a"
            ],
            [
             0.8888888888888888,
             "#fdca26"
            ],
            [
             1,
             "#f0f921"
            ]
           ],
           "sequentialminus": [
            [
             0,
             "#0d0887"
            ],
            [
             0.1111111111111111,
             "#46039f"
            ],
            [
             0.2222222222222222,
             "#7201a8"
            ],
            [
             0.3333333333333333,
             "#9c179e"
            ],
            [
             0.4444444444444444,
             "#bd3786"
            ],
            [
             0.5555555555555556,
             "#d8576b"
            ],
            [
             0.6666666666666666,
             "#ed7953"
            ],
            [
             0.7777777777777778,
             "#fb9f3a"
            ],
            [
             0.8888888888888888,
             "#fdca26"
            ],
            [
             1,
             "#f0f921"
            ]
           ]
          },
          "colorway": [
           "#636efa",
           "#EF553B",
           "#00cc96",
           "#ab63fa",
           "#FFA15A",
           "#19d3f3",
           "#FF6692",
           "#B6E880",
           "#FF97FF",
           "#FECB52"
          ],
          "font": {
           "color": "#2a3f5f"
          },
          "geo": {
           "bgcolor": "white",
           "lakecolor": "white",
           "landcolor": "white",
           "showlakes": true,
           "showland": true,
           "subunitcolor": "#C8D4E3"
          },
          "hoverlabel": {
           "align": "left"
          },
          "hovermode": "closest",
          "mapbox": {
           "style": "light"
          },
          "paper_bgcolor": "white",
          "plot_bgcolor": "white",
          "polar": {
           "angularaxis": {
            "gridcolor": "#EBF0F8",
            "linecolor": "#EBF0F8",
            "ticks": ""
           },
           "bgcolor": "white",
           "radialaxis": {
            "gridcolor": "#EBF0F8",
            "linecolor": "#EBF0F8",
            "ticks": ""
           }
          },
          "scene": {
           "xaxis": {
            "backgroundcolor": "white",
            "gridcolor": "#DFE8F3",
            "gridwidth": 2,
            "linecolor": "#EBF0F8",
            "showbackground": true,
            "ticks": "",
            "zerolinecolor": "#EBF0F8"
           },
           "yaxis": {
            "backgroundcolor": "white",
            "gridcolor": "#DFE8F3",
            "gridwidth": 2,
            "linecolor": "#EBF0F8",
            "showbackground": true,
            "ticks": "",
            "zerolinecolor": "#EBF0F8"
           },
           "zaxis": {
            "backgroundcolor": "white",
            "gridcolor": "#DFE8F3",
            "gridwidth": 2,
            "linecolor": "#EBF0F8",
            "showbackground": true,
            "ticks": "",
            "zerolinecolor": "#EBF0F8"
           }
          },
          "shapedefaults": {
           "line": {
            "color": "#2a3f5f"
           }
          },
          "ternary": {
           "aaxis": {
            "gridcolor": "#DFE8F3",
            "linecolor": "#A2B1C6",
            "ticks": ""
           },
           "baxis": {
            "gridcolor": "#DFE8F3",
            "linecolor": "#A2B1C6",
            "ticks": ""
           },
           "bgcolor": "white",
           "caxis": {
            "gridcolor": "#DFE8F3",
            "linecolor": "#A2B1C6",
            "ticks": ""
           }
          },
          "title": {
           "x": 0.05
          },
          "xaxis": {
           "automargin": true,
           "gridcolor": "#EBF0F8",
           "linecolor": "#EBF0F8",
           "ticks": "",
           "title": {
            "standoff": 15
           },
           "zerolinecolor": "#EBF0F8",
           "zerolinewidth": 2
          },
          "yaxis": {
           "automargin": true,
           "gridcolor": "#EBF0F8",
           "linecolor": "#EBF0F8",
           "ticks": "",
           "title": {
            "standoff": 15
           },
           "zerolinecolor": "#EBF0F8",
           "zerolinewidth": 2
          }
         }
        },
        "title": {
         "text": "Top 5 teams with number of games played across seasons 2016-18"
        },
        "width": 1100,
        "xaxis": {
         "anchor": "y",
         "domain": [
          0,
          0.31999999999999995
         ],
         "tickmode": "linear",
         "title": {
          "text": "Top 5 Teams"
         }
        },
        "xaxis2": {
         "anchor": "y2",
         "domain": [
          0.33999999999999997,
          0.6599999999999999
         ],
         "matches": "x",
         "title": {
          "text": "Top 5 Teams"
         }
        },
        "xaxis3": {
         "anchor": "y3",
         "domain": [
          0.6799999999999999,
          0.9999999999999999
         ],
         "matches": "x",
         "title": {
          "text": "Top 5 Teams"
         }
        },
        "yaxis": {
         "anchor": "x",
         "domain": [
          0,
          1
         ],
         "title": {
          "text": "Number of Games Played"
         }
        },
        "yaxis2": {
         "anchor": "x2",
         "domain": [
          0,
          1
         ],
         "matches": "y",
         "showticklabels": false
        },
        "yaxis3": {
         "anchor": "x3",
         "domain": [
          0,
          1
         ],
         "matches": "y",
         "showticklabels": false
        }
       }
      }
     },
     "metadata": {},
     "output_type": "display_data"
    },
    {
     "data": {
      "application/vnd.plotly.v1+json": {
       "config": {
        "plotlyServerURL": "https://plot.ly"
       },
       "data": [
        {
         "alignmentgroup": "True",
         "hovertemplate": "Pointer Type=twop_per<br>Team=%{x}<br>Total Points=%{y}<extra></extra>",
         "legendgroup": "twop_per",
         "marker": {
          "color": "lightcoral",
          "pattern": {
           "shape": ""
          }
         },
         "name": "twop_per",
         "offsetgroup": "twop_per",
         "orientation": "v",
         "showlegend": true,
         "textposition": "auto",
         "type": "bar",
         "x": [
          "Air Force",
          "Army",
          "Cornell",
          "Delaware St.",
          "Jackson St.",
          "Navy",
          "North Carolina",
          "Penn",
          "Princeton",
          "Wake Forest"
         ],
         "xaxis": "x",
         "y": [
          74.276,
          69.656,
          68.991,
          58.687,
          57.643,
          68.422,
          68.597,
          70.372,
          71.889,
          60.153
         ],
         "yaxis": "y"
        },
        {
         "alignmentgroup": "True",
         "hovertemplate": "Pointer Type=tp_per<br>Team=%{x}<br>Total Points=%{y}<extra></extra>",
         "legendgroup": "tp_per",
         "marker": {
          "color": "deeppink",
          "pattern": {
           "shape": ""
          }
         },
         "name": "tp_per",
         "offsetgroup": "tp_per",
         "orientation": "v",
         "showlegend": true,
         "textposition": "auto",
         "type": "bar",
         "x": [
          "Air Force",
          "Army",
          "Cornell",
          "Delaware St.",
          "Jackson St.",
          "Navy",
          "North Carolina",
          "Penn",
          "Princeton",
          "Wake Forest"
         ],
         "xaxis": "x",
         "y": [
          43.429,
          34.481,
          38.464,
          32.832,
          27.8,
          29.358,
          27.358,
          32.522,
          42.467,
          27.539
         ],
         "yaxis": "y"
        }
       ],
       "layout": {
        "barmode": "group",
        "height": 500,
        "legend": {
         "title": {
          "text": "Pointer Type"
         },
         "tracegroupgap": 0
        },
        "template": {
         "data": {
          "bar": [
           {
            "error_x": {
             "color": "#2a3f5f"
            },
            "error_y": {
             "color": "#2a3f5f"
            },
            "marker": {
             "line": {
              "color": "white",
              "width": 0.5
             },
             "pattern": {
              "fillmode": "overlay",
              "size": 10,
              "solidity": 0.2
             }
            },
            "type": "bar"
           }
          ],
          "barpolar": [
           {
            "marker": {
             "line": {
              "color": "white",
              "width": 0.5
             },
             "pattern": {
              "fillmode": "overlay",
              "size": 10,
              "solidity": 0.2
             }
            },
            "type": "barpolar"
           }
          ],
          "carpet": [
           {
            "aaxis": {
             "endlinecolor": "#2a3f5f",
             "gridcolor": "#C8D4E3",
             "linecolor": "#C8D4E3",
             "minorgridcolor": "#C8D4E3",
             "startlinecolor": "#2a3f5f"
            },
            "baxis": {
             "endlinecolor": "#2a3f5f",
             "gridcolor": "#C8D4E3",
             "linecolor": "#C8D4E3",
             "minorgridcolor": "#C8D4E3",
             "startlinecolor": "#2a3f5f"
            },
            "type": "carpet"
           }
          ],
          "choropleth": [
           {
            "colorbar": {
             "outlinewidth": 0,
             "ticks": ""
            },
            "type": "choropleth"
           }
          ],
          "contour": [
           {
            "colorbar": {
             "outlinewidth": 0,
             "ticks": ""
            },
            "colorscale": [
             [
              0,
              "#0d0887"
             ],
             [
              0.1111111111111111,
              "#46039f"
             ],
             [
              0.2222222222222222,
              "#7201a8"
             ],
             [
              0.3333333333333333,
              "#9c179e"
             ],
             [
              0.4444444444444444,
              "#bd3786"
             ],
             [
              0.5555555555555556,
              "#d8576b"
             ],
             [
              0.6666666666666666,
              "#ed7953"
             ],
             [
              0.7777777777777778,
              "#fb9f3a"
             ],
             [
              0.8888888888888888,
              "#fdca26"
             ],
             [
              1,
              "#f0f921"
             ]
            ],
            "type": "contour"
           }
          ],
          "contourcarpet": [
           {
            "colorbar": {
             "outlinewidth": 0,
             "ticks": ""
            },
            "type": "contourcarpet"
           }
          ],
          "heatmap": [
           {
            "colorbar": {
             "outlinewidth": 0,
             "ticks": ""
            },
            "colorscale": [
             [
              0,
              "#0d0887"
             ],
             [
              0.1111111111111111,
              "#46039f"
             ],
             [
              0.2222222222222222,
              "#7201a8"
             ],
             [
              0.3333333333333333,
              "#9c179e"
             ],
             [
              0.4444444444444444,
              "#bd3786"
             ],
             [
              0.5555555555555556,
              "#d8576b"
             ],
             [
              0.6666666666666666,
              "#ed7953"
             ],
             [
              0.7777777777777778,
              "#fb9f3a"
             ],
             [
              0.8888888888888888,
              "#fdca26"
             ],
             [
              1,
              "#f0f921"
             ]
            ],
            "type": "heatmap"
           }
          ],
          "heatmapgl": [
           {
            "colorbar": {
             "outlinewidth": 0,
             "ticks": ""
            },
            "colorscale": [
             [
              0,
              "#0d0887"
             ],
             [
              0.1111111111111111,
              "#46039f"
             ],
             [
              0.2222222222222222,
              "#7201a8"
             ],
             [
              0.3333333333333333,
              "#9c179e"
             ],
             [
              0.4444444444444444,
              "#bd3786"
             ],
             [
              0.5555555555555556,
              "#d8576b"
             ],
             [
              0.6666666666666666,
              "#ed7953"
             ],
             [
              0.7777777777777778,
              "#fb9f3a"
             ],
             [
              0.8888888888888888,
              "#fdca26"
             ],
             [
              1,
              "#f0f921"
             ]
            ],
            "type": "heatmapgl"
           }
          ],
          "histogram": [
           {
            "marker": {
             "pattern": {
              "fillmode": "overlay",
              "size": 10,
              "solidity": 0.2
             }
            },
            "type": "histogram"
           }
          ],
          "histogram2d": [
           {
            "colorbar": {
             "outlinewidth": 0,
             "ticks": ""
            },
            "colorscale": [
             [
              0,
              "#0d0887"
             ],
             [
              0.1111111111111111,
              "#46039f"
             ],
             [
              0.2222222222222222,
              "#7201a8"
             ],
             [
              0.3333333333333333,
              "#9c179e"
             ],
             [
              0.4444444444444444,
              "#bd3786"
             ],
             [
              0.5555555555555556,
              "#d8576b"
             ],
             [
              0.6666666666666666,
              "#ed7953"
             ],
             [
              0.7777777777777778,
              "#fb9f3a"
             ],
             [
              0.8888888888888888,
              "#fdca26"
             ],
             [
              1,
              "#f0f921"
             ]
            ],
            "type": "histogram2d"
           }
          ],
          "histogram2dcontour": [
           {
            "colorbar": {
             "outlinewidth": 0,
             "ticks": ""
            },
            "colorscale": [
             [
              0,
              "#0d0887"
             ],
             [
              0.1111111111111111,
              "#46039f"
             ],
             [
              0.2222222222222222,
              "#7201a8"
             ],
             [
              0.3333333333333333,
              "#9c179e"
             ],
             [
              0.4444444444444444,
              "#bd3786"
             ],
             [
              0.5555555555555556,
              "#d8576b"
             ],
             [
              0.6666666666666666,
              "#ed7953"
             ],
             [
              0.7777777777777778,
              "#fb9f3a"
             ],
             [
              0.8888888888888888,
              "#fdca26"
             ],
             [
              1,
              "#f0f921"
             ]
            ],
            "type": "histogram2dcontour"
           }
          ],
          "mesh3d": [
           {
            "colorbar": {
             "outlinewidth": 0,
             "ticks": ""
            },
            "type": "mesh3d"
           }
          ],
          "parcoords": [
           {
            "line": {
             "colorbar": {
              "outlinewidth": 0,
              "ticks": ""
             }
            },
            "type": "parcoords"
           }
          ],
          "pie": [
           {
            "automargin": true,
            "type": "pie"
           }
          ],
          "scatter": [
           {
            "fillpattern": {
             "fillmode": "overlay",
             "size": 10,
             "solidity": 0.2
            },
            "type": "scatter"
           }
          ],
          "scatter3d": [
           {
            "line": {
             "colorbar": {
              "outlinewidth": 0,
              "ticks": ""
             }
            },
            "marker": {
             "colorbar": {
              "outlinewidth": 0,
              "ticks": ""
             }
            },
            "type": "scatter3d"
           }
          ],
          "scattercarpet": [
           {
            "marker": {
             "colorbar": {
              "outlinewidth": 0,
              "ticks": ""
             }
            },
            "type": "scattercarpet"
           }
          ],
          "scattergeo": [
           {
            "marker": {
             "colorbar": {
              "outlinewidth": 0,
              "ticks": ""
             }
            },
            "type": "scattergeo"
           }
          ],
          "scattergl": [
           {
            "marker": {
             "colorbar": {
              "outlinewidth": 0,
              "ticks": ""
             }
            },
            "type": "scattergl"
           }
          ],
          "scattermapbox": [
           {
            "marker": {
             "colorbar": {
              "outlinewidth": 0,
              "ticks": ""
             }
            },
            "type": "scattermapbox"
           }
          ],
          "scatterpolar": [
           {
            "marker": {
             "colorbar": {
              "outlinewidth": 0,
              "ticks": ""
             }
            },
            "type": "scatterpolar"
           }
          ],
          "scatterpolargl": [
           {
            "marker": {
             "colorbar": {
              "outlinewidth": 0,
              "ticks": ""
             }
            },
            "type": "scatterpolargl"
           }
          ],
          "scatterternary": [
           {
            "marker": {
             "colorbar": {
              "outlinewidth": 0,
              "ticks": ""
             }
            },
            "type": "scatterternary"
           }
          ],
          "surface": [
           {
            "colorbar": {
             "outlinewidth": 0,
             "ticks": ""
            },
            "colorscale": [
             [
              0,
              "#0d0887"
             ],
             [
              0.1111111111111111,
              "#46039f"
             ],
             [
              0.2222222222222222,
              "#7201a8"
             ],
             [
              0.3333333333333333,
              "#9c179e"
             ],
             [
              0.4444444444444444,
              "#bd3786"
             ],
             [
              0.5555555555555556,
              "#d8576b"
             ],
             [
              0.6666666666666666,
              "#ed7953"
             ],
             [
              0.7777777777777778,
              "#fb9f3a"
             ],
             [
              0.8888888888888888,
              "#fdca26"
             ],
             [
              1,
              "#f0f921"
             ]
            ],
            "type": "surface"
           }
          ],
          "table": [
           {
            "cells": {
             "fill": {
              "color": "#EBF0F8"
             },
             "line": {
              "color": "white"
             }
            },
            "header": {
             "fill": {
              "color": "#C8D4E3"
             },
             "line": {
              "color": "white"
             }
            },
            "type": "table"
           }
          ]
         },
         "layout": {
          "annotationdefaults": {
           "arrowcolor": "#2a3f5f",
           "arrowhead": 0,
           "arrowwidth": 1
          },
          "autotypenumbers": "strict",
          "coloraxis": {
           "colorbar": {
            "outlinewidth": 0,
            "ticks": ""
           }
          },
          "colorscale": {
           "diverging": [
            [
             0,
             "#8e0152"
            ],
            [
             0.1,
             "#c51b7d"
            ],
            [
             0.2,
             "#de77ae"
            ],
            [
             0.3,
             "#f1b6da"
            ],
            [
             0.4,
             "#fde0ef"
            ],
            [
             0.5,
             "#f7f7f7"
            ],
            [
             0.6,
             "#e6f5d0"
            ],
            [
             0.7,
             "#b8e186"
            ],
            [
             0.8,
             "#7fbc41"
            ],
            [
             0.9,
             "#4d9221"
            ],
            [
             1,
             "#276419"
            ]
           ],
           "sequential": [
            [
             0,
             "#0d0887"
            ],
            [
             0.1111111111111111,
             "#46039f"
            ],
            [
             0.2222222222222222,
             "#7201a8"
            ],
            [
             0.3333333333333333,
             "#9c179e"
            ],
            [
             0.4444444444444444,
             "#bd3786"
            ],
            [
             0.5555555555555556,
             "#d8576b"
            ],
            [
             0.6666666666666666,
             "#ed7953"
            ],
            [
             0.7777777777777778,
             "#fb9f3a"
            ],
            [
             0.8888888888888888,
             "#fdca26"
            ],
            [
             1,
             "#f0f921"
            ]
           ],
           "sequentialminus": [
            [
             0,
             "#0d0887"
            ],
            [
             0.1111111111111111,
             "#46039f"
            ],
            [
             0.2222222222222222,
             "#7201a8"
            ],
            [
             0.3333333333333333,
             "#9c179e"
            ],
            [
             0.4444444444444444,
             "#bd3786"
            ],
            [
             0.5555555555555556,
             "#d8576b"
            ],
            [
             0.6666666666666666,
             "#ed7953"
            ],
            [
             0.7777777777777778,
             "#fb9f3a"
            ],
            [
             0.8888888888888888,
             "#fdca26"
            ],
            [
             1,
             "#f0f921"
            ]
           ]
          },
          "colorway": [
           "#636efa",
           "#EF553B",
           "#00cc96",
           "#ab63fa",
           "#FFA15A",
           "#19d3f3",
           "#FF6692",
           "#B6E880",
           "#FF97FF",
           "#FECB52"
          ],
          "font": {
           "color": "#2a3f5f"
          },
          "geo": {
           "bgcolor": "white",
           "lakecolor": "white",
           "landcolor": "white",
           "showlakes": true,
           "showland": true,
           "subunitcolor": "#C8D4E3"
          },
          "hoverlabel": {
           "align": "left"
          },
          "hovermode": "closest",
          "mapbox": {
           "style": "light"
          },
          "paper_bgcolor": "white",
          "plot_bgcolor": "white",
          "polar": {
           "angularaxis": {
            "gridcolor": "#EBF0F8",
            "linecolor": "#EBF0F8",
            "ticks": ""
           },
           "bgcolor": "white",
           "radialaxis": {
            "gridcolor": "#EBF0F8",
            "linecolor": "#EBF0F8",
            "ticks": ""
           }
          },
          "scene": {
           "xaxis": {
            "backgroundcolor": "white",
            "gridcolor": "#DFE8F3",
            "gridwidth": 2,
            "linecolor": "#EBF0F8",
            "showbackground": true,
            "ticks": "",
            "zerolinecolor": "#EBF0F8"
           },
           "yaxis": {
            "backgroundcolor": "white",
            "gridcolor": "#DFE8F3",
            "gridwidth": 2,
            "linecolor": "#EBF0F8",
            "showbackground": true,
            "ticks": "",
            "zerolinecolor": "#EBF0F8"
           },
           "zaxis": {
            "backgroundcolor": "white",
            "gridcolor": "#DFE8F3",
            "gridwidth": 2,
            "linecolor": "#EBF0F8",
            "showbackground": true,
            "ticks": "",
            "zerolinecolor": "#EBF0F8"
           }
          },
          "shapedefaults": {
           "line": {
            "color": "#2a3f5f"
           }
          },
          "ternary": {
           "aaxis": {
            "gridcolor": "#DFE8F3",
            "linecolor": "#A2B1C6",
            "ticks": ""
           },
           "baxis": {
            "gridcolor": "#DFE8F3",
            "linecolor": "#A2B1C6",
            "ticks": ""
           },
           "bgcolor": "white",
           "caxis": {
            "gridcolor": "#DFE8F3",
            "linecolor": "#A2B1C6",
            "ticks": ""
           }
          },
          "title": {
           "x": 0.05
          },
          "xaxis": {
           "automargin": true,
           "gridcolor": "#EBF0F8",
           "linecolor": "#EBF0F8",
           "ticks": "",
           "title": {
            "standoff": 15
           },
           "zerolinecolor": "#EBF0F8",
           "zerolinewidth": 2
          },
          "yaxis": {
           "automargin": true,
           "gridcolor": "#EBF0F8",
           "linecolor": "#EBF0F8",
           "ticks": "",
           "title": {
            "standoff": 15
           },
           "zerolinecolor": "#EBF0F8",
           "zerolinewidth": 2
          }
         }
        },
        "title": {
         "text": "Top 10 Teams Performance Metrics: Two and Three Pointers"
        },
        "width": 1100,
        "xaxis": {
         "anchor": "y",
         "domain": [
          0,
          1
         ],
         "tickmode": "linear",
         "title": {
          "text": "Top 10 Teams"
         }
        },
        "yaxis": {
         "anchor": "x",
         "domain": [
          0,
          1
         ],
         "title": {
          "text": "Total Points"
         }
        }
       }
      }
     },
     "metadata": {},
     "output_type": "display_data"
    },
    {
     "data": {
      "application/vnd.plotly.v1+json": {
       "config": {
        "plotlyServerURL": "https://plot.ly"
       },
       "data": [
        {
         "alignmentgroup": "True",
         "hovertemplate": "Pointer Type=stl_per<br>Team=%{x}<br>Total steal and block points=%{y}<extra></extra>",
         "legendgroup": "stl_per",
         "marker": {
          "color": "lightgreen",
          "pattern": {
           "shape": ""
          }
         },
         "name": "stl_per",
         "offsetgroup": "stl_per",
         "orientation": "v",
         "showlegend": true,
         "textposition": "auto",
         "type": "bar",
         "x": [
          "Air Force",
          "Army",
          "Cornell",
          "Delaware St.",
          "Jackson St.",
          "Navy",
          "North Carolina",
          "Penn",
          "Princeton",
          "Wake Forest"
         ],
         "xaxis": "x",
         "y": [
          274.1,
          294.5,
          282.7,
          262.5,
          249.3,
          296,
          281.6,
          257.8,
          266.9,
          264.1
         ],
         "yaxis": "y"
        },
        {
         "alignmentgroup": "True",
         "hovertemplate": "Pointer Type=blk_per<br>Team=%{x}<br>Total steal and block points=%{y}<extra></extra>",
         "legendgroup": "blk_per",
         "marker": {
          "color": "olive",
          "pattern": {
           "shape": ""
          }
         },
         "name": "blk_per",
         "offsetgroup": "blk_per",
         "orientation": "v",
         "showlegend": true,
         "textposition": "auto",
         "type": "bar",
         "x": [
          "Air Force",
          "Army",
          "Cornell",
          "Delaware St.",
          "Jackson St.",
          "Navy",
          "North Carolina",
          "Penn",
          "Princeton",
          "Wake Forest"
         ],
         "xaxis": "x",
         "y": [
          259.2,
          266.9,
          284.6,
          283.8,
          789.1,
          199.7,
          313.9,
          237.9,
          255.7,
          374.1
         ],
         "yaxis": "y"
        }
       ],
       "layout": {
        "barmode": "group",
        "height": 500,
        "legend": {
         "title": {
          "text": "Pointer Type"
         },
         "tracegroupgap": 0
        },
        "template": {
         "data": {
          "bar": [
           {
            "error_x": {
             "color": "#2a3f5f"
            },
            "error_y": {
             "color": "#2a3f5f"
            },
            "marker": {
             "line": {
              "color": "white",
              "width": 0.5
             },
             "pattern": {
              "fillmode": "overlay",
              "size": 10,
              "solidity": 0.2
             }
            },
            "type": "bar"
           }
          ],
          "barpolar": [
           {
            "marker": {
             "line": {
              "color": "white",
              "width": 0.5
             },
             "pattern": {
              "fillmode": "overlay",
              "size": 10,
              "solidity": 0.2
             }
            },
            "type": "barpolar"
           }
          ],
          "carpet": [
           {
            "aaxis": {
             "endlinecolor": "#2a3f5f",
             "gridcolor": "#C8D4E3",
             "linecolor": "#C8D4E3",
             "minorgridcolor": "#C8D4E3",
             "startlinecolor": "#2a3f5f"
            },
            "baxis": {
             "endlinecolor": "#2a3f5f",
             "gridcolor": "#C8D4E3",
             "linecolor": "#C8D4E3",
             "minorgridcolor": "#C8D4E3",
             "startlinecolor": "#2a3f5f"
            },
            "type": "carpet"
           }
          ],
          "choropleth": [
           {
            "colorbar": {
             "outlinewidth": 0,
             "ticks": ""
            },
            "type": "choropleth"
           }
          ],
          "contour": [
           {
            "colorbar": {
             "outlinewidth": 0,
             "ticks": ""
            },
            "colorscale": [
             [
              0,
              "#0d0887"
             ],
             [
              0.1111111111111111,
              "#46039f"
             ],
             [
              0.2222222222222222,
              "#7201a8"
             ],
             [
              0.3333333333333333,
              "#9c179e"
             ],
             [
              0.4444444444444444,
              "#bd3786"
             ],
             [
              0.5555555555555556,
              "#d8576b"
             ],
             [
              0.6666666666666666,
              "#ed7953"
             ],
             [
              0.7777777777777778,
              "#fb9f3a"
             ],
             [
              0.8888888888888888,
              "#fdca26"
             ],
             [
              1,
              "#f0f921"
             ]
            ],
            "type": "contour"
           }
          ],
          "contourcarpet": [
           {
            "colorbar": {
             "outlinewidth": 0,
             "ticks": ""
            },
            "type": "contourcarpet"
           }
          ],
          "heatmap": [
           {
            "colorbar": {
             "outlinewidth": 0,
             "ticks": ""
            },
            "colorscale": [
             [
              0,
              "#0d0887"
             ],
             [
              0.1111111111111111,
              "#46039f"
             ],
             [
              0.2222222222222222,
              "#7201a8"
             ],
             [
              0.3333333333333333,
              "#9c179e"
             ],
             [
              0.4444444444444444,
              "#bd3786"
             ],
             [
              0.5555555555555556,
              "#d8576b"
             ],
             [
              0.6666666666666666,
              "#ed7953"
             ],
             [
              0.7777777777777778,
              "#fb9f3a"
             ],
             [
              0.8888888888888888,
              "#fdca26"
             ],
             [
              1,
              "#f0f921"
             ]
            ],
            "type": "heatmap"
           }
          ],
          "heatmapgl": [
           {
            "colorbar": {
             "outlinewidth": 0,
             "ticks": ""
            },
            "colorscale": [
             [
              0,
              "#0d0887"
             ],
             [
              0.1111111111111111,
              "#46039f"
             ],
             [
              0.2222222222222222,
              "#7201a8"
             ],
             [
              0.3333333333333333,
              "#9c179e"
             ],
             [
              0.4444444444444444,
              "#bd3786"
             ],
             [
              0.5555555555555556,
              "#d8576b"
             ],
             [
              0.6666666666666666,
              "#ed7953"
             ],
             [
              0.7777777777777778,
              "#fb9f3a"
             ],
             [
              0.8888888888888888,
              "#fdca26"
             ],
             [
              1,
              "#f0f921"
             ]
            ],
            "type": "heatmapgl"
           }
          ],
          "histogram": [
           {
            "marker": {
             "pattern": {
              "fillmode": "overlay",
              "size": 10,
              "solidity": 0.2
             }
            },
            "type": "histogram"
           }
          ],
          "histogram2d": [
           {
            "colorbar": {
             "outlinewidth": 0,
             "ticks": ""
            },
            "colorscale": [
             [
              0,
              "#0d0887"
             ],
             [
              0.1111111111111111,
              "#46039f"
             ],
             [
              0.2222222222222222,
              "#7201a8"
             ],
             [
              0.3333333333333333,
              "#9c179e"
             ],
             [
              0.4444444444444444,
              "#bd3786"
             ],
             [
              0.5555555555555556,
              "#d8576b"
             ],
             [
              0.6666666666666666,
              "#ed7953"
             ],
             [
              0.7777777777777778,
              "#fb9f3a"
             ],
             [
              0.8888888888888888,
              "#fdca26"
             ],
             [
              1,
              "#f0f921"
             ]
            ],
            "type": "histogram2d"
           }
          ],
          "histogram2dcontour": [
           {
            "colorbar": {
             "outlinewidth": 0,
             "ticks": ""
            },
            "colorscale": [
             [
              0,
              "#0d0887"
             ],
             [
              0.1111111111111111,
              "#46039f"
             ],
             [
              0.2222222222222222,
              "#7201a8"
             ],
             [
              0.3333333333333333,
              "#9c179e"
             ],
             [
              0.4444444444444444,
              "#bd3786"
             ],
             [
              0.5555555555555556,
              "#d8576b"
             ],
             [
              0.6666666666666666,
              "#ed7953"
             ],
             [
              0.7777777777777778,
              "#fb9f3a"
             ],
             [
              0.8888888888888888,
              "#fdca26"
             ],
             [
              1,
              "#f0f921"
             ]
            ],
            "type": "histogram2dcontour"
           }
          ],
          "mesh3d": [
           {
            "colorbar": {
             "outlinewidth": 0,
             "ticks": ""
            },
            "type": "mesh3d"
           }
          ],
          "parcoords": [
           {
            "line": {
             "colorbar": {
              "outlinewidth": 0,
              "ticks": ""
             }
            },
            "type": "parcoords"
           }
          ],
          "pie": [
           {
            "automargin": true,
            "type": "pie"
           }
          ],
          "scatter": [
           {
            "fillpattern": {
             "fillmode": "overlay",
             "size": 10,
             "solidity": 0.2
            },
            "type": "scatter"
           }
          ],
          "scatter3d": [
           {
            "line": {
             "colorbar": {
              "outlinewidth": 0,
              "ticks": ""
             }
            },
            "marker": {
             "colorbar": {
              "outlinewidth": 0,
              "ticks": ""
             }
            },
            "type": "scatter3d"
           }
          ],
          "scattercarpet": [
           {
            "marker": {
             "colorbar": {
              "outlinewidth": 0,
              "ticks": ""
             }
            },
            "type": "scattercarpet"
           }
          ],
          "scattergeo": [
           {
            "marker": {
             "colorbar": {
              "outlinewidth": 0,
              "ticks": ""
             }
            },
            "type": "scattergeo"
           }
          ],
          "scattergl": [
           {
            "marker": {
             "colorbar": {
              "outlinewidth": 0,
              "ticks": ""
             }
            },
            "type": "scattergl"
           }
          ],
          "scattermapbox": [
           {
            "marker": {
             "colorbar": {
              "outlinewidth": 0,
              "ticks": ""
             }
            },
            "type": "scattermapbox"
           }
          ],
          "scatterpolar": [
           {
            "marker": {
             "colorbar": {
              "outlinewidth": 0,
              "ticks": ""
             }
            },
            "type": "scatterpolar"
           }
          ],
          "scatterpolargl": [
           {
            "marker": {
             "colorbar": {
              "outlinewidth": 0,
              "ticks": ""
             }
            },
            "type": "scatterpolargl"
           }
          ],
          "scatterternary": [
           {
            "marker": {
             "colorbar": {
              "outlinewidth": 0,
              "ticks": ""
             }
            },
            "type": "scatterternary"
           }
          ],
          "surface": [
           {
            "colorbar": {
             "outlinewidth": 0,
             "ticks": ""
            },
            "colorscale": [
             [
              0,
              "#0d0887"
             ],
             [
              0.1111111111111111,
              "#46039f"
             ],
             [
              0.2222222222222222,
              "#7201a8"
             ],
             [
              0.3333333333333333,
              "#9c179e"
             ],
             [
              0.4444444444444444,
              "#bd3786"
             ],
             [
              0.5555555555555556,
              "#d8576b"
             ],
             [
              0.6666666666666666,
              "#ed7953"
             ],
             [
              0.7777777777777778,
              "#fb9f3a"
             ],
             [
              0.8888888888888888,
              "#fdca26"
             ],
             [
              1,
              "#f0f921"
             ]
            ],
            "type": "surface"
           }
          ],
          "table": [
           {
            "cells": {
             "fill": {
              "color": "#EBF0F8"
             },
             "line": {
              "color": "white"
             }
            },
            "header": {
             "fill": {
              "color": "#C8D4E3"
             },
             "line": {
              "color": "white"
             }
            },
            "type": "table"
           }
          ]
         },
         "layout": {
          "annotationdefaults": {
           "arrowcolor": "#2a3f5f",
           "arrowhead": 0,
           "arrowwidth": 1
          },
          "autotypenumbers": "strict",
          "coloraxis": {
           "colorbar": {
            "outlinewidth": 0,
            "ticks": ""
           }
          },
          "colorscale": {
           "diverging": [
            [
             0,
             "#8e0152"
            ],
            [
             0.1,
             "#c51b7d"
            ],
            [
             0.2,
             "#de77ae"
            ],
            [
             0.3,
             "#f1b6da"
            ],
            [
             0.4,
             "#fde0ef"
            ],
            [
             0.5,
             "#f7f7f7"
            ],
            [
             0.6,
             "#e6f5d0"
            ],
            [
             0.7,
             "#b8e186"
            ],
            [
             0.8,
             "#7fbc41"
            ],
            [
             0.9,
             "#4d9221"
            ],
            [
             1,
             "#276419"
            ]
           ],
           "sequential": [
            [
             0,
             "#0d0887"
            ],
            [
             0.1111111111111111,
             "#46039f"
            ],
            [
             0.2222222222222222,
             "#7201a8"
            ],
            [
             0.3333333333333333,
             "#9c179e"
            ],
            [
             0.4444444444444444,
             "#bd3786"
            ],
            [
             0.5555555555555556,
             "#d8576b"
            ],
            [
             0.6666666666666666,
             "#ed7953"
            ],
            [
             0.7777777777777778,
             "#fb9f3a"
            ],
            [
             0.8888888888888888,
             "#fdca26"
            ],
            [
             1,
             "#f0f921"
            ]
           ],
           "sequentialminus": [
            [
             0,
             "#0d0887"
            ],
            [
             0.1111111111111111,
             "#46039f"
            ],
            [
             0.2222222222222222,
             "#7201a8"
            ],
            [
             0.3333333333333333,
             "#9c179e"
            ],
            [
             0.4444444444444444,
             "#bd3786"
            ],
            [
             0.5555555555555556,
             "#d8576b"
            ],
            [
             0.6666666666666666,
             "#ed7953"
            ],
            [
             0.7777777777777778,
             "#fb9f3a"
            ],
            [
             0.8888888888888888,
             "#fdca26"
            ],
            [
             1,
             "#f0f921"
            ]
           ]
          },
          "colorway": [
           "#636efa",
           "#EF553B",
           "#00cc96",
           "#ab63fa",
           "#FFA15A",
           "#19d3f3",
           "#FF6692",
           "#B6E880",
           "#FF97FF",
           "#FECB52"
          ],
          "font": {
           "color": "#2a3f5f"
          },
          "geo": {
           "bgcolor": "white",
           "lakecolor": "white",
           "landcolor": "white",
           "showlakes": true,
           "showland": true,
           "subunitcolor": "#C8D4E3"
          },
          "hoverlabel": {
           "align": "left"
          },
          "hovermode": "closest",
          "mapbox": {
           "style": "light"
          },
          "paper_bgcolor": "white",
          "plot_bgcolor": "white",
          "polar": {
           "angularaxis": {
            "gridcolor": "#EBF0F8",
            "linecolor": "#EBF0F8",
            "ticks": ""
           },
           "bgcolor": "white",
           "radialaxis": {
            "gridcolor": "#EBF0F8",
            "linecolor": "#EBF0F8",
            "ticks": ""
           }
          },
          "scene": {
           "xaxis": {
            "backgroundcolor": "white",
            "gridcolor": "#DFE8F3",
            "gridwidth": 2,
            "linecolor": "#EBF0F8",
            "showbackground": true,
            "ticks": "",
            "zerolinecolor": "#EBF0F8"
           },
           "yaxis": {
            "backgroundcolor": "white",
            "gridcolor": "#DFE8F3",
            "gridwidth": 2,
            "linecolor": "#EBF0F8",
            "showbackground": true,
            "ticks": "",
            "zerolinecolor": "#EBF0F8"
           },
           "zaxis": {
            "backgroundcolor": "white",
            "gridcolor": "#DFE8F3",
            "gridwidth": 2,
            "linecolor": "#EBF0F8",
            "showbackground": true,
            "ticks": "",
            "zerolinecolor": "#EBF0F8"
           }
          },
          "shapedefaults": {
           "line": {
            "color": "#2a3f5f"
           }
          },
          "ternary": {
           "aaxis": {
            "gridcolor": "#DFE8F3",
            "linecolor": "#A2B1C6",
            "ticks": ""
           },
           "baxis": {
            "gridcolor": "#DFE8F3",
            "linecolor": "#A2B1C6",
            "ticks": ""
           },
           "bgcolor": "white",
           "caxis": {
            "gridcolor": "#DFE8F3",
            "linecolor": "#A2B1C6",
            "ticks": ""
           }
          },
          "title": {
           "x": 0.05
          },
          "xaxis": {
           "automargin": true,
           "gridcolor": "#EBF0F8",
           "linecolor": "#EBF0F8",
           "ticks": "",
           "title": {
            "standoff": 15
           },
           "zerolinecolor": "#EBF0F8",
           "zerolinewidth": 2
          },
          "yaxis": {
           "automargin": true,
           "gridcolor": "#EBF0F8",
           "linecolor": "#EBF0F8",
           "ticks": "",
           "title": {
            "standoff": 15
           },
           "zerolinecolor": "#EBF0F8",
           "zerolinewidth": 2
          }
         }
        },
        "title": {
         "text": "Top 10 Teams Performance Metrics: Steals and Blocks Percentages"
        },
        "width": 1100,
        "xaxis": {
         "anchor": "y",
         "domain": [
          0,
          1
         ],
         "tickmode": "linear",
         "title": {
          "text": "Top 10 Teams"
         }
        },
        "yaxis": {
         "anchor": "x",
         "domain": [
          0,
          1
         ],
         "title": {
          "text": "Total Points"
         }
        }
       }
      }
     },
     "metadata": {},
     "output_type": "display_data"
    },
    {
     "data": {
      "application/vnd.plotly.v1+json": {
       "config": {
        "plotlyServerURL": "https://plot.ly"
       },
       "data": [
        {
         "customdata": [
          [
           "North Carolina"
          ],
          [
           "Wake Forest"
          ]
         ],
         "domain": {
          "x": [
           0,
           1
          ],
          "y": [
           0,
           1
          ]
         },
         "hovertemplate": "team=%{customdata[0]}<br>count=%{value}<extra></extra>",
         "labels": [
          "North Carolina",
          "Wake Forest"
         ],
         "legendgroup": "",
         "marker": {
          "colors": [
           "blue",
           "red"
          ]
         },
         "name": "",
         "showlegend": true,
         "type": "pie",
         "values": [
          14,
          4
         ]
        }
       ],
       "layout": {
        "height": 500,
        "legend": {
         "tracegroupgap": 0
        },
        "piecolorway": [
         "blue",
         "red"
        ],
        "template": {
         "data": {
          "bar": [
           {
            "error_x": {
             "color": "#2a3f5f"
            },
            "error_y": {
             "color": "#2a3f5f"
            },
            "marker": {
             "line": {
              "color": "#E5ECF6",
              "width": 0.5
             },
             "pattern": {
              "fillmode": "overlay",
              "size": 10,
              "solidity": 0.2
             }
            },
            "type": "bar"
           }
          ],
          "barpolar": [
           {
            "marker": {
             "line": {
              "color": "#E5ECF6",
              "width": 0.5
             },
             "pattern": {
              "fillmode": "overlay",
              "size": 10,
              "solidity": 0.2
             }
            },
            "type": "barpolar"
           }
          ],
          "carpet": [
           {
            "aaxis": {
             "endlinecolor": "#2a3f5f",
             "gridcolor": "white",
             "linecolor": "white",
             "minorgridcolor": "white",
             "startlinecolor": "#2a3f5f"
            },
            "baxis": {
             "endlinecolor": "#2a3f5f",
             "gridcolor": "white",
             "linecolor": "white",
             "minorgridcolor": "white",
             "startlinecolor": "#2a3f5f"
            },
            "type": "carpet"
           }
          ],
          "choropleth": [
           {
            "colorbar": {
             "outlinewidth": 0,
             "ticks": ""
            },
            "type": "choropleth"
           }
          ],
          "contour": [
           {
            "colorbar": {
             "outlinewidth": 0,
             "ticks": ""
            },
            "colorscale": [
             [
              0,
              "#0d0887"
             ],
             [
              0.1111111111111111,
              "#46039f"
             ],
             [
              0.2222222222222222,
              "#7201a8"
             ],
             [
              0.3333333333333333,
              "#9c179e"
             ],
             [
              0.4444444444444444,
              "#bd3786"
             ],
             [
              0.5555555555555556,
              "#d8576b"
             ],
             [
              0.6666666666666666,
              "#ed7953"
             ],
             [
              0.7777777777777778,
              "#fb9f3a"
             ],
             [
              0.8888888888888888,
              "#fdca26"
             ],
             [
              1,
              "#f0f921"
             ]
            ],
            "type": "contour"
           }
          ],
          "contourcarpet": [
           {
            "colorbar": {
             "outlinewidth": 0,
             "ticks": ""
            },
            "type": "contourcarpet"
           }
          ],
          "heatmap": [
           {
            "colorbar": {
             "outlinewidth": 0,
             "ticks": ""
            },
            "colorscale": [
             [
              0,
              "#0d0887"
             ],
             [
              0.1111111111111111,
              "#46039f"
             ],
             [
              0.2222222222222222,
              "#7201a8"
             ],
             [
              0.3333333333333333,
              "#9c179e"
             ],
             [
              0.4444444444444444,
              "#bd3786"
             ],
             [
              0.5555555555555556,
              "#d8576b"
             ],
             [
              0.6666666666666666,
              "#ed7953"
             ],
             [
              0.7777777777777778,
              "#fb9f3a"
             ],
             [
              0.8888888888888888,
              "#fdca26"
             ],
             [
              1,
              "#f0f921"
             ]
            ],
            "type": "heatmap"
           }
          ],
          "heatmapgl": [
           {
            "colorbar": {
             "outlinewidth": 0,
             "ticks": ""
            },
            "colorscale": [
             [
              0,
              "#0d0887"
             ],
             [
              0.1111111111111111,
              "#46039f"
             ],
             [
              0.2222222222222222,
              "#7201a8"
             ],
             [
              0.3333333333333333,
              "#9c179e"
             ],
             [
              0.4444444444444444,
              "#bd3786"
             ],
             [
              0.5555555555555556,
              "#d8576b"
             ],
             [
              0.6666666666666666,
              "#ed7953"
             ],
             [
              0.7777777777777778,
              "#fb9f3a"
             ],
             [
              0.8888888888888888,
              "#fdca26"
             ],
             [
              1,
              "#f0f921"
             ]
            ],
            "type": "heatmapgl"
           }
          ],
          "histogram": [
           {
            "marker": {
             "pattern": {
              "fillmode": "overlay",
              "size": 10,
              "solidity": 0.2
             }
            },
            "type": "histogram"
           }
          ],
          "histogram2d": [
           {
            "colorbar": {
             "outlinewidth": 0,
             "ticks": ""
            },
            "colorscale": [
             [
              0,
              "#0d0887"
             ],
             [
              0.1111111111111111,
              "#46039f"
             ],
             [
              0.2222222222222222,
              "#7201a8"
             ],
             [
              0.3333333333333333,
              "#9c179e"
             ],
             [
              0.4444444444444444,
              "#bd3786"
             ],
             [
              0.5555555555555556,
              "#d8576b"
             ],
             [
              0.6666666666666666,
              "#ed7953"
             ],
             [
              0.7777777777777778,
              "#fb9f3a"
             ],
             [
              0.8888888888888888,
              "#fdca26"
             ],
             [
              1,
              "#f0f921"
             ]
            ],
            "type": "histogram2d"
           }
          ],
          "histogram2dcontour": [
           {
            "colorbar": {
             "outlinewidth": 0,
             "ticks": ""
            },
            "colorscale": [
             [
              0,
              "#0d0887"
             ],
             [
              0.1111111111111111,
              "#46039f"
             ],
             [
              0.2222222222222222,
              "#7201a8"
             ],
             [
              0.3333333333333333,
              "#9c179e"
             ],
             [
              0.4444444444444444,
              "#bd3786"
             ],
             [
              0.5555555555555556,
              "#d8576b"
             ],
             [
              0.6666666666666666,
              "#ed7953"
             ],
             [
              0.7777777777777778,
              "#fb9f3a"
             ],
             [
              0.8888888888888888,
              "#fdca26"
             ],
             [
              1,
              "#f0f921"
             ]
            ],
            "type": "histogram2dcontour"
           }
          ],
          "mesh3d": [
           {
            "colorbar": {
             "outlinewidth": 0,
             "ticks": ""
            },
            "type": "mesh3d"
           }
          ],
          "parcoords": [
           {
            "line": {
             "colorbar": {
              "outlinewidth": 0,
              "ticks": ""
             }
            },
            "type": "parcoords"
           }
          ],
          "pie": [
           {
            "automargin": true,
            "type": "pie"
           }
          ],
          "scatter": [
           {
            "fillpattern": {
             "fillmode": "overlay",
             "size": 10,
             "solidity": 0.2
            },
            "type": "scatter"
           }
          ],
          "scatter3d": [
           {
            "line": {
             "colorbar": {
              "outlinewidth": 0,
              "ticks": ""
             }
            },
            "marker": {
             "colorbar": {
              "outlinewidth": 0,
              "ticks": ""
             }
            },
            "type": "scatter3d"
           }
          ],
          "scattercarpet": [
           {
            "marker": {
             "colorbar": {
              "outlinewidth": 0,
              "ticks": ""
             }
            },
            "type": "scattercarpet"
           }
          ],
          "scattergeo": [
           {
            "marker": {
             "colorbar": {
              "outlinewidth": 0,
              "ticks": ""
             }
            },
            "type": "scattergeo"
           }
          ],
          "scattergl": [
           {
            "marker": {
             "colorbar": {
              "outlinewidth": 0,
              "ticks": ""
             }
            },
            "type": "scattergl"
           }
          ],
          "scattermapbox": [
           {
            "marker": {
             "colorbar": {
              "outlinewidth": 0,
              "ticks": ""
             }
            },
            "type": "scattermapbox"
           }
          ],
          "scatterpolar": [
           {
            "marker": {
             "colorbar": {
              "outlinewidth": 0,
              "ticks": ""
             }
            },
            "type": "scatterpolar"
           }
          ],
          "scatterpolargl": [
           {
            "marker": {
             "colorbar": {
              "outlinewidth": 0,
              "ticks": ""
             }
            },
            "type": "scatterpolargl"
           }
          ],
          "scatterternary": [
           {
            "marker": {
             "colorbar": {
              "outlinewidth": 0,
              "ticks": ""
             }
            },
            "type": "scatterternary"
           }
          ],
          "surface": [
           {
            "colorbar": {
             "outlinewidth": 0,
             "ticks": ""
            },
            "colorscale": [
             [
              0,
              "#0d0887"
             ],
             [
              0.1111111111111111,
              "#46039f"
             ],
             [
              0.2222222222222222,
              "#7201a8"
             ],
             [
              0.3333333333333333,
              "#9c179e"
             ],
             [
              0.4444444444444444,
              "#bd3786"
             ],
             [
              0.5555555555555556,
              "#d8576b"
             ],
             [
              0.6666666666666666,
              "#ed7953"
             ],
             [
              0.7777777777777778,
              "#fb9f3a"
             ],
             [
              0.8888888888888888,
              "#fdca26"
             ],
             [
              1,
              "#f0f921"
             ]
            ],
            "type": "surface"
           }
          ],
          "table": [
           {
            "cells": {
             "fill": {
              "color": "#EBF0F8"
             },
             "line": {
              "color": "white"
             }
            },
            "header": {
             "fill": {
              "color": "#C8D4E3"
             },
             "line": {
              "color": "white"
             }
            },
            "type": "table"
           }
          ]
         },
         "layout": {
          "annotationdefaults": {
           "arrowcolor": "#2a3f5f",
           "arrowhead": 0,
           "arrowwidth": 1
          },
          "autotypenumbers": "strict",
          "coloraxis": {
           "colorbar": {
            "outlinewidth": 0,
            "ticks": ""
           }
          },
          "colorscale": {
           "diverging": [
            [
             0,
             "#8e0152"
            ],
            [
             0.1,
             "#c51b7d"
            ],
            [
             0.2,
             "#de77ae"
            ],
            [
             0.3,
             "#f1b6da"
            ],
            [
             0.4,
             "#fde0ef"
            ],
            [
             0.5,
             "#f7f7f7"
            ],
            [
             0.6,
             "#e6f5d0"
            ],
            [
             0.7,
             "#b8e186"
            ],
            [
             0.8,
             "#7fbc41"
            ],
            [
             0.9,
             "#4d9221"
            ],
            [
             1,
             "#276419"
            ]
           ],
           "sequential": [
            [
             0,
             "#0d0887"
            ],
            [
             0.1111111111111111,
             "#46039f"
            ],
            [
             0.2222222222222222,
             "#7201a8"
            ],
            [
             0.3333333333333333,
             "#9c179e"
            ],
            [
             0.4444444444444444,
             "#bd3786"
            ],
            [
             0.5555555555555556,
             "#d8576b"
            ],
            [
             0.6666666666666666,
             "#ed7953"
            ],
            [
             0.7777777777777778,
             "#fb9f3a"
            ],
            [
             0.8888888888888888,
             "#fdca26"
            ],
            [
             1,
             "#f0f921"
            ]
           ],
           "sequentialminus": [
            [
             0,
             "#0d0887"
            ],
            [
             0.1111111111111111,
             "#46039f"
            ],
            [
             0.2222222222222222,
             "#7201a8"
            ],
            [
             0.3333333333333333,
             "#9c179e"
            ],
            [
             0.4444444444444444,
             "#bd3786"
            ],
            [
             0.5555555555555556,
             "#d8576b"
            ],
            [
             0.6666666666666666,
             "#ed7953"
            ],
            [
             0.7777777777777778,
             "#fb9f3a"
            ],
            [
             0.8888888888888888,
             "#fdca26"
            ],
            [
             1,
             "#f0f921"
            ]
           ]
          },
          "colorway": [
           "#636efa",
           "#EF553B",
           "#00cc96",
           "#ab63fa",
           "#FFA15A",
           "#19d3f3",
           "#FF6692",
           "#B6E880",
           "#FF97FF",
           "#FECB52"
          ],
          "font": {
           "color": "#2a3f5f"
          },
          "geo": {
           "bgcolor": "white",
           "lakecolor": "white",
           "landcolor": "#E5ECF6",
           "showlakes": true,
           "showland": true,
           "subunitcolor": "white"
          },
          "hoverlabel": {
           "align": "left"
          },
          "hovermode": "closest",
          "mapbox": {
           "style": "light"
          },
          "paper_bgcolor": "white",
          "plot_bgcolor": "#E5ECF6",
          "polar": {
           "angularaxis": {
            "gridcolor": "white",
            "linecolor": "white",
            "ticks": ""
           },
           "bgcolor": "#E5ECF6",
           "radialaxis": {
            "gridcolor": "white",
            "linecolor": "white",
            "ticks": ""
           }
          },
          "scene": {
           "xaxis": {
            "backgroundcolor": "#E5ECF6",
            "gridcolor": "white",
            "gridwidth": 2,
            "linecolor": "white",
            "showbackground": true,
            "ticks": "",
            "zerolinecolor": "white"
           },
           "yaxis": {
            "backgroundcolor": "#E5ECF6",
            "gridcolor": "white",
            "gridwidth": 2,
            "linecolor": "white",
            "showbackground": true,
            "ticks": "",
            "zerolinecolor": "white"
           },
           "zaxis": {
            "backgroundcolor": "#E5ECF6",
            "gridcolor": "white",
            "gridwidth": 2,
            "linecolor": "white",
            "showbackground": true,
            "ticks": "",
            "zerolinecolor": "white"
           }
          },
          "shapedefaults": {
           "line": {
            "color": "#2a3f5f"
           }
          },
          "ternary": {
           "aaxis": {
            "gridcolor": "white",
            "linecolor": "white",
            "ticks": ""
           },
           "baxis": {
            "gridcolor": "white",
            "linecolor": "white",
            "ticks": ""
           },
           "bgcolor": "#E5ECF6",
           "caxis": {
            "gridcolor": "white",
            "linecolor": "white",
            "ticks": ""
           }
          },
          "title": {
           "x": 0.05
          },
          "xaxis": {
           "automargin": true,
           "gridcolor": "white",
           "linecolor": "white",
           "ticks": "",
           "title": {
            "standoff": 15
           },
           "zerolinecolor": "white",
           "zerolinewidth": 2
          },
          "yaxis": {
           "automargin": true,
           "gridcolor": "white",
           "linecolor": "white",
           "ticks": "",
           "title": {
            "standoff": 15
           },
           "zerolinecolor": "white",
           "zerolinewidth": 2
          }
         }
        },
        "title": {
         "text": "Top Teams with Drafted Players"
        },
        "width": 800,
        "xaxis": {
         "title": {
          "text": "Team"
         }
        },
        "yaxis": {
         "title": {
          "text": "Counts"
         }
        }
       }
      }
     },
     "metadata": {},
     "output_type": "display_data"
    }
   ],
   "source": [
    "eda(train_df)"
   ]
  },
  {
   "cell_type": "code",
   "execution_count": 58,
   "id": "c717f43e10bcb7ed",
   "metadata": {
    "ExecuteTime": {
     "end_time": "2024-09-04T03:21:00.801746Z",
     "start_time": "2024-09-04T03:21:00.776865Z"
    }
   },
   "outputs": [
    {
     "data": {
      "text/html": [
       "<div>\n",
       "<style scoped>\n",
       "    .dataframe tbody tr th:only-of-type {\n",
       "        vertical-align: middle;\n",
       "    }\n",
       "\n",
       "    .dataframe tbody tr th {\n",
       "        vertical-align: top;\n",
       "    }\n",
       "\n",
       "    .dataframe thead th {\n",
       "        text-align: right;\n",
       "    }\n",
       "</style>\n",
       "<table border=\"1\" class=\"dataframe\">\n",
       "  <thead>\n",
       "    <tr style=\"text-align: right;\">\n",
       "      <th></th>\n",
       "      <th>missing_values</th>\n",
       "      <th>percentage_missing</th>\n",
       "    </tr>\n",
       "  </thead>\n",
       "  <tbody>\n",
       "    <tr>\n",
       "      <th>team</th>\n",
       "      <td>0</td>\n",
       "      <td>0.000000</td>\n",
       "    </tr>\n",
       "    <tr>\n",
       "      <th>conf</th>\n",
       "      <td>0</td>\n",
       "      <td>0.000000</td>\n",
       "    </tr>\n",
       "    <tr>\n",
       "      <th>gp</th>\n",
       "      <td>0</td>\n",
       "      <td>0.000000</td>\n",
       "    </tr>\n",
       "    <tr>\n",
       "      <th>min_per</th>\n",
       "      <td>0</td>\n",
       "      <td>0.000000</td>\n",
       "    </tr>\n",
       "    <tr>\n",
       "      <th>ortg</th>\n",
       "      <td>0</td>\n",
       "      <td>0.000000</td>\n",
       "    </tr>\n",
       "    <tr>\n",
       "      <th>usg</th>\n",
       "      <td>0</td>\n",
       "      <td>0.000000</td>\n",
       "    </tr>\n",
       "    <tr>\n",
       "      <th>efg</th>\n",
       "      <td>0</td>\n",
       "      <td>0.000000</td>\n",
       "    </tr>\n",
       "    <tr>\n",
       "      <th>ts_per</th>\n",
       "      <td>0</td>\n",
       "      <td>0.000000</td>\n",
       "    </tr>\n",
       "    <tr>\n",
       "      <th>orb_per</th>\n",
       "      <td>0</td>\n",
       "      <td>0.000000</td>\n",
       "    </tr>\n",
       "    <tr>\n",
       "      <th>drb_per</th>\n",
       "      <td>0</td>\n",
       "      <td>0.000000</td>\n",
       "    </tr>\n",
       "    <tr>\n",
       "      <th>ast_per</th>\n",
       "      <td>0</td>\n",
       "      <td>0.000000</td>\n",
       "    </tr>\n",
       "    <tr>\n",
       "      <th>to_per</th>\n",
       "      <td>0</td>\n",
       "      <td>0.000000</td>\n",
       "    </tr>\n",
       "    <tr>\n",
       "      <th>ftm</th>\n",
       "      <td>0</td>\n",
       "      <td>0.000000</td>\n",
       "    </tr>\n",
       "    <tr>\n",
       "      <th>fta</th>\n",
       "      <td>0</td>\n",
       "      <td>0.000000</td>\n",
       "    </tr>\n",
       "    <tr>\n",
       "      <th>ft_per</th>\n",
       "      <td>0</td>\n",
       "      <td>0.000000</td>\n",
       "    </tr>\n",
       "    <tr>\n",
       "      <th>twopm</th>\n",
       "      <td>0</td>\n",
       "      <td>0.000000</td>\n",
       "    </tr>\n",
       "    <tr>\n",
       "      <th>twopa</th>\n",
       "      <td>0</td>\n",
       "      <td>0.000000</td>\n",
       "    </tr>\n",
       "    <tr>\n",
       "      <th>twop_per</th>\n",
       "      <td>0</td>\n",
       "      <td>0.000000</td>\n",
       "    </tr>\n",
       "    <tr>\n",
       "      <th>tpm</th>\n",
       "      <td>0</td>\n",
       "      <td>0.000000</td>\n",
       "    </tr>\n",
       "    <tr>\n",
       "      <th>tpa</th>\n",
       "      <td>0</td>\n",
       "      <td>0.000000</td>\n",
       "    </tr>\n",
       "    <tr>\n",
       "      <th>tp_per</th>\n",
       "      <td>0</td>\n",
       "      <td>0.000000</td>\n",
       "    </tr>\n",
       "    <tr>\n",
       "      <th>blk_per</th>\n",
       "      <td>0</td>\n",
       "      <td>0.000000</td>\n",
       "    </tr>\n",
       "    <tr>\n",
       "      <th>stl_per</th>\n",
       "      <td>0</td>\n",
       "      <td>0.000000</td>\n",
       "    </tr>\n",
       "    <tr>\n",
       "      <th>ftr</th>\n",
       "      <td>0</td>\n",
       "      <td>0.000000</td>\n",
       "    </tr>\n",
       "    <tr>\n",
       "      <th>yr</th>\n",
       "      <td>292</td>\n",
       "      <td>0.626367</td>\n",
       "    </tr>\n",
       "    <tr>\n",
       "      <th>ht</th>\n",
       "      <td>64</td>\n",
       "      <td>0.137286</td>\n",
       "    </tr>\n",
       "    <tr>\n",
       "      <th>num</th>\n",
       "      <td>4679</td>\n",
       "      <td>10.036896</td>\n",
       "    </tr>\n",
       "    <tr>\n",
       "      <th>porpag</th>\n",
       "      <td>0</td>\n",
       "      <td>0.000000</td>\n",
       "    </tr>\n",
       "    <tr>\n",
       "      <th>adjoe</th>\n",
       "      <td>0</td>\n",
       "      <td>0.000000</td>\n",
       "    </tr>\n",
       "    <tr>\n",
       "      <th>pfr</th>\n",
       "      <td>0</td>\n",
       "      <td>0.000000</td>\n",
       "    </tr>\n",
       "    <tr>\n",
       "      <th>year</th>\n",
       "      <td>0</td>\n",
       "      <td>0.000000</td>\n",
       "    </tr>\n",
       "    <tr>\n",
       "      <th>type</th>\n",
       "      <td>0</td>\n",
       "      <td>0.000000</td>\n",
       "    </tr>\n",
       "    <tr>\n",
       "      <th>rec_rank</th>\n",
       "      <td>32281</td>\n",
       "      <td>69.245785</td>\n",
       "    </tr>\n",
       "    <tr>\n",
       "      <th>ast_tov</th>\n",
       "      <td>3467</td>\n",
       "      <td>7.437041</td>\n",
       "    </tr>\n",
       "    <tr>\n",
       "      <th>rimmade</th>\n",
       "      <td>5758</td>\n",
       "      <td>12.351452</td>\n",
       "    </tr>\n",
       "    <tr>\n",
       "      <th>rimmade_rimmiss</th>\n",
       "      <td>5758</td>\n",
       "      <td>12.351452</td>\n",
       "    </tr>\n",
       "    <tr>\n",
       "      <th>midmade</th>\n",
       "      <td>5758</td>\n",
       "      <td>12.351452</td>\n",
       "    </tr>\n",
       "    <tr>\n",
       "      <th>midmade_midmiss</th>\n",
       "      <td>5758</td>\n",
       "      <td>12.351452</td>\n",
       "    </tr>\n",
       "    <tr>\n",
       "      <th>rim_ratio</th>\n",
       "      <td>8499</td>\n",
       "      <td>18.231155</td>\n",
       "    </tr>\n",
       "    <tr>\n",
       "      <th>mid_ratio</th>\n",
       "      <td>8568</td>\n",
       "      <td>18.379167</td>\n",
       "    </tr>\n",
       "    <tr>\n",
       "      <th>dunksmade</th>\n",
       "      <td>5758</td>\n",
       "      <td>12.351452</td>\n",
       "    </tr>\n",
       "    <tr>\n",
       "      <th>dunksmiss_dunksmade</th>\n",
       "      <td>5758</td>\n",
       "      <td>12.351452</td>\n",
       "    </tr>\n",
       "    <tr>\n",
       "      <th>dunks_ratio</th>\n",
       "      <td>26218</td>\n",
       "      <td>56.240079</td>\n",
       "    </tr>\n",
       "    <tr>\n",
       "      <th>pick</th>\n",
       "      <td>45411</td>\n",
       "      <td>97.410871</td>\n",
       "    </tr>\n",
       "    <tr>\n",
       "      <th>drtg</th>\n",
       "      <td>42</td>\n",
       "      <td>0.090094</td>\n",
       "    </tr>\n",
       "    <tr>\n",
       "      <th>adrtg</th>\n",
       "      <td>42</td>\n",
       "      <td>0.090094</td>\n",
       "    </tr>\n",
       "    <tr>\n",
       "      <th>dporpag</th>\n",
       "      <td>42</td>\n",
       "      <td>0.090094</td>\n",
       "    </tr>\n",
       "    <tr>\n",
       "      <th>stops</th>\n",
       "      <td>42</td>\n",
       "      <td>0.090094</td>\n",
       "    </tr>\n",
       "    <tr>\n",
       "      <th>bpm</th>\n",
       "      <td>42</td>\n",
       "      <td>0.090094</td>\n",
       "    </tr>\n",
       "    <tr>\n",
       "      <th>obpm</th>\n",
       "      <td>42</td>\n",
       "      <td>0.090094</td>\n",
       "    </tr>\n",
       "    <tr>\n",
       "      <th>dbpm</th>\n",
       "      <td>42</td>\n",
       "      <td>0.090094</td>\n",
       "    </tr>\n",
       "    <tr>\n",
       "      <th>gbpm</th>\n",
       "      <td>42</td>\n",
       "      <td>0.090094</td>\n",
       "    </tr>\n",
       "    <tr>\n",
       "      <th>mp</th>\n",
       "      <td>36</td>\n",
       "      <td>0.077223</td>\n",
       "    </tr>\n",
       "    <tr>\n",
       "      <th>ogbpm</th>\n",
       "      <td>42</td>\n",
       "      <td>0.090094</td>\n",
       "    </tr>\n",
       "    <tr>\n",
       "      <th>dgbpm</th>\n",
       "      <td>42</td>\n",
       "      <td>0.090094</td>\n",
       "    </tr>\n",
       "    <tr>\n",
       "      <th>oreb</th>\n",
       "      <td>36</td>\n",
       "      <td>0.077223</td>\n",
       "    </tr>\n",
       "    <tr>\n",
       "      <th>dreb</th>\n",
       "      <td>36</td>\n",
       "      <td>0.077223</td>\n",
       "    </tr>\n",
       "    <tr>\n",
       "      <th>treb</th>\n",
       "      <td>36</td>\n",
       "      <td>0.077223</td>\n",
       "    </tr>\n",
       "    <tr>\n",
       "      <th>ast</th>\n",
       "      <td>36</td>\n",
       "      <td>0.077223</td>\n",
       "    </tr>\n",
       "    <tr>\n",
       "      <th>stl</th>\n",
       "      <td>36</td>\n",
       "      <td>0.077223</td>\n",
       "    </tr>\n",
       "    <tr>\n",
       "      <th>blk</th>\n",
       "      <td>36</td>\n",
       "      <td>0.077223</td>\n",
       "    </tr>\n",
       "    <tr>\n",
       "      <th>pts</th>\n",
       "      <td>36</td>\n",
       "      <td>0.077223</td>\n",
       "    </tr>\n",
       "    <tr>\n",
       "      <th>player_id</th>\n",
       "      <td>0</td>\n",
       "      <td>0.000000</td>\n",
       "    </tr>\n",
       "    <tr>\n",
       "      <th>drafted</th>\n",
       "      <td>0</td>\n",
       "      <td>0.000000</td>\n",
       "    </tr>\n",
       "  </tbody>\n",
       "</table>\n",
       "</div>"
      ],
      "text/plain": [
       "                     missing_values  percentage_missing\n",
       "team                              0            0.000000\n",
       "conf                              0            0.000000\n",
       "gp                                0            0.000000\n",
       "min_per                           0            0.000000\n",
       "ortg                              0            0.000000\n",
       "usg                               0            0.000000\n",
       "efg                               0            0.000000\n",
       "ts_per                            0            0.000000\n",
       "orb_per                           0            0.000000\n",
       "drb_per                           0            0.000000\n",
       "ast_per                           0            0.000000\n",
       "to_per                            0            0.000000\n",
       "ftm                               0            0.000000\n",
       "fta                               0            0.000000\n",
       "ft_per                            0            0.000000\n",
       "twopm                             0            0.000000\n",
       "twopa                             0            0.000000\n",
       "twop_per                          0            0.000000\n",
       "tpm                               0            0.000000\n",
       "tpa                               0            0.000000\n",
       "tp_per                            0            0.000000\n",
       "blk_per                           0            0.000000\n",
       "stl_per                           0            0.000000\n",
       "ftr                               0            0.000000\n",
       "yr                              292            0.626367\n",
       "ht                               64            0.137286\n",
       "num                            4679           10.036896\n",
       "porpag                            0            0.000000\n",
       "adjoe                             0            0.000000\n",
       "pfr                               0            0.000000\n",
       "year                              0            0.000000\n",
       "type                              0            0.000000\n",
       "rec_rank                      32281           69.245785\n",
       "ast_tov                        3467            7.437041\n",
       "rimmade                        5758           12.351452\n",
       "rimmade_rimmiss                5758           12.351452\n",
       "midmade                        5758           12.351452\n",
       "midmade_midmiss                5758           12.351452\n",
       "rim_ratio                      8499           18.231155\n",
       "mid_ratio                      8568           18.379167\n",
       "dunksmade                      5758           12.351452\n",
       "dunksmiss_dunksmade            5758           12.351452\n",
       "dunks_ratio                   26218           56.240079\n",
       "pick                          45411           97.410871\n",
       "drtg                             42            0.090094\n",
       "adrtg                            42            0.090094\n",
       "dporpag                          42            0.090094\n",
       "stops                            42            0.090094\n",
       "bpm                              42            0.090094\n",
       "obpm                             42            0.090094\n",
       "dbpm                             42            0.090094\n",
       "gbpm                             42            0.090094\n",
       "mp                               36            0.077223\n",
       "ogbpm                            42            0.090094\n",
       "dgbpm                            42            0.090094\n",
       "oreb                             36            0.077223\n",
       "dreb                             36            0.077223\n",
       "treb                             36            0.077223\n",
       "ast                              36            0.077223\n",
       "stl                              36            0.077223\n",
       "blk                              36            0.077223\n",
       "pts                              36            0.077223\n",
       "player_id                         0            0.000000\n",
       "drafted                           0            0.000000"
      ]
     },
     "execution_count": 58,
     "metadata": {},
     "output_type": "execute_result"
    }
   ],
   "source": [
    "make_ds.report_missing_values(train_df)"
   ]
  },
  {
   "cell_type": "code",
   "execution_count": 59,
   "id": "eb97befbffbdfa03",
   "metadata": {
    "ExecuteTime": {
     "end_time": "2024-09-04T03:19:39.688760Z",
     "start_time": "2024-09-04T03:19:39.685961Z"
    }
   },
   "outputs": [
    {
     "name": "stdout",
     "output_type": "stream",
     "text": [
      "Initial DataFrame shape: (46618, 64)\n",
      "Imputing missing values...\n",
      "Shape after imputing missing values: (46618, 64)\n",
      "Dropping unnecessary columns...\n",
      "Shape after dropping unnecessary columns: (46618, 60)\n",
      "Dropping columns with high percentage of missing values...\n",
      "Shape after dropping high missing columns: (46618, 57)\n",
      "Handling duplicates...\n",
      "Shape after handling duplicates: (46617, 57)\n",
      "Filtering 'yr' values: ['Jr', 'Fr', 'So', 'Sr']\n",
      "Shape after filtering 'yr' values: (46610, 57)\n",
      "Encoded 'yr' as categorical codes.\n",
      "Encoding categorical columns...\n",
      "Shape after encoding categorical columns: (46610, 57)\n",
      "Final DataFrame shape: (46610, 57)\n"
     ]
    }
   ],
   "source": [
    "train_df_clean = make_ds.clean_data(train_df)"
   ]
  },
  {
   "cell_type": "code",
   "execution_count": 60,
   "id": "3e63c20e",
   "metadata": {},
   "outputs": [
    {
     "data": {
      "text/plain": [
       "Index(['team', 'conf', 'gp', 'min_per', 'ortg', 'usg', 'efg', 'ts_per',\n",
       "       'orb_per', 'drb_per', 'ast_per', 'to_per', 'ftm', 'fta', 'ft_per',\n",
       "       'twopm', 'twopa', 'twop_per', 'tpm', 'tpa', 'tp_per', 'blk_per',\n",
       "       'stl_per', 'ftr', 'yr', 'porpag', 'adjoe', 'pfr', 'year', 'ast_tov',\n",
       "       'rimmade', 'rimmade_rimmiss', 'midmade', 'midmade_midmiss', 'rim_ratio',\n",
       "       'mid_ratio', 'dunksmade', 'dunksmiss_dunksmade', 'drtg', 'adrtg',\n",
       "       'dporpag', 'stops', 'bpm', 'obpm', 'dbpm', 'gbpm', 'mp', 'ogbpm',\n",
       "       'dgbpm', 'oreb', 'dreb', 'treb', 'ast', 'stl', 'blk', 'pts', 'drafted'],\n",
       "      dtype='object')"
      ]
     },
     "execution_count": 60,
     "metadata": {},
     "output_type": "execute_result"
    }
   ],
   "source": [
    "train_df.columns"
   ]
  },
  {
   "cell_type": "code",
   "execution_count": 61,
   "id": "73134a2e",
   "metadata": {},
   "outputs": [
    {
     "data": {
      "text/html": [
       "<div>\n",
       "<style scoped>\n",
       "    .dataframe tbody tr th:only-of-type {\n",
       "        vertical-align: middle;\n",
       "    }\n",
       "\n",
       "    .dataframe tbody tr th {\n",
       "        vertical-align: top;\n",
       "    }\n",
       "\n",
       "    .dataframe thead th {\n",
       "        text-align: right;\n",
       "    }\n",
       "</style>\n",
       "<table border=\"1\" class=\"dataframe\">\n",
       "  <thead>\n",
       "    <tr style=\"text-align: right;\">\n",
       "      <th></th>\n",
       "      <th>missing_values</th>\n",
       "      <th>percentage_missing</th>\n",
       "    </tr>\n",
       "  </thead>\n",
       "  <tbody>\n",
       "    <tr>\n",
       "      <th>team</th>\n",
       "      <td>0</td>\n",
       "      <td>0.000000</td>\n",
       "    </tr>\n",
       "    <tr>\n",
       "      <th>conf</th>\n",
       "      <td>0</td>\n",
       "      <td>0.000000</td>\n",
       "    </tr>\n",
       "    <tr>\n",
       "      <th>gp</th>\n",
       "      <td>0</td>\n",
       "      <td>0.000000</td>\n",
       "    </tr>\n",
       "    <tr>\n",
       "      <th>min_per</th>\n",
       "      <td>0</td>\n",
       "      <td>0.000000</td>\n",
       "    </tr>\n",
       "    <tr>\n",
       "      <th>ortg</th>\n",
       "      <td>0</td>\n",
       "      <td>0.000000</td>\n",
       "    </tr>\n",
       "    <tr>\n",
       "      <th>usg</th>\n",
       "      <td>0</td>\n",
       "      <td>0.000000</td>\n",
       "    </tr>\n",
       "    <tr>\n",
       "      <th>efg</th>\n",
       "      <td>0</td>\n",
       "      <td>0.000000</td>\n",
       "    </tr>\n",
       "    <tr>\n",
       "      <th>ts_per</th>\n",
       "      <td>0</td>\n",
       "      <td>0.000000</td>\n",
       "    </tr>\n",
       "    <tr>\n",
       "      <th>orb_per</th>\n",
       "      <td>0</td>\n",
       "      <td>0.000000</td>\n",
       "    </tr>\n",
       "    <tr>\n",
       "      <th>drb_per</th>\n",
       "      <td>0</td>\n",
       "      <td>0.000000</td>\n",
       "    </tr>\n",
       "    <tr>\n",
       "      <th>ast_per</th>\n",
       "      <td>0</td>\n",
       "      <td>0.000000</td>\n",
       "    </tr>\n",
       "    <tr>\n",
       "      <th>to_per</th>\n",
       "      <td>0</td>\n",
       "      <td>0.000000</td>\n",
       "    </tr>\n",
       "    <tr>\n",
       "      <th>ftm</th>\n",
       "      <td>0</td>\n",
       "      <td>0.000000</td>\n",
       "    </tr>\n",
       "    <tr>\n",
       "      <th>fta</th>\n",
       "      <td>0</td>\n",
       "      <td>0.000000</td>\n",
       "    </tr>\n",
       "    <tr>\n",
       "      <th>ft_per</th>\n",
       "      <td>0</td>\n",
       "      <td>0.000000</td>\n",
       "    </tr>\n",
       "    <tr>\n",
       "      <th>twopm</th>\n",
       "      <td>0</td>\n",
       "      <td>0.000000</td>\n",
       "    </tr>\n",
       "    <tr>\n",
       "      <th>twopa</th>\n",
       "      <td>0</td>\n",
       "      <td>0.000000</td>\n",
       "    </tr>\n",
       "    <tr>\n",
       "      <th>twop_per</th>\n",
       "      <td>0</td>\n",
       "      <td>0.000000</td>\n",
       "    </tr>\n",
       "    <tr>\n",
       "      <th>tpm</th>\n",
       "      <td>0</td>\n",
       "      <td>0.000000</td>\n",
       "    </tr>\n",
       "    <tr>\n",
       "      <th>tpa</th>\n",
       "      <td>0</td>\n",
       "      <td>0.000000</td>\n",
       "    </tr>\n",
       "    <tr>\n",
       "      <th>tp_per</th>\n",
       "      <td>0</td>\n",
       "      <td>0.000000</td>\n",
       "    </tr>\n",
       "    <tr>\n",
       "      <th>blk_per</th>\n",
       "      <td>0</td>\n",
       "      <td>0.000000</td>\n",
       "    </tr>\n",
       "    <tr>\n",
       "      <th>stl_per</th>\n",
       "      <td>0</td>\n",
       "      <td>0.000000</td>\n",
       "    </tr>\n",
       "    <tr>\n",
       "      <th>ftr</th>\n",
       "      <td>0</td>\n",
       "      <td>0.000000</td>\n",
       "    </tr>\n",
       "    <tr>\n",
       "      <th>yr</th>\n",
       "      <td>0</td>\n",
       "      <td>0.000000</td>\n",
       "    </tr>\n",
       "    <tr>\n",
       "      <th>porpag</th>\n",
       "      <td>0</td>\n",
       "      <td>0.000000</td>\n",
       "    </tr>\n",
       "    <tr>\n",
       "      <th>adjoe</th>\n",
       "      <td>0</td>\n",
       "      <td>0.000000</td>\n",
       "    </tr>\n",
       "    <tr>\n",
       "      <th>pfr</th>\n",
       "      <td>0</td>\n",
       "      <td>0.000000</td>\n",
       "    </tr>\n",
       "    <tr>\n",
       "      <th>year</th>\n",
       "      <td>0</td>\n",
       "      <td>0.000000</td>\n",
       "    </tr>\n",
       "    <tr>\n",
       "      <th>ast_tov</th>\n",
       "      <td>0</td>\n",
       "      <td>0.000000</td>\n",
       "    </tr>\n",
       "    <tr>\n",
       "      <th>rimmade</th>\n",
       "      <td>0</td>\n",
       "      <td>0.000000</td>\n",
       "    </tr>\n",
       "    <tr>\n",
       "      <th>rimmade_rimmiss</th>\n",
       "      <td>0</td>\n",
       "      <td>0.000000</td>\n",
       "    </tr>\n",
       "    <tr>\n",
       "      <th>midmade</th>\n",
       "      <td>0</td>\n",
       "      <td>0.000000</td>\n",
       "    </tr>\n",
       "    <tr>\n",
       "      <th>midmade_midmiss</th>\n",
       "      <td>0</td>\n",
       "      <td>0.000000</td>\n",
       "    </tr>\n",
       "    <tr>\n",
       "      <th>rim_ratio</th>\n",
       "      <td>0</td>\n",
       "      <td>0.000000</td>\n",
       "    </tr>\n",
       "    <tr>\n",
       "      <th>mid_ratio</th>\n",
       "      <td>0</td>\n",
       "      <td>0.000000</td>\n",
       "    </tr>\n",
       "    <tr>\n",
       "      <th>dunksmade</th>\n",
       "      <td>0</td>\n",
       "      <td>0.000000</td>\n",
       "    </tr>\n",
       "    <tr>\n",
       "      <th>dunksmiss_dunksmade</th>\n",
       "      <td>0</td>\n",
       "      <td>0.000000</td>\n",
       "    </tr>\n",
       "    <tr>\n",
       "      <th>drtg</th>\n",
       "      <td>42</td>\n",
       "      <td>0.090109</td>\n",
       "    </tr>\n",
       "    <tr>\n",
       "      <th>adrtg</th>\n",
       "      <td>42</td>\n",
       "      <td>0.090109</td>\n",
       "    </tr>\n",
       "    <tr>\n",
       "      <th>dporpag</th>\n",
       "      <td>42</td>\n",
       "      <td>0.090109</td>\n",
       "    </tr>\n",
       "    <tr>\n",
       "      <th>stops</th>\n",
       "      <td>42</td>\n",
       "      <td>0.090109</td>\n",
       "    </tr>\n",
       "    <tr>\n",
       "      <th>bpm</th>\n",
       "      <td>42</td>\n",
       "      <td>0.090109</td>\n",
       "    </tr>\n",
       "    <tr>\n",
       "      <th>obpm</th>\n",
       "      <td>42</td>\n",
       "      <td>0.090109</td>\n",
       "    </tr>\n",
       "    <tr>\n",
       "      <th>dbpm</th>\n",
       "      <td>42</td>\n",
       "      <td>0.090109</td>\n",
       "    </tr>\n",
       "    <tr>\n",
       "      <th>gbpm</th>\n",
       "      <td>42</td>\n",
       "      <td>0.090109</td>\n",
       "    </tr>\n",
       "    <tr>\n",
       "      <th>mp</th>\n",
       "      <td>36</td>\n",
       "      <td>0.077237</td>\n",
       "    </tr>\n",
       "    <tr>\n",
       "      <th>ogbpm</th>\n",
       "      <td>42</td>\n",
       "      <td>0.090109</td>\n",
       "    </tr>\n",
       "    <tr>\n",
       "      <th>dgbpm</th>\n",
       "      <td>42</td>\n",
       "      <td>0.090109</td>\n",
       "    </tr>\n",
       "    <tr>\n",
       "      <th>oreb</th>\n",
       "      <td>36</td>\n",
       "      <td>0.077237</td>\n",
       "    </tr>\n",
       "    <tr>\n",
       "      <th>dreb</th>\n",
       "      <td>36</td>\n",
       "      <td>0.077237</td>\n",
       "    </tr>\n",
       "    <tr>\n",
       "      <th>treb</th>\n",
       "      <td>36</td>\n",
       "      <td>0.077237</td>\n",
       "    </tr>\n",
       "    <tr>\n",
       "      <th>ast</th>\n",
       "      <td>36</td>\n",
       "      <td>0.077237</td>\n",
       "    </tr>\n",
       "    <tr>\n",
       "      <th>stl</th>\n",
       "      <td>36</td>\n",
       "      <td>0.077237</td>\n",
       "    </tr>\n",
       "    <tr>\n",
       "      <th>blk</th>\n",
       "      <td>36</td>\n",
       "      <td>0.077237</td>\n",
       "    </tr>\n",
       "    <tr>\n",
       "      <th>pts</th>\n",
       "      <td>36</td>\n",
       "      <td>0.077237</td>\n",
       "    </tr>\n",
       "    <tr>\n",
       "      <th>drafted</th>\n",
       "      <td>0</td>\n",
       "      <td>0.000000</td>\n",
       "    </tr>\n",
       "  </tbody>\n",
       "</table>\n",
       "</div>"
      ],
      "text/plain": [
       "                     missing_values  percentage_missing\n",
       "team                              0            0.000000\n",
       "conf                              0            0.000000\n",
       "gp                                0            0.000000\n",
       "min_per                           0            0.000000\n",
       "ortg                              0            0.000000\n",
       "usg                               0            0.000000\n",
       "efg                               0            0.000000\n",
       "ts_per                            0            0.000000\n",
       "orb_per                           0            0.000000\n",
       "drb_per                           0            0.000000\n",
       "ast_per                           0            0.000000\n",
       "to_per                            0            0.000000\n",
       "ftm                               0            0.000000\n",
       "fta                               0            0.000000\n",
       "ft_per                            0            0.000000\n",
       "twopm                             0            0.000000\n",
       "twopa                             0            0.000000\n",
       "twop_per                          0            0.000000\n",
       "tpm                               0            0.000000\n",
       "tpa                               0            0.000000\n",
       "tp_per                            0            0.000000\n",
       "blk_per                           0            0.000000\n",
       "stl_per                           0            0.000000\n",
       "ftr                               0            0.000000\n",
       "yr                                0            0.000000\n",
       "porpag                            0            0.000000\n",
       "adjoe                             0            0.000000\n",
       "pfr                               0            0.000000\n",
       "year                              0            0.000000\n",
       "ast_tov                           0            0.000000\n",
       "rimmade                           0            0.000000\n",
       "rimmade_rimmiss                   0            0.000000\n",
       "midmade                           0            0.000000\n",
       "midmade_midmiss                   0            0.000000\n",
       "rim_ratio                         0            0.000000\n",
       "mid_ratio                         0            0.000000\n",
       "dunksmade                         0            0.000000\n",
       "dunksmiss_dunksmade               0            0.000000\n",
       "drtg                             42            0.090109\n",
       "adrtg                            42            0.090109\n",
       "dporpag                          42            0.090109\n",
       "stops                            42            0.090109\n",
       "bpm                              42            0.090109\n",
       "obpm                             42            0.090109\n",
       "dbpm                             42            0.090109\n",
       "gbpm                             42            0.090109\n",
       "mp                               36            0.077237\n",
       "ogbpm                            42            0.090109\n",
       "dgbpm                            42            0.090109\n",
       "oreb                             36            0.077237\n",
       "dreb                             36            0.077237\n",
       "treb                             36            0.077237\n",
       "ast                              36            0.077237\n",
       "stl                              36            0.077237\n",
       "blk                              36            0.077237\n",
       "pts                              36            0.077237\n",
       "drafted                           0            0.000000"
      ]
     },
     "execution_count": 61,
     "metadata": {},
     "output_type": "execute_result"
    }
   ],
   "source": [
    "make_ds.report_missing_values(train_df_clean)"
   ]
  },
  {
   "cell_type": "code",
   "execution_count": 62,
   "id": "76a9797d",
   "metadata": {},
   "outputs": [],
   "source": [
    "train_df_clean.dropna(inplace= True)"
   ]
  },
  {
   "cell_type": "code",
   "execution_count": 63,
   "id": "6e3680416ad3c8f2",
   "metadata": {
    "ExecuteTime": {
     "end_time": "2024-09-04T03:19:39.700751Z",
     "start_time": "2024-09-04T03:19:39.689765Z"
    }
   },
   "outputs": [
    {
     "data": {
      "text/html": [
       "<div>\n",
       "<style scoped>\n",
       "    .dataframe tbody tr th:only-of-type {\n",
       "        vertical-align: middle;\n",
       "    }\n",
       "\n",
       "    .dataframe tbody tr th {\n",
       "        vertical-align: top;\n",
       "    }\n",
       "\n",
       "    .dataframe thead th {\n",
       "        text-align: right;\n",
       "    }\n",
       "</style>\n",
       "<table border=\"1\" class=\"dataframe\">\n",
       "  <thead>\n",
       "    <tr style=\"text-align: right;\">\n",
       "      <th></th>\n",
       "      <th>team</th>\n",
       "      <th>conf</th>\n",
       "      <th>gp</th>\n",
       "      <th>min_per</th>\n",
       "      <th>ortg</th>\n",
       "      <th>usg</th>\n",
       "      <th>efg</th>\n",
       "      <th>ts_per</th>\n",
       "      <th>orb_per</th>\n",
       "      <th>drb_per</th>\n",
       "      <th>ast_per</th>\n",
       "      <th>to_per</th>\n",
       "      <th>ftm</th>\n",
       "      <th>fta</th>\n",
       "      <th>ft_per</th>\n",
       "      <th>twopm</th>\n",
       "      <th>twopa</th>\n",
       "      <th>twop_per</th>\n",
       "      <th>tpm</th>\n",
       "      <th>tpa</th>\n",
       "      <th>tp_per</th>\n",
       "      <th>blk_per</th>\n",
       "      <th>stl_per</th>\n",
       "      <th>ftr</th>\n",
       "      <th>yr</th>\n",
       "      <th>porpag</th>\n",
       "      <th>adjoe</th>\n",
       "      <th>pfr</th>\n",
       "      <th>year</th>\n",
       "      <th>ast_tov</th>\n",
       "      <th>rimmade</th>\n",
       "      <th>rimmade_rimmiss</th>\n",
       "      <th>midmade</th>\n",
       "      <th>midmade_midmiss</th>\n",
       "      <th>rim_ratio</th>\n",
       "      <th>mid_ratio</th>\n",
       "      <th>dunksmade</th>\n",
       "      <th>dunksmiss_dunksmade</th>\n",
       "      <th>drtg</th>\n",
       "      <th>adrtg</th>\n",
       "      <th>dporpag</th>\n",
       "      <th>stops</th>\n",
       "      <th>bpm</th>\n",
       "      <th>obpm</th>\n",
       "      <th>dbpm</th>\n",
       "      <th>gbpm</th>\n",
       "      <th>mp</th>\n",
       "      <th>ogbpm</th>\n",
       "      <th>dgbpm</th>\n",
       "      <th>oreb</th>\n",
       "      <th>dreb</th>\n",
       "      <th>treb</th>\n",
       "      <th>ast</th>\n",
       "      <th>stl</th>\n",
       "      <th>blk</th>\n",
       "      <th>pts</th>\n",
       "      <th>drafted</th>\n",
       "    </tr>\n",
       "  </thead>\n",
       "  <tbody>\n",
       "    <tr>\n",
       "      <th>0</th>\n",
       "      <td>1.590953e-07</td>\n",
       "      <td>0.002596</td>\n",
       "      <td>26</td>\n",
       "      <td>29.5</td>\n",
       "      <td>97.3</td>\n",
       "      <td>16.6</td>\n",
       "      <td>42.5</td>\n",
       "      <td>44.43</td>\n",
       "      <td>1.6</td>\n",
       "      <td>4.6</td>\n",
       "      <td>15.8</td>\n",
       "      <td>16.3</td>\n",
       "      <td>10</td>\n",
       "      <td>14</td>\n",
       "      <td>0.714</td>\n",
       "      <td>26</td>\n",
       "      <td>68</td>\n",
       "      <td>0.382</td>\n",
       "      <td>13</td>\n",
       "      <td>39</td>\n",
       "      <td>0.333</td>\n",
       "      <td>0.3</td>\n",
       "      <td>1.5</td>\n",
       "      <td>13.1</td>\n",
       "      <td>2</td>\n",
       "      <td>0.258086</td>\n",
       "      <td>89.3938</td>\n",
       "      <td>2.5</td>\n",
       "      <td>2009</td>\n",
       "      <td>1.823646</td>\n",
       "      <td>18.0</td>\n",
       "      <td>32.0</td>\n",
       "      <td>8.0</td>\n",
       "      <td>26.0</td>\n",
       "      <td>0.562907</td>\n",
       "      <td>0.322901</td>\n",
       "      <td>0.0</td>\n",
       "      <td>0.0</td>\n",
       "      <td>108.321</td>\n",
       "      <td>108.527</td>\n",
       "      <td>0.893017</td>\n",
       "      <td>49.9644</td>\n",
       "      <td>-4.995140</td>\n",
       "      <td>-1.623360</td>\n",
       "      <td>-3.371780</td>\n",
       "      <td>-4.723150</td>\n",
       "      <td>14.5769</td>\n",
       "      <td>-2.781990</td>\n",
       "      <td>-1.941150</td>\n",
       "      <td>0.1923</td>\n",
       "      <td>0.6154</td>\n",
       "      <td>0.8077</td>\n",
       "      <td>1.1923</td>\n",
       "      <td>0.3462</td>\n",
       "      <td>0.0385</td>\n",
       "      <td>3.8846</td>\n",
       "      <td>0.0</td>\n",
       "    </tr>\n",
       "    <tr>\n",
       "      <th>1</th>\n",
       "      <td>2.373403e-07</td>\n",
       "      <td>0.004472</td>\n",
       "      <td>34</td>\n",
       "      <td>60.9</td>\n",
       "      <td>108.3</td>\n",
       "      <td>14.9</td>\n",
       "      <td>52.4</td>\n",
       "      <td>54.48</td>\n",
       "      <td>3.8</td>\n",
       "      <td>6.3</td>\n",
       "      <td>13.6</td>\n",
       "      <td>19.8</td>\n",
       "      <td>30</td>\n",
       "      <td>45</td>\n",
       "      <td>0.667</td>\n",
       "      <td>56</td>\n",
       "      <td>113</td>\n",
       "      <td>0.496</td>\n",
       "      <td>20</td>\n",
       "      <td>51</td>\n",
       "      <td>0.392</td>\n",
       "      <td>1.0</td>\n",
       "      <td>1.1</td>\n",
       "      <td>27.4</td>\n",
       "      <td>2</td>\n",
       "      <td>1.334920</td>\n",
       "      <td>100.0660</td>\n",
       "      <td>3.4</td>\n",
       "      <td>2009</td>\n",
       "      <td>1.631621</td>\n",
       "      <td>18.0</td>\n",
       "      <td>32.0</td>\n",
       "      <td>8.0</td>\n",
       "      <td>26.0</td>\n",
       "      <td>0.562907</td>\n",
       "      <td>0.322901</td>\n",
       "      <td>0.0</td>\n",
       "      <td>0.0</td>\n",
       "      <td>105.078</td>\n",
       "      <td>104.017</td>\n",
       "      <td>1.880030</td>\n",
       "      <td>111.9290</td>\n",
       "      <td>0.593024</td>\n",
       "      <td>1.385490</td>\n",
       "      <td>-0.792469</td>\n",
       "      <td>-0.300196</td>\n",
       "      <td>24.5294</td>\n",
       "      <td>-0.052263</td>\n",
       "      <td>-0.247934</td>\n",
       "      <td>0.6765</td>\n",
       "      <td>1.2647</td>\n",
       "      <td>1.9412</td>\n",
       "      <td>1.8235</td>\n",
       "      <td>0.4118</td>\n",
       "      <td>0.2353</td>\n",
       "      <td>5.9412</td>\n",
       "      <td>0.0</td>\n",
       "    </tr>\n",
       "    <tr>\n",
       "      <th>2</th>\n",
       "      <td>8.064561e-03</td>\n",
       "      <td>0.027501</td>\n",
       "      <td>27</td>\n",
       "      <td>72.0</td>\n",
       "      <td>96.2</td>\n",
       "      <td>21.8</td>\n",
       "      <td>45.7</td>\n",
       "      <td>47.98</td>\n",
       "      <td>2.1</td>\n",
       "      <td>8.0</td>\n",
       "      <td>14.7</td>\n",
       "      <td>15.9</td>\n",
       "      <td>45</td>\n",
       "      <td>67</td>\n",
       "      <td>0.672</td>\n",
       "      <td>67</td>\n",
       "      <td>157</td>\n",
       "      <td>0.427</td>\n",
       "      <td>50</td>\n",
       "      <td>154</td>\n",
       "      <td>0.325</td>\n",
       "      <td>0.0</td>\n",
       "      <td>0.9</td>\n",
       "      <td>21.5</td>\n",
       "      <td>3</td>\n",
       "      <td>2.274070</td>\n",
       "      <td>104.1070</td>\n",
       "      <td>1.7</td>\n",
       "      <td>2009</td>\n",
       "      <td>1.081662</td>\n",
       "      <td>18.0</td>\n",
       "      <td>32.0</td>\n",
       "      <td>8.0</td>\n",
       "      <td>26.0</td>\n",
       "      <td>0.562907</td>\n",
       "      <td>0.322901</td>\n",
       "      <td>0.0</td>\n",
       "      <td>0.0</td>\n",
       "      <td>107.556</td>\n",
       "      <td>102.154</td>\n",
       "      <td>2.763870</td>\n",
       "      <td>115.0210</td>\n",
       "      <td>0.003161</td>\n",
       "      <td>1.024770</td>\n",
       "      <td>-1.021610</td>\n",
       "      <td>0.665065</td>\n",
       "      <td>33.1852</td>\n",
       "      <td>1.548230</td>\n",
       "      <td>-0.883163</td>\n",
       "      <td>0.6296</td>\n",
       "      <td>2.3333</td>\n",
       "      <td>2.9630</td>\n",
       "      <td>1.9630</td>\n",
       "      <td>0.4815</td>\n",
       "      <td>0.0000</td>\n",
       "      <td>12.1852</td>\n",
       "      <td>0.0</td>\n",
       "    </tr>\n",
       "    <tr>\n",
       "      <th>3</th>\n",
       "      <td>4.335905e-08</td>\n",
       "      <td>0.005738</td>\n",
       "      <td>30</td>\n",
       "      <td>44.5</td>\n",
       "      <td>97.7</td>\n",
       "      <td>16.0</td>\n",
       "      <td>53.6</td>\n",
       "      <td>53.69</td>\n",
       "      <td>4.1</td>\n",
       "      <td>9.4</td>\n",
       "      <td>13.7</td>\n",
       "      <td>23.8</td>\n",
       "      <td>14</td>\n",
       "      <td>27</td>\n",
       "      <td>0.519</td>\n",
       "      <td>25</td>\n",
       "      <td>63</td>\n",
       "      <td>0.397</td>\n",
       "      <td>28</td>\n",
       "      <td>62</td>\n",
       "      <td>0.452</td>\n",
       "      <td>0.8</td>\n",
       "      <td>1.9</td>\n",
       "      <td>21.6</td>\n",
       "      <td>3</td>\n",
       "      <td>0.552857</td>\n",
       "      <td>93.2086</td>\n",
       "      <td>2.0</td>\n",
       "      <td>2009</td>\n",
       "      <td>0.942830</td>\n",
       "      <td>18.0</td>\n",
       "      <td>32.0</td>\n",
       "      <td>8.0</td>\n",
       "      <td>26.0</td>\n",
       "      <td>0.562907</td>\n",
       "      <td>0.322901</td>\n",
       "      <td>0.0</td>\n",
       "      <td>0.0</td>\n",
       "      <td>108.858</td>\n",
       "      <td>106.556</td>\n",
       "      <td>1.218710</td>\n",
       "      <td>84.1698</td>\n",
       "      <td>-0.977798</td>\n",
       "      <td>-0.502574</td>\n",
       "      <td>-0.475224</td>\n",
       "      <td>-0.736233</td>\n",
       "      <td>17.9667</td>\n",
       "      <td>-0.342775</td>\n",
       "      <td>-0.393459</td>\n",
       "      <td>0.7000</td>\n",
       "      <td>1.4333</td>\n",
       "      <td>2.1333</td>\n",
       "      <td>1.1000</td>\n",
       "      <td>0.5667</td>\n",
       "      <td>0.1333</td>\n",
       "      <td>4.9333</td>\n",
       "      <td>0.0</td>\n",
       "    </tr>\n",
       "    <tr>\n",
       "      <th>4</th>\n",
       "      <td>9.649680e-08</td>\n",
       "      <td>0.000831</td>\n",
       "      <td>33</td>\n",
       "      <td>56.2</td>\n",
       "      <td>96.5</td>\n",
       "      <td>22.0</td>\n",
       "      <td>52.8</td>\n",
       "      <td>54.31</td>\n",
       "      <td>8.3</td>\n",
       "      <td>18.6</td>\n",
       "      <td>8.2</td>\n",
       "      <td>22.7</td>\n",
       "      <td>64</td>\n",
       "      <td>114</td>\n",
       "      <td>0.561</td>\n",
       "      <td>93</td>\n",
       "      <td>176</td>\n",
       "      <td>0.528</td>\n",
       "      <td>0</td>\n",
       "      <td>0</td>\n",
       "      <td>0.000</td>\n",
       "      <td>1.9</td>\n",
       "      <td>1.3</td>\n",
       "      <td>64.8</td>\n",
       "      <td>3</td>\n",
       "      <td>1.060130</td>\n",
       "      <td>97.8554</td>\n",
       "      <td>3.8</td>\n",
       "      <td>2009</td>\n",
       "      <td>0.491229</td>\n",
       "      <td>18.0</td>\n",
       "      <td>32.0</td>\n",
       "      <td>8.0</td>\n",
       "      <td>26.0</td>\n",
       "      <td>0.562907</td>\n",
       "      <td>0.322901</td>\n",
       "      <td>0.0</td>\n",
       "      <td>0.0</td>\n",
       "      <td>101.052</td>\n",
       "      <td>100.724</td>\n",
       "      <td>1.992790</td>\n",
       "      <td>128.0280</td>\n",
       "      <td>-1.836060</td>\n",
       "      <td>-1.946040</td>\n",
       "      <td>0.109983</td>\n",
       "      <td>-2.353180</td>\n",
       "      <td>22.9091</td>\n",
       "      <td>-1.684860</td>\n",
       "      <td>-0.668318</td>\n",
       "      <td>1.4242</td>\n",
       "      <td>3.3030</td>\n",
       "      <td>4.7273</td>\n",
       "      <td>0.8485</td>\n",
       "      <td>0.4545</td>\n",
       "      <td>0.3333</td>\n",
       "      <td>7.5758</td>\n",
       "      <td>0.0</td>\n",
       "    </tr>\n",
       "  </tbody>\n",
       "</table>\n",
       "</div>"
      ],
      "text/plain": [
       "           team      conf  gp  min_per   ortg   usg   efg  ts_per  orb_per  \\\n",
       "0  1.590953e-07  0.002596  26     29.5   97.3  16.6  42.5   44.43      1.6   \n",
       "1  2.373403e-07  0.004472  34     60.9  108.3  14.9  52.4   54.48      3.8   \n",
       "2  8.064561e-03  0.027501  27     72.0   96.2  21.8  45.7   47.98      2.1   \n",
       "3  4.335905e-08  0.005738  30     44.5   97.7  16.0  53.6   53.69      4.1   \n",
       "4  9.649680e-08  0.000831  33     56.2   96.5  22.0  52.8   54.31      8.3   \n",
       "\n",
       "   drb_per  ast_per  to_per  ftm  fta  ft_per  twopm  twopa  twop_per  tpm  \\\n",
       "0      4.6     15.8    16.3   10   14   0.714     26     68     0.382   13   \n",
       "1      6.3     13.6    19.8   30   45   0.667     56    113     0.496   20   \n",
       "2      8.0     14.7    15.9   45   67   0.672     67    157     0.427   50   \n",
       "3      9.4     13.7    23.8   14   27   0.519     25     63     0.397   28   \n",
       "4     18.6      8.2    22.7   64  114   0.561     93    176     0.528    0   \n",
       "\n",
       "   tpa  tp_per  blk_per  stl_per   ftr  yr    porpag     adjoe  pfr  year  \\\n",
       "0   39   0.333      0.3      1.5  13.1   2  0.258086   89.3938  2.5  2009   \n",
       "1   51   0.392      1.0      1.1  27.4   2  1.334920  100.0660  3.4  2009   \n",
       "2  154   0.325      0.0      0.9  21.5   3  2.274070  104.1070  1.7  2009   \n",
       "3   62   0.452      0.8      1.9  21.6   3  0.552857   93.2086  2.0  2009   \n",
       "4    0   0.000      1.9      1.3  64.8   3  1.060130   97.8554  3.8  2009   \n",
       "\n",
       "    ast_tov  rimmade  rimmade_rimmiss  midmade  midmade_midmiss  rim_ratio  \\\n",
       "0  1.823646     18.0             32.0      8.0             26.0   0.562907   \n",
       "1  1.631621     18.0             32.0      8.0             26.0   0.562907   \n",
       "2  1.081662     18.0             32.0      8.0             26.0   0.562907   \n",
       "3  0.942830     18.0             32.0      8.0             26.0   0.562907   \n",
       "4  0.491229     18.0             32.0      8.0             26.0   0.562907   \n",
       "\n",
       "   mid_ratio  dunksmade  dunksmiss_dunksmade     drtg    adrtg   dporpag  \\\n",
       "0   0.322901        0.0                  0.0  108.321  108.527  0.893017   \n",
       "1   0.322901        0.0                  0.0  105.078  104.017  1.880030   \n",
       "2   0.322901        0.0                  0.0  107.556  102.154  2.763870   \n",
       "3   0.322901        0.0                  0.0  108.858  106.556  1.218710   \n",
       "4   0.322901        0.0                  0.0  101.052  100.724  1.992790   \n",
       "\n",
       "      stops       bpm      obpm      dbpm      gbpm       mp     ogbpm  \\\n",
       "0   49.9644 -4.995140 -1.623360 -3.371780 -4.723150  14.5769 -2.781990   \n",
       "1  111.9290  0.593024  1.385490 -0.792469 -0.300196  24.5294 -0.052263   \n",
       "2  115.0210  0.003161  1.024770 -1.021610  0.665065  33.1852  1.548230   \n",
       "3   84.1698 -0.977798 -0.502574 -0.475224 -0.736233  17.9667 -0.342775   \n",
       "4  128.0280 -1.836060 -1.946040  0.109983 -2.353180  22.9091 -1.684860   \n",
       "\n",
       "      dgbpm    oreb    dreb    treb     ast     stl     blk      pts  drafted  \n",
       "0 -1.941150  0.1923  0.6154  0.8077  1.1923  0.3462  0.0385   3.8846      0.0  \n",
       "1 -0.247934  0.6765  1.2647  1.9412  1.8235  0.4118  0.2353   5.9412      0.0  \n",
       "2 -0.883163  0.6296  2.3333  2.9630  1.9630  0.4815  0.0000  12.1852      0.0  \n",
       "3 -0.393459  0.7000  1.4333  2.1333  1.1000  0.5667  0.1333   4.9333      0.0  \n",
       "4 -0.668318  1.4242  3.3030  4.7273  0.8485  0.4545  0.3333   7.5758      0.0  "
      ]
     },
     "execution_count": 63,
     "metadata": {},
     "output_type": "execute_result"
    }
   ],
   "source": [
    "train_df_clean.head()"
   ]
  },
  {
   "cell_type": "code",
   "execution_count": 64,
   "id": "6266ac66",
   "metadata": {},
   "outputs": [
    {
     "data": {
      "text/html": [
       "<div>\n",
       "<style scoped>\n",
       "    .dataframe tbody tr th:only-of-type {\n",
       "        vertical-align: middle;\n",
       "    }\n",
       "\n",
       "    .dataframe tbody tr th {\n",
       "        vertical-align: top;\n",
       "    }\n",
       "\n",
       "    .dataframe thead th {\n",
       "        text-align: right;\n",
       "    }\n",
       "</style>\n",
       "<table border=\"1\" class=\"dataframe\">\n",
       "  <thead>\n",
       "    <tr style=\"text-align: right;\">\n",
       "      <th></th>\n",
       "      <th>feature</th>\n",
       "      <th>name</th>\n",
       "      <th>description</th>\n",
       "    </tr>\n",
       "  </thead>\n",
       "  <tbody>\n",
       "    <tr>\n",
       "      <th>0</th>\n",
       "      <td>1</td>\n",
       "      <td>team</td>\n",
       "      <td>Name of team</td>\n",
       "    </tr>\n",
       "    <tr>\n",
       "      <th>1</th>\n",
       "      <td>2</td>\n",
       "      <td>conf</td>\n",
       "      <td>Name of conference</td>\n",
       "    </tr>\n",
       "    <tr>\n",
       "      <th>2</th>\n",
       "      <td>3</td>\n",
       "      <td>GP</td>\n",
       "      <td>Games played</td>\n",
       "    </tr>\n",
       "    <tr>\n",
       "      <th>3</th>\n",
       "      <td>4</td>\n",
       "      <td>Min_per</td>\n",
       "      <td>Player's percentage of available team minutes played</td>\n",
       "    </tr>\n",
       "    <tr>\n",
       "      <th>4</th>\n",
       "      <td>5</td>\n",
       "      <td>ORtg</td>\n",
       "      <td>ORtg - Offensive Rating (available since the 1977-78 season in the NBA); for players it is points produced per 100 posessions, while for teams it is points scored per 100 possessions. This rating was developed by Dean Oliver, author of Basketball on Paper. Please see the article Calculating Individual Offensive and Defensive Ratings for more information.</td>\n",
       "    </tr>\n",
       "    <tr>\n",
       "      <th>5</th>\n",
       "      <td>6</td>\n",
       "      <td>usg</td>\n",
       "      <td>Usg% - Usage Percentage (available since the 1977-78 season in the NBA); the formula is 100 * ((FGA + 0.44 * FTA + TOV) * (Tm MP / 5)) / (MP * (Tm FGA + 0.44 * Tm FTA + Tm TOV)). Usage percentage is an estimate of the percentage of team plays used by a player while he was on the floor.</td>\n",
       "    </tr>\n",
       "    <tr>\n",
       "      <th>6</th>\n",
       "      <td>7</td>\n",
       "      <td>eFG</td>\n",
       "      <td>eFG% - Effective Field Goal Percentage; the formula is (FG + 0.5 * 3P) / FGA. This statistic adjusts for the fact that a 3-point field goal is worth one more point than a 2-point field goal. For example, suppose Player A goes 4 for 10 with 2 threes, while Player B goes 5 for 10 with 0 threes. Each player would have 10 points from field goals, and thus would have the same effective field goal percentage (50%).</td>\n",
       "    </tr>\n",
       "    <tr>\n",
       "      <th>7</th>\n",
       "      <td>8</td>\n",
       "      <td>TS_per</td>\n",
       "      <td>TS% - True Shooting Percentage; the formula is PTS / (2 * TSA). True shooting percentage is a measure of shooting efficiency that takes into account field goals, 3-point field goals, and free throws.</td>\n",
       "    </tr>\n",
       "    <tr>\n",
       "      <th>8</th>\n",
       "      <td>9</td>\n",
       "      <td>ORB_per</td>\n",
       "      <td>ORB% - Offensive Rebound Percentage (available since the 1970-71 season in the NBA); the formula is 100 * (ORB * (Tm MP / 5)) / (MP * (Tm ORB + Opp DRB)). Offensive rebound percentage is an estimate of the percentage of available offensive rebounds a player grabbed while he was on the floor.</td>\n",
       "    </tr>\n",
       "    <tr>\n",
       "      <th>9</th>\n",
       "      <td>10</td>\n",
       "      <td>DRB_per</td>\n",
       "      <td>DRB% - Defensive Rebound Percentage (available since the 1970-71 season in the NBA); the formula is 100 * (DRB * (Tm MP / 5)) / (MP * (Tm DRB + Opp ORB)). Defensive rebound percentage is an estimate of the percentage of available defensive rebounds a player grabbed while he was on the floor.</td>\n",
       "    </tr>\n",
       "    <tr>\n",
       "      <th>10</th>\n",
       "      <td>11</td>\n",
       "      <td>AST_per</td>\n",
       "      <td>AST% - Assist Percentage (available since the 1964-65 season in the NBA); the formula is 100 * AST / (((MP / (Tm MP / 5)) * Tm FG) - FG). Assist percentage is an estimate of the percentage of teammate field goals a player assisted while he was on the floor.</td>\n",
       "    </tr>\n",
       "    <tr>\n",
       "      <th>11</th>\n",
       "      <td>12</td>\n",
       "      <td>TO_per</td>\n",
       "      <td>TOV% - Turnover Percentage (available since the 1977-78 season in the NBA); the formula is 100 * TOV / (FGA + 0.44 * FTA + TOV). Turnover percentage is an estimate of turnovers per 100 plays.</td>\n",
       "    </tr>\n",
       "    <tr>\n",
       "      <th>12</th>\n",
       "      <td>13</td>\n",
       "      <td>FTM</td>\n",
       "      <td>Free Throws</td>\n",
       "    </tr>\n",
       "    <tr>\n",
       "      <th>13</th>\n",
       "      <td>14</td>\n",
       "      <td>FTA</td>\n",
       "      <td>Free Throw Attempts</td>\n",
       "    </tr>\n",
       "    <tr>\n",
       "      <th>14</th>\n",
       "      <td>15</td>\n",
       "      <td>FT_per</td>\n",
       "      <td>Free Throw Percentage; the formula is FTM / FTA.</td>\n",
       "    </tr>\n",
       "    <tr>\n",
       "      <th>15</th>\n",
       "      <td>16</td>\n",
       "      <td>twoPM</td>\n",
       "      <td>2P - 2-Point Field Goals</td>\n",
       "    </tr>\n",
       "    <tr>\n",
       "      <th>16</th>\n",
       "      <td>17</td>\n",
       "      <td>twoPA</td>\n",
       "      <td>2PA - 2-Point Field Goal Attempts</td>\n",
       "    </tr>\n",
       "    <tr>\n",
       "      <th>17</th>\n",
       "      <td>18</td>\n",
       "      <td>twoP_per</td>\n",
       "      <td>2P% - 2-Point Field Goal Percentage; the formula is 2P / 2PA.</td>\n",
       "    </tr>\n",
       "    <tr>\n",
       "      <th>18</th>\n",
       "      <td>19</td>\n",
       "      <td>TPM</td>\n",
       "      <td>3P - 3-Point Field Goals (available since the 1979-80 season in the NBA)</td>\n",
       "    </tr>\n",
       "    <tr>\n",
       "      <th>19</th>\n",
       "      <td>20</td>\n",
       "      <td>TPA</td>\n",
       "      <td>3PA - 3-Point Field Goal Attempts (available since the 1979-80 season in the NBA)</td>\n",
       "    </tr>\n",
       "    <tr>\n",
       "      <th>20</th>\n",
       "      <td>21</td>\n",
       "      <td>TP_per</td>\n",
       "      <td>3P% - 3-Point Field Goal Percentage (available since the 1979-80 season in the NBA); the formula is 3P / 3PA.</td>\n",
       "    </tr>\n",
       "    <tr>\n",
       "      <th>21</th>\n",
       "      <td>22</td>\n",
       "      <td>blk_per</td>\n",
       "      <td>BLK% - Block Percentage (available since the 1973-74 season in the NBA); the formula is 100 * (BLK * (Tm MP / 5)) / (MP * (Opp FGA - Opp 3PA)). Block percentage is an estimate of the percentage of opponent two-point field goal attempts blocked by the player while he was on the floor.</td>\n",
       "    </tr>\n",
       "    <tr>\n",
       "      <th>22</th>\n",
       "      <td>23</td>\n",
       "      <td>stl_per</td>\n",
       "      <td>STL% - Steal Percentage (available since the 1973-74 season in the NBA); the formula is 100 * (STL * (Tm MP / 5)) / (MP * Opp Poss). Steal Percentage is an estimate of the percentage of opponent possessions that end with a steal by the player while he was on the floor.</td>\n",
       "    </tr>\n",
       "    <tr>\n",
       "      <th>23</th>\n",
       "      <td>27</td>\n",
       "      <td>ftr</td>\n",
       "      <td>NaN</td>\n",
       "    </tr>\n",
       "    <tr>\n",
       "      <th>24</th>\n",
       "      <td>28</td>\n",
       "      <td>yr</td>\n",
       "      <td>Student’s year of study: `Fr` for freshmen, `So` for sophomores, `Jr` for juniors, `Sr` for seniors</td>\n",
       "    </tr>\n",
       "    <tr>\n",
       "      <th>25</th>\n",
       "      <td>29</td>\n",
       "      <td>ht</td>\n",
       "      <td>Height of student</td>\n",
       "    </tr>\n",
       "    <tr>\n",
       "      <th>26</th>\n",
       "      <td>30</td>\n",
       "      <td>num</td>\n",
       "      <td>Player's number</td>\n",
       "    </tr>\n",
       "    <tr>\n",
       "      <th>27</th>\n",
       "      <td>31</td>\n",
       "      <td>porpag</td>\n",
       "      <td>Points Over Replacement Per Adjusted Game</td>\n",
       "    </tr>\n",
       "    <tr>\n",
       "      <th>28</th>\n",
       "      <td>32</td>\n",
       "      <td>adjoe</td>\n",
       "      <td>AdjO – Adjusted offensive efficiency – An estimate of the offensive efficiency (points scored per 100 possessions) a team would have against the average D-I defense.</td>\n",
       "    </tr>\n",
       "    <tr>\n",
       "      <th>29</th>\n",
       "      <td>33</td>\n",
       "      <td>pfr</td>\n",
       "      <td>NaN</td>\n",
       "    </tr>\n",
       "    <tr>\n",
       "      <th>30</th>\n",
       "      <td>34</td>\n",
       "      <td>year</td>\n",
       "      <td>Season's year</td>\n",
       "    </tr>\n",
       "    <tr>\n",
       "      <th>31</th>\n",
       "      <td>35</td>\n",
       "      <td>type</td>\n",
       "      <td>Type of metrics displayed: `All` for all types, `C` for conference`, `NC` for non-conference, `PC` for pre-conference tour, `R` for regular season, `P` for post-season, `T` for NCAA</td>\n",
       "    </tr>\n",
       "    <tr>\n",
       "      <th>32</th>\n",
       "      <td>36</td>\n",
       "      <td>Rec_Rank</td>\n",
       "      <td>Recruiting rank i.e. what the player was ranked as a recruit coming out of high school</td>\n",
       "    </tr>\n",
       "    <tr>\n",
       "      <th>33</th>\n",
       "      <td>37</td>\n",
       "      <td>ast_tov</td>\n",
       "      <td>Ratio Assists against Turnovers</td>\n",
       "    </tr>\n",
       "    <tr>\n",
       "      <th>34</th>\n",
       "      <td>38</td>\n",
       "      <td>rimmade</td>\n",
       "      <td>Shots made at or near the rim</td>\n",
       "    </tr>\n",
       "    <tr>\n",
       "      <th>35</th>\n",
       "      <td>39</td>\n",
       "      <td>rimmade_rimmiss</td>\n",
       "      <td>Sum of Shots made at or near the rim and Shots missed</td>\n",
       "    </tr>\n",
       "    <tr>\n",
       "      <th>36</th>\n",
       "      <td>40</td>\n",
       "      <td>midmade</td>\n",
       "      <td>Two point shots that were not made at or near the rim</td>\n",
       "    </tr>\n",
       "    <tr>\n",
       "      <th>37</th>\n",
       "      <td>41</td>\n",
       "      <td>midmade_midmiss</td>\n",
       "      <td>Sum of Two point shots that were not made at or near the rim and Shots missed</td>\n",
       "    </tr>\n",
       "    <tr>\n",
       "      <th>38</th>\n",
       "      <td>42</td>\n",
       "      <td>rim_ratio</td>\n",
       "      <td>Ratio between Shots made at or near the rim against Shots missed</td>\n",
       "    </tr>\n",
       "    <tr>\n",
       "      <th>39</th>\n",
       "      <td>43</td>\n",
       "      <td>mid_ratio</td>\n",
       "      <td>Ratio between Two point shots that were not made at or near the rim and Shots missed</td>\n",
       "    </tr>\n",
       "    <tr>\n",
       "      <th>40</th>\n",
       "      <td>44</td>\n",
       "      <td>dunksmade</td>\n",
       "      <td>Dunks made</td>\n",
       "    </tr>\n",
       "    <tr>\n",
       "      <th>41</th>\n",
       "      <td>45</td>\n",
       "      <td>dunksmiss_dunksmade</td>\n",
       "      <td>Sum of Dunks made and Dunks missed</td>\n",
       "    </tr>\n",
       "    <tr>\n",
       "      <th>42</th>\n",
       "      <td>46</td>\n",
       "      <td>dunks_ratio</td>\n",
       "      <td>Ratio between Dunks made and Dunks missed</td>\n",
       "    </tr>\n",
       "    <tr>\n",
       "      <th>43</th>\n",
       "      <td>47</td>\n",
       "      <td>pick</td>\n",
       "      <td>Order of NBA draft</td>\n",
       "    </tr>\n",
       "    <tr>\n",
       "      <th>44</th>\n",
       "      <td>48</td>\n",
       "      <td>drtg</td>\n",
       "      <td>DRtg - Defensive Rating (available since the 1973-74 season in the NBA); for players and teams it is points allowed per 100 posessions. This rating was developed by Dean Oliver, author of Basketball on Paper. Please see the article Calculating Individual Offensive and Defensive Ratings for more information.</td>\n",
       "    </tr>\n",
       "    <tr>\n",
       "      <th>45</th>\n",
       "      <td>49</td>\n",
       "      <td>adrtg</td>\n",
       "      <td>Adjusted DRtg</td>\n",
       "    </tr>\n",
       "    <tr>\n",
       "      <th>46</th>\n",
       "      <td>50</td>\n",
       "      <td>dporpag</td>\n",
       "      <td>Asdjusted porpag</td>\n",
       "    </tr>\n",
       "    <tr>\n",
       "      <th>47</th>\n",
       "      <td>54</td>\n",
       "      <td>stops</td>\n",
       "      <td>Stops - Stops; Dean Oliver's measure of individual defensive stops. Please see the article Calculating Individual Offensive and Defensive Ratings for more information.</td>\n",
       "    </tr>\n",
       "    <tr>\n",
       "      <th>48</th>\n",
       "      <td>55</td>\n",
       "      <td>bpm</td>\n",
       "      <td>BPM - Estimate the player’s contribution in points above league average per 100 possessions played</td>\n",
       "    </tr>\n",
       "    <tr>\n",
       "      <th>49</th>\n",
       "      <td>56</td>\n",
       "      <td>obpm</td>\n",
       "      <td>Offensive BPM</td>\n",
       "    </tr>\n",
       "    <tr>\n",
       "      <th>50</th>\n",
       "      <td>57</td>\n",
       "      <td>dbpm</td>\n",
       "      <td>Defensive BPM</td>\n",
       "    </tr>\n",
       "    <tr>\n",
       "      <th>51</th>\n",
       "      <td>58</td>\n",
       "      <td>gbpm</td>\n",
       "      <td>BPM 2.0</td>\n",
       "    </tr>\n",
       "    <tr>\n",
       "      <th>52</th>\n",
       "      <td>59</td>\n",
       "      <td>mp</td>\n",
       "      <td>MP - Minutes Played (available since the 1951-52 season)</td>\n",
       "    </tr>\n",
       "    <tr>\n",
       "      <th>53</th>\n",
       "      <td>60</td>\n",
       "      <td>ogbpm</td>\n",
       "      <td>Offensive BPM 2.0</td>\n",
       "    </tr>\n",
       "    <tr>\n",
       "      <th>54</th>\n",
       "      <td>61</td>\n",
       "      <td>dgbpm</td>\n",
       "      <td>Defensive BPM 2.0</td>\n",
       "    </tr>\n",
       "    <tr>\n",
       "      <th>55</th>\n",
       "      <td>62</td>\n",
       "      <td>oreb</td>\n",
       "      <td>ORB - Offensive Rebounds (available since the 1973-74 season in the NBA)</td>\n",
       "    </tr>\n",
       "    <tr>\n",
       "      <th>56</th>\n",
       "      <td>63</td>\n",
       "      <td>dreb</td>\n",
       "      <td>DRB - Defensive Rebounds (available since the 1973-74 season in the NBA)</td>\n",
       "    </tr>\n",
       "    <tr>\n",
       "      <th>57</th>\n",
       "      <td>64</td>\n",
       "      <td>treb</td>\n",
       "      <td>TRB - Total Rebounds (available since the 1950-51 season)</td>\n",
       "    </tr>\n",
       "    <tr>\n",
       "      <th>58</th>\n",
       "      <td>65</td>\n",
       "      <td>ast</td>\n",
       "      <td>AST - Assists</td>\n",
       "    </tr>\n",
       "    <tr>\n",
       "      <th>59</th>\n",
       "      <td>66</td>\n",
       "      <td>stl</td>\n",
       "      <td>STL - Steals (available since the 1973-74 season in the NBA)</td>\n",
       "    </tr>\n",
       "    <tr>\n",
       "      <th>60</th>\n",
       "      <td>67</td>\n",
       "      <td>blk</td>\n",
       "      <td>BLK - Blocks (available since the 1973-74 season in the NBA)</td>\n",
       "    </tr>\n",
       "    <tr>\n",
       "      <th>61</th>\n",
       "      <td>68</td>\n",
       "      <td>pts</td>\n",
       "      <td>PTS - Points</td>\n",
       "    </tr>\n",
       "    <tr>\n",
       "      <th>62</th>\n",
       "      <td>69</td>\n",
       "      <td>player_id</td>\n",
       "      <td>Unique identifier of player</td>\n",
       "    </tr>\n",
       "    <tr>\n",
       "      <th>63</th>\n",
       "      <td>70</td>\n",
       "      <td>drafted</td>\n",
       "      <td>Target - Was the player drafted at the end of the season</td>\n",
       "    </tr>\n",
       "  </tbody>\n",
       "</table>\n",
       "</div>"
      ],
      "text/plain": [
       "    feature                 name  \\\n",
       "0         1                 team   \n",
       "1         2                 conf   \n",
       "2         3                   GP   \n",
       "3         4              Min_per   \n",
       "4         5                 ORtg   \n",
       "5         6                  usg   \n",
       "6         7                  eFG   \n",
       "7         8               TS_per   \n",
       "8         9              ORB_per   \n",
       "9        10              DRB_per   \n",
       "10       11              AST_per   \n",
       "11       12               TO_per   \n",
       "12       13                  FTM   \n",
       "13       14                  FTA   \n",
       "14       15               FT_per   \n",
       "15       16                twoPM   \n",
       "16       17                twoPA   \n",
       "17       18             twoP_per   \n",
       "18       19                  TPM   \n",
       "19       20                  TPA   \n",
       "20       21               TP_per   \n",
       "21       22              blk_per   \n",
       "22       23              stl_per   \n",
       "23       27                  ftr   \n",
       "24       28                   yr   \n",
       "25       29                   ht   \n",
       "26       30                  num   \n",
       "27       31               porpag   \n",
       "28       32                adjoe   \n",
       "29       33                  pfr   \n",
       "30       34                 year   \n",
       "31       35                 type   \n",
       "32       36             Rec_Rank   \n",
       "33       37              ast_tov   \n",
       "34       38              rimmade   \n",
       "35       39      rimmade_rimmiss   \n",
       "36       40              midmade   \n",
       "37       41      midmade_midmiss   \n",
       "38       42            rim_ratio   \n",
       "39       43            mid_ratio   \n",
       "40       44            dunksmade   \n",
       "41       45  dunksmiss_dunksmade   \n",
       "42       46          dunks_ratio   \n",
       "43       47                 pick   \n",
       "44       48                 drtg   \n",
       "45       49                adrtg   \n",
       "46       50              dporpag   \n",
       "47       54                stops   \n",
       "48       55                  bpm   \n",
       "49       56                 obpm   \n",
       "50       57                 dbpm   \n",
       "51       58                 gbpm   \n",
       "52       59                   mp   \n",
       "53       60                ogbpm   \n",
       "54       61                dgbpm   \n",
       "55       62                 oreb   \n",
       "56       63                 dreb   \n",
       "57       64                 treb   \n",
       "58       65                  ast   \n",
       "59       66                  stl   \n",
       "60       67                  blk   \n",
       "61       68                  pts   \n",
       "62       69            player_id   \n",
       "63       70              drafted   \n",
       "\n",
       "                                                                                                                                                                                                                                                                                                                                                                                                                     description  \n",
       "0                                                                                                                                                                                                                                                                                                                                                                                                                   Name of team  \n",
       "1                                                                                                                                                                                                                                                                                                                                                                                                             Name of conference  \n",
       "2                                                                                                                                                                                                                                                                                                                                                                                                                   Games played  \n",
       "3                                                                                                                                                                                                                                                                                                                                                                           Player's percentage of available team minutes played  \n",
       "4                                                           ORtg - Offensive Rating (available since the 1977-78 season in the NBA); for players it is points produced per 100 posessions, while for teams it is points scored per 100 possessions. This rating was developed by Dean Oliver, author of Basketball on Paper. Please see the article Calculating Individual Offensive and Defensive Ratings for more information.  \n",
       "5                                                                                                                                 Usg% - Usage Percentage (available since the 1977-78 season in the NBA); the formula is 100 * ((FGA + 0.44 * FTA + TOV) * (Tm MP / 5)) / (MP * (Tm FGA + 0.44 * Tm FTA + Tm TOV)). Usage percentage is an estimate of the percentage of team plays used by a player while he was on the floor.  \n",
       "6   eFG% - Effective Field Goal Percentage; the formula is (FG + 0.5 * 3P) / FGA. This statistic adjusts for the fact that a 3-point field goal is worth one more point than a 2-point field goal. For example, suppose Player A goes 4 for 10 with 2 threes, while Player B goes 5 for 10 with 0 threes. Each player would have 10 points from field goals, and thus would have the same effective field goal percentage (50%).  \n",
       "7                                                                                                                                                                                                                        TS% - True Shooting Percentage; the formula is PTS / (2 * TSA). True shooting percentage is a measure of shooting efficiency that takes into account field goals, 3-point field goals, and free throws.  \n",
       "8                                                                                                                           ORB% - Offensive Rebound Percentage (available since the 1970-71 season in the NBA); the formula is 100 * (ORB * (Tm MP / 5)) / (MP * (Tm ORB + Opp DRB)). Offensive rebound percentage is an estimate of the percentage of available offensive rebounds a player grabbed while he was on the floor.  \n",
       "9                                                                                                                           DRB% - Defensive Rebound Percentage (available since the 1970-71 season in the NBA); the formula is 100 * (DRB * (Tm MP / 5)) / (MP * (Tm DRB + Opp ORB)). Defensive rebound percentage is an estimate of the percentage of available defensive rebounds a player grabbed while he was on the floor.  \n",
       "10                                                                                                                                                             AST% - Assist Percentage (available since the 1964-65 season in the NBA); the formula is 100 * AST / (((MP / (Tm MP / 5)) * Tm FG) - FG). Assist percentage is an estimate of the percentage of teammate field goals a player assisted while he was on the floor.  \n",
       "11                                                                                                                                                                                                                               TOV% - Turnover Percentage (available since the 1977-78 season in the NBA); the formula is 100 * TOV / (FGA + 0.44 * FTA + TOV). Turnover percentage is an estimate of turnovers per 100 plays.  \n",
       "12                                                                                                                                                                                                                                                                                                                                                                                                                   Free Throws  \n",
       "13                                                                                                                                                                                                                                                                                                                                                                                                           Free Throw Attempts  \n",
       "14                                                                                                                                                                                                                                                                                                                                                                              Free Throw Percentage; the formula is FTM / FTA.  \n",
       "15                                                                                                                                                                                                                                                                                                                                                                                                      2P - 2-Point Field Goals  \n",
       "16                                                                                                                                                                                                                                                                                                                                                                                             2PA - 2-Point Field Goal Attempts  \n",
       "17                                                                                                                                                                                                                                                                                                                                                                 2P% - 2-Point Field Goal Percentage; the formula is 2P / 2PA.  \n",
       "18                                                                                                                                                                                                                                                                                                                                                      3P - 3-Point Field Goals (available since the 1979-80 season in the NBA)  \n",
       "19                                                                                                                                                                                                                                                                                                                                             3PA - 3-Point Field Goal Attempts (available since the 1979-80 season in the NBA)  \n",
       "20                                                                                                                                                                                                                                                                                                                 3P% - 3-Point Field Goal Percentage (available since the 1979-80 season in the NBA); the formula is 3P / 3PA.  \n",
       "21                                                                                                                                  BLK% - Block Percentage (available since the 1973-74 season in the NBA); the formula is 100 * (BLK * (Tm MP / 5)) / (MP * (Opp FGA - Opp 3PA)). Block percentage is an estimate of the percentage of opponent two-point field goal attempts blocked by the player while he was on the floor.  \n",
       "22                                                                                                                                                 STL% - Steal Percentage (available since the 1973-74 season in the NBA); the formula is 100 * (STL * (Tm MP / 5)) / (MP * Opp Poss). Steal Percentage is an estimate of the percentage of opponent possessions that end with a steal by the player while he was on the floor.  \n",
       "23                                                                                                                                                                                                                                                                                                                                                                                                                           NaN  \n",
       "24                                                                                                                                                                                                                                                                                                                           Student’s year of study: `Fr` for freshmen, `So` for sophomores, `Jr` for juniors, `Sr` for seniors  \n",
       "25                                                                                                                                                                                                                                                                                                                                                                                                             Height of student  \n",
       "26                                                                                                                                                                                                                                                                                                                                                                                                               Player's number  \n",
       "27                                                                                                                                                                                                                                                                                                                                                                                     Points Over Replacement Per Adjusted Game  \n",
       "28                                                                                                                                                                                                                                                         AdjO – Adjusted offensive efficiency – An estimate of the offensive efficiency (points scored per 100 possessions) a team would have against the average D-I defense.  \n",
       "29                                                                                                                                                                                                                                                                                                                                                                                                                           NaN  \n",
       "30                                                                                                                                                                                                                                                                                                                                                                                                                 Season's year  \n",
       "31                                                                                                                                                                                                                                         Type of metrics displayed: `All` for all types, `C` for conference`, `NC` for non-conference, `PC` for pre-conference tour, `R` for regular season, `P` for post-season, `T` for NCAA  \n",
       "32                                                                                                                                                                                                                                                                                                                                        Recruiting rank i.e. what the player was ranked as a recruit coming out of high school  \n",
       "33                                                                                                                                                                                                                                                                                                                                                                                               Ratio Assists against Turnovers  \n",
       "34                                                                                                                                                                                                                                                                                                                                                                                                 Shots made at or near the rim  \n",
       "35                                                                                                                                                                                                                                                                                                                                                                         Sum of Shots made at or near the rim and Shots missed  \n",
       "36                                                                                                                                                                                                                                                                                                                                                                         Two point shots that were not made at or near the rim  \n",
       "37                                                                                                                                                                                                                                                                                                                                                 Sum of Two point shots that were not made at or near the rim and Shots missed  \n",
       "38                                                                                                                                                                                                                                                                                                                                                              Ratio between Shots made at or near the rim against Shots missed  \n",
       "39                                                                                                                                                                                                                                                                                                                                          Ratio between Two point shots that were not made at or near the rim and Shots missed  \n",
       "40                                                                                                                                                                                                                                                                                                                                                                                                                    Dunks made  \n",
       "41                                                                                                                                                                                                                                                                                                                                                                                            Sum of Dunks made and Dunks missed  \n",
       "42                                                                                                                                                                                                                                                                                                                                                                                     Ratio between Dunks made and Dunks missed  \n",
       "43                                                                                                                                                                                                                                                                                                                                                                                                            Order of NBA draft  \n",
       "44                                                                                                          DRtg - Defensive Rating (available since the 1973-74 season in the NBA); for players and teams it is points allowed per 100 posessions. This rating was developed by Dean Oliver, author of Basketball on Paper. Please see the article Calculating Individual Offensive and Defensive Ratings for more information.  \n",
       "45                                                                                                                                                                                                                                                                                                                                                                                                                 Adjusted DRtg  \n",
       "46                                                                                                                                                                                                                                                                                                                                                                                                              Asdjusted porpag  \n",
       "47                                                                                                                                                                                                                                                       Stops - Stops; Dean Oliver's measure of individual defensive stops. Please see the article Calculating Individual Offensive and Defensive Ratings for more information.  \n",
       "48                                                                                                                                                                                                                                                                                                                            BPM - Estimate the player’s contribution in points above league average per 100 possessions played  \n",
       "49                                                                                                                                                                                                                                                                                                                                                                                                                 Offensive BPM  \n",
       "50                                                                                                                                                                                                                                                                                                                                                                                                                 Defensive BPM  \n",
       "51                                                                                                                                                                                                                                                                                                                                                                                                                       BPM 2.0  \n",
       "52                                                                                                                                                                                                                                                                                                                                                                      MP - Minutes Played (available since the 1951-52 season)  \n",
       "53                                                                                                                                                                                                                                                                                                                                                                                                             Offensive BPM 2.0  \n",
       "54                                                                                                                                                                                                                                                                                                                                                                                                             Defensive BPM 2.0  \n",
       "55                                                                                                                                                                                                                                                                                                                                                      ORB - Offensive Rebounds (available since the 1973-74 season in the NBA)  \n",
       "56                                                                                                                                                                                                                                                                                                                                                      DRB - Defensive Rebounds (available since the 1973-74 season in the NBA)  \n",
       "57                                                                                                                                                                                                                                                                                                                                                                     TRB - Total Rebounds (available since the 1950-51 season)  \n",
       "58                                                                                                                                                                                                                                                                                                                                                                                                                 AST - Assists  \n",
       "59                                                                                                                                                                                                                                                                                                                                                                  STL - Steals (available since the 1973-74 season in the NBA)  \n",
       "60                                                                                                                                                                                                                                                                                                                                                                  BLK - Blocks (available since the 1973-74 season in the NBA)  \n",
       "61                                                                                                                                                                                                                                                                                                                                                                                                                  PTS - Points  \n",
       "62                                                                                                                                                                                                                                                                                                                                                                                                   Unique identifier of player  \n",
       "63                                                                                                                                                                                                                                                                                                                                                                      Target - Was the player drafted at the end of the season  "
      ]
     },
     "execution_count": 64,
     "metadata": {},
     "output_type": "execute_result"
    }
   ],
   "source": [
    "metadata_df = pd.read_csv('../data/raw/metadata.csv')\n",
    "metadata_df"
   ]
  },
  {
   "cell_type": "code",
   "execution_count": 65,
   "id": "b2f33edb",
   "metadata": {},
   "outputs": [
    {
     "name": "stdout",
     "output_type": "stream",
     "text": [
      "Initial training data snapshot:\n",
      "            team      conf  gp  min_per   ortg   usg   efg  ts_per  orb_per  \\\n",
      "0  1.590953e-07  0.002596  26     29.5   97.3  16.6  42.5   44.43      1.6   \n",
      "1  2.373403e-07  0.004472  34     60.9  108.3  14.9  52.4   54.48      3.8   \n",
      "2  8.064561e-03  0.027501  27     72.0   96.2  21.8  45.7   47.98      2.1   \n",
      "3  4.335905e-08  0.005738  30     44.5   97.7  16.0  53.6   53.69      4.1   \n",
      "4  9.649680e-08  0.000831  33     56.2   96.5  22.0  52.8   54.31      8.3   \n",
      "\n",
      "   drb_per  ast_per  to_per  ftm  fta  ft_per  twopm  twopa  twop_per  tpm  \\\n",
      "0      4.6     15.8    16.3   10   14   0.714     26     68     0.382   13   \n",
      "1      6.3     13.6    19.8   30   45   0.667     56    113     0.496   20   \n",
      "2      8.0     14.7    15.9   45   67   0.672     67    157     0.427   50   \n",
      "3      9.4     13.7    23.8   14   27   0.519     25     63     0.397   28   \n",
      "4     18.6      8.2    22.7   64  114   0.561     93    176     0.528    0   \n",
      "\n",
      "   tpa  tp_per  blk_per  stl_per   ftr  yr    porpag     adjoe  pfr  year  \\\n",
      "0   39   0.333      0.3      1.5  13.1   2  0.258086   89.3938  2.5  2009   \n",
      "1   51   0.392      1.0      1.1  27.4   2  1.334920  100.0660  3.4  2009   \n",
      "2  154   0.325      0.0      0.9  21.5   3  2.274070  104.1070  1.7  2009   \n",
      "3   62   0.452      0.8      1.9  21.6   3  0.552857   93.2086  2.0  2009   \n",
      "4    0   0.000      1.9      1.3  64.8   3  1.060130   97.8554  3.8  2009   \n",
      "\n",
      "    ast_tov  rimmade  rimmade_rimmiss  midmade  midmade_midmiss  rim_ratio  \\\n",
      "0  1.823646     18.0             32.0      8.0             26.0   0.562907   \n",
      "1  1.631621     18.0             32.0      8.0             26.0   0.562907   \n",
      "2  1.081662     18.0             32.0      8.0             26.0   0.562907   \n",
      "3  0.942830     18.0             32.0      8.0             26.0   0.562907   \n",
      "4  0.491229     18.0             32.0      8.0             26.0   0.562907   \n",
      "\n",
      "   mid_ratio  dunksmade  dunksmiss_dunksmade     drtg    adrtg   dporpag  \\\n",
      "0   0.322901        0.0                  0.0  108.321  108.527  0.893017   \n",
      "1   0.322901        0.0                  0.0  105.078  104.017  1.880030   \n",
      "2   0.322901        0.0                  0.0  107.556  102.154  2.763870   \n",
      "3   0.322901        0.0                  0.0  108.858  106.556  1.218710   \n",
      "4   0.322901        0.0                  0.0  101.052  100.724  1.992790   \n",
      "\n",
      "      stops       bpm      obpm      dbpm      gbpm       mp     ogbpm  \\\n",
      "0   49.9644 -4.995140 -1.623360 -3.371780 -4.723150  14.5769 -2.781990   \n",
      "1  111.9290  0.593024  1.385490 -0.792469 -0.300196  24.5294 -0.052263   \n",
      "2  115.0210  0.003161  1.024770 -1.021610  0.665065  33.1852  1.548230   \n",
      "3   84.1698 -0.977798 -0.502574 -0.475224 -0.736233  17.9667 -0.342775   \n",
      "4  128.0280 -1.836060 -1.946040  0.109983 -2.353180  22.9091 -1.684860   \n",
      "\n",
      "      dgbpm    oreb    dreb    treb     ast     stl     blk      pts  drafted  \n",
      "0 -1.941150  0.1923  0.6154  0.8077  1.1923  0.3462  0.0385   3.8846      0.0  \n",
      "1 -0.247934  0.6765  1.2647  1.9412  1.8235  0.4118  0.2353   5.9412      0.0  \n",
      "2 -0.883163  0.6296  2.3333  2.9630  1.9630  0.4815  0.0000  12.1852      0.0  \n",
      "3 -0.393459  0.7000  1.4333  2.1333  1.1000  0.5667  0.1333   4.9333      0.0  \n",
      "4 -0.668318  1.4242  3.3030  4.7273  0.8485  0.4545  0.3333   7.5758      0.0  \n",
      "Processed data snapshot:\n",
      "       team      conf        gp   min_per      ortg       usg       efg  \\\n",
      "0 -0.416660 -0.483228  0.242042 -0.281273  0.182140 -0.254627 -0.108615   \n",
      "1 -0.416657 -0.352413  1.037497  0.839800  0.547775 -0.530343  0.442064   \n",
      "2 -0.064344  1.252960  0.341474  1.236103  0.145577  0.588739  0.069382   \n",
      "3 -0.416665 -0.264199  0.639769  0.254271  0.195436 -0.351939  0.508814   \n",
      "4 -0.416663 -0.606278  0.938065  0.671996  0.155548  0.621176  0.464314   \n",
      "\n",
      "     ts_per   orb_per   drb_per   ast_per    to_per       ftm       fta  \\\n",
      "0 -0.184900 -0.411101 -0.729939  0.518464 -0.348753 -0.626998 -0.676151   \n",
      "1  0.400761 -0.187195 -0.574301  0.284444 -0.061595 -0.090949 -0.058534   \n",
      "2  0.021975 -0.360214 -0.418663  0.401454 -0.381571  0.311088  0.379775   \n",
      "3  0.354723 -0.156663 -0.290490  0.295081  0.266585 -0.519788 -0.417150   \n",
      "4  0.390854  0.270793  0.551788 -0.289969  0.176335  0.820334  1.316163   \n",
      "\n",
      "     ft_per     twopm     twopa  twop_per       tpm       tpa    tp_per  \\\n",
      "0  0.504816 -0.355173 -0.210977 -0.225909 -0.111494 -0.098019  0.564321   \n",
      "1  0.328097  0.329401  0.314992  0.371653  0.214277  0.110426  0.872563   \n",
      "2  0.346897  0.580411  0.829273  0.009971  1.610437  1.899581  0.522526   \n",
      "3 -0.228381 -0.377992 -0.269418 -0.147283  0.586586  0.301501  1.186029   \n",
      "4 -0.070461  1.173708  1.051349  0.539390 -0.716496 -0.775466 -1.175416   \n",
      "\n",
      "    blk_per   stl_per       ftr        yr    porpag     adjoe       pfr  \\\n",
      "0 -0.251612 -0.111156 -0.680207  0.515922 -0.389752  0.002441 -0.378433   \n",
      "1 -0.140044 -0.304977 -0.291840  0.515922  0.413442  0.352245 -0.186579   \n",
      "2 -0.299427 -0.401888 -0.452075  1.417678  1.113940  0.484697 -0.548970   \n",
      "3 -0.171921  0.082666 -0.449359  1.417678 -0.169887  0.127479 -0.485019   \n",
      "4  0.003400 -0.208066  0.723888  1.417678  0.208480  0.279788 -0.101310   \n",
      "\n",
      "       year   ast_tov   rimmade  rimmade_rimmiss   midmade  midmade_midmiss  \\\n",
      "0 -1.577133  1.366041 -0.304569        -0.288203 -0.356838        -0.320968   \n",
      "1 -1.577133  1.077732 -0.304569        -0.288203 -0.356838        -0.320968   \n",
      "2 -1.577133  0.252013 -0.304569        -0.288203 -0.356838        -0.320968   \n",
      "3 -1.577133  0.043569 -0.304569        -0.288203 -0.356838        -0.320968   \n",
      "4 -1.577133 -0.634473 -0.304569        -0.288203 -0.356838        -0.320968   \n",
      "\n",
      "   rim_ratio  mid_ratio  dunksmade  dunksmiss_dunksmade      drtg     adrtg  \\\n",
      "0   0.000003   0.000119  -0.442242            -0.452478  0.469041  0.439611   \n",
      "1   0.000003   0.000119  -0.442242            -0.452478  0.162224  0.044184   \n",
      "2   0.000003   0.000119  -0.442242            -0.452478  0.396665 -0.119159   \n",
      "3   0.000003   0.000119  -0.442242            -0.452478  0.519846  0.266798   \n",
      "4   0.000003   0.000119  -0.442242            -0.452478 -0.218672 -0.244539   \n",
      "\n",
      "    dporpag     stops       bpm      obpm      dbpm      gbpm        mp  \\\n",
      "0 -0.505666 -0.500402 -0.321736  0.053308 -0.623929 -0.261435 -0.223548   \n",
      "1  0.428089  0.451593  0.403892  0.633452 -0.039621  0.271151  0.712570   \n",
      "2  1.264239  0.499097  0.327298  0.563901 -0.091529  0.387382  1.526721   \n",
      "3 -0.197547  0.025114  0.199919  0.269410  0.032247  0.218646  0.095292   \n",
      "4  0.534765  0.698931  0.088473 -0.008909  0.164818  0.023943  0.560167   \n",
      "\n",
      "      ogbpm     dgbpm      oreb      dreb      treb       ast       stl  \\\n",
      "0 -0.112640 -0.447160 -0.787192 -0.854862 -0.877145  0.106905 -0.386791   \n",
      "1  0.330537  0.065347 -0.137307 -0.411597 -0.336417  0.646153 -0.247109   \n",
      "2  0.590381 -0.126926 -0.200256  0.317916  0.151025  0.765331 -0.098698   \n",
      "3  0.283372  0.021299 -0.105766 -0.296497 -0.244777  0.028051  0.082718   \n",
      "4  0.065482 -0.061896  0.866243  0.979911  0.992670 -0.186811 -0.156188   \n",
      "\n",
      "        blk       pts  drafted  \n",
      "0 -0.579910 -0.374191      0.0  \n",
      "1 -0.114430  0.041924      0.0  \n",
      "2 -0.670972  1.305282      0.0  \n",
      "3 -0.355685 -0.162006      0.0  \n",
      "4  0.117364  0.372655      0.0  \n"
     ]
    }
   ],
   "source": [
    "# Cell 4: Feature engineering and preprocessing\n",
    "\n",
    "# Check the content before passing to the function\n",
    "print(\"Initial training data snapshot:\\n\", train_df_clean.head())\n",
    "\n",
    "# Process the training data using the revised pre_processing function\n",
    "train_df_processed = pre_processing(train_df_clean)\n",
    "\n",
    "# Display the first few rows of the processed data\n",
    "print(\"Processed data snapshot:\")\n",
    "print(train_df_processed.head())\n"
   ]
  },
  {
   "cell_type": "code",
   "execution_count": 66,
   "id": "2e2fb65d",
   "metadata": {},
   "outputs": [
    {
     "name": "stdout",
     "output_type": "stream",
     "text": [
      "Top Features:\n",
      " Index(['team', 'dporpag', 'porpag', 'stops', 'gbpm', 'bpm', 'ogbpm', 'adjoe',\n",
      "       'twopa', 'twopm', 'obpm', 'fta', 'adrtg', 'conf', 'pts', 'dunksmade',\n",
      "       'dunksmiss_dunksmade', 'dreb', 'dgbpm', 'mp'],\n",
      "      dtype='object')\n"
     ]
    },
    {
     "data": {
      "text/plain": [
       "Index(['team', 'dporpag', 'porpag', 'stops', 'gbpm', 'bpm', 'ogbpm', 'adjoe',\n",
       "       'twopa', 'twopm', 'obpm', 'fta', 'adrtg', 'conf', 'pts', 'dunksmade',\n",
       "       'dunksmiss_dunksmade', 'dreb', 'dgbpm', 'mp'],\n",
       "      dtype='object')"
      ]
     },
     "execution_count": 66,
     "metadata": {},
     "output_type": "execute_result"
    }
   ],
   "source": [
    "top_features = important_features(train_df_processed,target_col='drafted',n_top=20)\n",
    "top_features"
   ]
  },
  {
   "cell_type": "markdown",
   "id": "cb58bf3c",
   "metadata": {},
   "source": [
    "<!-- Use these top features as well but train a different model -->"
   ]
  },
  {
   "cell_type": "code",
   "execution_count": 67,
   "id": "9f55e315",
   "metadata": {},
   "outputs": [],
   "source": [
    "from sklearn.linear_model import LogisticRegression"
   ]
  },
  {
   "cell_type": "code",
   "execution_count": 68,
   "id": "5a9179be",
   "metadata": {},
   "outputs": [
    {
     "name": "stdout",
     "output_type": "stream",
     "text": [
      "Number of PCA components used: 35\n",
      "Training logistic_regression...\n"
     ]
    },
    {
     "data": {
      "image/png": "[encoded data removed]",
      "text/plain": [
       "<Figure size 640x480 with 1 Axes>"
      ]
     },
     "metadata": {},
     "output_type": "display_data"
    },
    {
     "name": "stdout",
     "output_type": "stream",
     "text": [
      "Tuning hyperparameters for logistic_regression using GridSearchCV...\n",
      "Fitting 5 folds for each of 6 candidates, totalling 30 fits\n",
      "Best hyperparameters found: {'C': 1.0, 'penalty': 'l2'}\n"
     ]
    },
    {
     "data": {
      "image/png": "[encoded data removed]",
      "text/plain": [
       "<Figure size 640x480 with 1 Axes>"
      ]
     },
     "metadata": {},
     "output_type": "display_data"
    },
    {
     "name": "stdout",
     "output_type": "stream",
     "text": [
      "Tuning hyperparameters for logistic_regression using GridSearchCV...\n",
      "Fitting 5 folds for each of 6 candidates, totalling 30 fits\n",
      "Best hyperparameters found: {'C': 10, 'penalty': 'l2'}\n"
     ]
    },
    {
     "data": {
      "image/png": "[encoded data removed]",
      "text/plain": [
       "<Figure size 640x480 with 1 Axes>"
      ]
     },
     "metadata": {},
     "output_type": "display_data"
    },
    {
     "name": "stdout",
     "output_type": "stream",
     "text": [
      "Tuning hyperparameters for logistic_regression using GridSearchCV...\n",
      "Fitting 5 folds for each of 6 candidates, totalling 30 fits\n",
      "Best hyperparameters found: {'C': 1.0, 'penalty': 'l2'}\n"
     ]
    },
    {
     "data": {
      "image/png": "[encoded data removed]",
      "text/plain": [
       "<Figure size 640x480 with 1 Axes>"
      ]
     },
     "metadata": {},
     "output_type": "display_data"
    },
    {
     "name": "stdout",
     "output_type": "stream",
     "text": [
      "Tuning hyperparameters for logistic_regression using GridSearchCV...\n",
      "Fitting 5 folds for each of 6 candidates, totalling 30 fits\n",
      "Best hyperparameters found: {'C': 10, 'penalty': 'l2'}\n"
     ]
    },
    {
     "data": {
      "image/png": "[encoded data removed]",
      "text/plain": [
       "<Figure size 640x480 with 1 Axes>"
      ]
     },
     "metadata": {},
     "output_type": "display_data"
    },
    {
     "name": "stdout",
     "output_type": "stream",
     "text": [
      "Mean AUC across all folds for logistic_regression: 0.9895312626701619\n",
      "Model saved as 'logistic_regression_model.pkl'\n",
      "PCA model saved as 'logistic_regression_pca.pkl'\n"
     ]
    }
   ],
   "source": [
    "logistic_model = LogisticRegression(penalty='l2', C=1.0)\n",
    "param_grid = {\n",
    "    'C': [0.1, 1.0, 10],\n",
    "    'penalty': ['l1', 'l2']\n",
    "}\n",
    "\n",
    "# Call the train_model function\n",
    "model_logistic, pca_model_logistic, X_validation, y_val = train_model(\n",
    "    train_df_processed,           # Processed training data\n",
    "    logistic_model,               # Logistic Regression model\n",
    "    'logistic_regression',        # Model name (used for saving)\n",
    "    'drafted',\n",
    "    param_grid=param_grid                    # Target column name (you can change this if your target column is different)\n",
    ")"
   ]
  },
  {
   "cell_type": "code",
   "execution_count": 69,
   "id": "b1b6d9f2",
   "metadata": {},
   "outputs": [],
   "source": [
    "from src.models.predict_model import load_models, predict_test_data"
   ]
  },
  {
   "cell_type": "code",
   "execution_count": 70,
   "id": "91728223",
   "metadata": {},
   "outputs": [],
   "source": [
    "# Cell 1: Import necessary modules and functions\n",
    "import pandas as pd\n",
    "from src.models.predict_model import predict_test_data\n",
    "from sklearn.metrics import roc_auc_score, classification_report\n",
    "\n",
    "# Assuming you have a test CSV file ready\n",
    "test_filepath = '../data/raw/test.csv'  # Update with the actual path to your test dataset"
   ]
  },
  {
   "cell_type": "code",
   "execution_count": 71,
   "id": "1de17abc",
   "metadata": {},
   "outputs": [],
   "source": [
    "test_df = pd.read_csv(test_filepath, low_memory= False)"
   ]
  },
  {
   "cell_type": "code",
   "execution_count": 72,
   "id": "36df23d4",
   "metadata": {},
   "outputs": [],
   "source": [
    "# processed_test_df = preprocess_test_data(test_df=test_df)"
   ]
  },
  {
   "cell_type": "code",
   "execution_count": 73,
   "id": "b721387e",
   "metadata": {},
   "outputs": [
    {
     "name": "stdout",
     "output_type": "stream",
     "text": [
      "Initial Test DataFrame shape: (4970, 63)\n",
      "Imputing missing values...\n",
      "Shape after imputing missing values: (4970, 63)\n",
      "Dropping unnecessary columns...\n",
      "Shape after dropping unnecessary columns: (4970, 59)\n",
      "Dropping columns with high percentage of missing values...\n",
      "Shape after dropping high missing columns: (4970, 56)\n",
      "Encoded 'yr' as categorical codes.\n",
      "Encoding categorical columns with loaded TargetEncoder...\n",
      "Shape after encoding categorical columns: (4970, 56)\n",
      "team                   0\n",
      "conf                   0\n",
      "GP                     0\n",
      "Min_per                0\n",
      "Ortg                   0\n",
      "usg                    0\n",
      "eFG                    0\n",
      "TS_per                 0\n",
      "ORB_per                0\n",
      "DRB_per                0\n",
      "AST_per                0\n",
      "TO_per                 0\n",
      "FTM                    0\n",
      "FTA                    0\n",
      "FT_per                 0\n",
      "twoPM                  0\n",
      "twoPA                  0\n",
      "twoP_per               0\n",
      "TPM                    0\n",
      "TPA                    0\n",
      "TP_per                 0\n",
      "blk_per                0\n",
      "stl_per                0\n",
      "ftr                    0\n",
      "yr                     0\n",
      "porpag                 0\n",
      "adjoe                  0\n",
      "pfr                    0\n",
      "year                   0\n",
      "ast_tov                0\n",
      "rimmade                0\n",
      "rimmade_rimmiss        0\n",
      "midmade                0\n",
      "midmade_midmiss        0\n",
      "rim_ratio              0\n",
      "mid_ratio              0\n",
      "dunksmade              0\n",
      "dunksmiss_dunksmade    0\n",
      "drtg                   0\n",
      "adrtg                  0\n",
      "dporpag                0\n",
      "stops                  0\n",
      "bpm                    0\n",
      "obpm                   0\n",
      "dbpm                   0\n",
      "gbpm                   0\n",
      "mp                     0\n",
      "ogbpm                  0\n",
      "dgbpm                  0\n",
      "oreb                   0\n",
      "dreb                   0\n",
      "treb                   0\n",
      "ast                    0\n",
      "stl                    0\n",
      "blk                    0\n",
      "pts                    0\n",
      "dtype: int64\n",
      "Final Test DataFrame shape: (4970, 56)\n"
     ]
    },
    {
     "ename": "ValueError",
     "evalue": "The feature names should match those that were passed during fit.\nFeature names unseen at fit time:\n- AST_per\n- DRB_per\n- FTA\n- FTM\n- FT_per\n- ...\nFeature names seen at fit time, yet now missing:\n- ast_per\n- drb_per\n- efg\n- ft_per\n- fta\n- ...\n",
     "output_type": "error",
     "traceback": [
      "\u001b[1;31m---------------------------------------------------------------------------\u001b[0m",
      "\u001b[1;31mValueError\u001b[0m                                Traceback (most recent call last)",
      "Cell \u001b[1;32mIn[73], line 7\u001b[0m\n\u001b[0;32m      3\u001b[0m pca_filepath \u001b[38;5;241m=\u001b[39m \u001b[38;5;124m'\u001b[39m\u001b[38;5;124mlogistic_regression_pca.pkl\u001b[39m\u001b[38;5;124m'\u001b[39m\n\u001b[0;32m      6\u001b[0m \u001b[38;5;66;03m# Make predictions on the test data\u001b[39;00m\n\u001b[1;32m----> 7\u001b[0m y_test_pred \u001b[38;5;241m=\u001b[39m \u001b[43mpredict_test_data\u001b[49m\u001b[43m(\u001b[49m\u001b[43mtest_filepath\u001b[49m\u001b[43m,\u001b[49m\u001b[43m \u001b[49m\u001b[43mmodel_filepath\u001b[49m\u001b[38;5;241;43m=\u001b[39;49m\u001b[43mmodel_filepath\u001b[49m\u001b[43m,\u001b[49m\u001b[43m \u001b[49m\u001b[43mpca_filepath\u001b[49m\u001b[38;5;241;43m=\u001b[39;49m\u001b[43mpca_filepath\u001b[49m\u001b[43m)\u001b[49m\n\u001b[0;32m      9\u001b[0m \u001b[38;5;66;03m# Display the first few predicted probabilities\u001b[39;00m\n\u001b[0;32m     10\u001b[0m \u001b[38;5;28mprint\u001b[39m(\u001b[38;5;124m\"\u001b[39m\u001b[38;5;124mPredicted probabilities (first 10):\u001b[39m\u001b[38;5;124m\"\u001b[39m, y_test_pred[:\u001b[38;5;241m10\u001b[39m])\n",
      "File \u001b[1;32md:\\Advanced Machine Learning UTS\\Assignment 1 Kaggle Comp\\NBA_AMLAA_Assignment1\\src\\models\\predict_model.py:97\u001b[0m, in \u001b[0;36mpredict_test_data\u001b[1;34m(test_filepath, model_filepath, pca_filepath)\u001b[0m\n\u001b[0;32m     94\u001b[0m test_df_processed \u001b[38;5;241m=\u001b[39m preprocess_test_data(test_df)\n\u001b[0;32m     96\u001b[0m \u001b[38;5;66;03m# Apply PCA transformation\u001b[39;00m\n\u001b[1;32m---> 97\u001b[0m test_df_pca \u001b[38;5;241m=\u001b[39m \u001b[43mpca\u001b[49m\u001b[38;5;241;43m.\u001b[39;49m\u001b[43mtransform\u001b[49m\u001b[43m(\u001b[49m\u001b[43mtest_df_processed\u001b[49m\u001b[43m)\u001b[49m\n\u001b[0;32m     99\u001b[0m \u001b[38;5;66;03m# Predict probabilities for the test data\u001b[39;00m\n\u001b[0;32m    100\u001b[0m y_test_pred \u001b[38;5;241m=\u001b[39m model\u001b[38;5;241m.\u001b[39mpredict_proba(test_df_pca)[:, \u001b[38;5;241m1\u001b[39m]\n",
      "File \u001b[1;32mc:\\Users\\shiva\\AppData\\Local\\pypoetry\\Cache\\virtualenvs\\nba-amlaa-assignment1-jx_plJzx-py3.11\\Lib\\site-packages\\sklearn\\utils\\_set_output.py:313\u001b[0m, in \u001b[0;36m_wrap_method_output.<locals>.wrapped\u001b[1;34m(self, X, *args, **kwargs)\u001b[0m\n\u001b[0;32m    311\u001b[0m \u001b[38;5;129m@wraps\u001b[39m(f)\n\u001b[0;32m    312\u001b[0m \u001b[38;5;28;01mdef\u001b[39;00m \u001b[38;5;21mwrapped\u001b[39m(\u001b[38;5;28mself\u001b[39m, X, \u001b[38;5;241m*\u001b[39margs, \u001b[38;5;241m*\u001b[39m\u001b[38;5;241m*\u001b[39mkwargs):\n\u001b[1;32m--> 313\u001b[0m     data_to_wrap \u001b[38;5;241m=\u001b[39m \u001b[43mf\u001b[49m\u001b[43m(\u001b[49m\u001b[38;5;28;43mself\u001b[39;49m\u001b[43m,\u001b[49m\u001b[43m \u001b[49m\u001b[43mX\u001b[49m\u001b[43m,\u001b[49m\u001b[43m \u001b[49m\u001b[38;5;241;43m*\u001b[39;49m\u001b[43margs\u001b[49m\u001b[43m,\u001b[49m\u001b[43m \u001b[49m\u001b[38;5;241;43m*\u001b[39;49m\u001b[38;5;241;43m*\u001b[39;49m\u001b[43mkwargs\u001b[49m\u001b[43m)\u001b[49m\n\u001b[0;32m    314\u001b[0m     \u001b[38;5;28;01mif\u001b[39;00m \u001b[38;5;28misinstance\u001b[39m(data_to_wrap, \u001b[38;5;28mtuple\u001b[39m):\n\u001b[0;32m    315\u001b[0m         \u001b[38;5;66;03m# only wrap the first output for cross decomposition\u001b[39;00m\n\u001b[0;32m    316\u001b[0m         return_tuple \u001b[38;5;241m=\u001b[39m (\n\u001b[0;32m    317\u001b[0m             _wrap_data_with_container(method, data_to_wrap[\u001b[38;5;241m0\u001b[39m], X, \u001b[38;5;28mself\u001b[39m),\n\u001b[0;32m    318\u001b[0m             \u001b[38;5;241m*\u001b[39mdata_to_wrap[\u001b[38;5;241m1\u001b[39m:],\n\u001b[0;32m    319\u001b[0m         )\n",
      "File \u001b[1;32mc:\\Users\\shiva\\AppData\\Local\\pypoetry\\Cache\\virtualenvs\\nba-amlaa-assignment1-jx_plJzx-py3.11\\Lib\\site-packages\\sklearn\\decomposition\\_base.py:143\u001b[0m, in \u001b[0;36m_BasePCA.transform\u001b[1;34m(self, X)\u001b[0m\n\u001b[0;32m    139\u001b[0m xp, _ \u001b[38;5;241m=\u001b[39m get_namespace(X, \u001b[38;5;28mself\u001b[39m\u001b[38;5;241m.\u001b[39mcomponents_, \u001b[38;5;28mself\u001b[39m\u001b[38;5;241m.\u001b[39mexplained_variance_)\n\u001b[0;32m    141\u001b[0m check_is_fitted(\u001b[38;5;28mself\u001b[39m)\n\u001b[1;32m--> 143\u001b[0m X \u001b[38;5;241m=\u001b[39m \u001b[38;5;28;43mself\u001b[39;49m\u001b[38;5;241;43m.\u001b[39;49m\u001b[43m_validate_data\u001b[49m\u001b[43m(\u001b[49m\n\u001b[0;32m    144\u001b[0m \u001b[43m    \u001b[49m\u001b[43mX\u001b[49m\u001b[43m,\u001b[49m\u001b[43m \u001b[49m\u001b[43mdtype\u001b[49m\u001b[38;5;241;43m=\u001b[39;49m\u001b[43m[\u001b[49m\u001b[43mxp\u001b[49m\u001b[38;5;241;43m.\u001b[39;49m\u001b[43mfloat64\u001b[49m\u001b[43m,\u001b[49m\u001b[43m \u001b[49m\u001b[43mxp\u001b[49m\u001b[38;5;241;43m.\u001b[39;49m\u001b[43mfloat32\u001b[49m\u001b[43m]\u001b[49m\u001b[43m,\u001b[49m\u001b[43m \u001b[49m\u001b[43maccept_sparse\u001b[49m\u001b[38;5;241;43m=\u001b[39;49m\u001b[43m(\u001b[49m\u001b[38;5;124;43m\"\u001b[39;49m\u001b[38;5;124;43mcsr\u001b[39;49m\u001b[38;5;124;43m\"\u001b[39;49m\u001b[43m,\u001b[49m\u001b[43m \u001b[49m\u001b[38;5;124;43m\"\u001b[39;49m\u001b[38;5;124;43mcsc\u001b[39;49m\u001b[38;5;124;43m\"\u001b[39;49m\u001b[43m)\u001b[49m\u001b[43m,\u001b[49m\u001b[43m \u001b[49m\u001b[43mreset\u001b[49m\u001b[38;5;241;43m=\u001b[39;49m\u001b[38;5;28;43;01mFalse\u001b[39;49;00m\n\u001b[0;32m    145\u001b[0m \u001b[43m\u001b[49m\u001b[43m)\u001b[49m\n\u001b[0;32m    146\u001b[0m \u001b[38;5;28;01mreturn\u001b[39;00m \u001b[38;5;28mself\u001b[39m\u001b[38;5;241m.\u001b[39m_transform(X, xp\u001b[38;5;241m=\u001b[39mxp, x_is_centered\u001b[38;5;241m=\u001b[39m\u001b[38;5;28;01mFalse\u001b[39;00m)\n",
      "File \u001b[1;32mc:\\Users\\shiva\\AppData\\Local\\pypoetry\\Cache\\virtualenvs\\nba-amlaa-assignment1-jx_plJzx-py3.11\\Lib\\site-packages\\sklearn\\base.py:608\u001b[0m, in \u001b[0;36mBaseEstimator._validate_data\u001b[1;34m(self, X, y, reset, validate_separately, cast_to_ndarray, **check_params)\u001b[0m\n\u001b[0;32m    537\u001b[0m \u001b[38;5;28;01mdef\u001b[39;00m \u001b[38;5;21m_validate_data\u001b[39m(\n\u001b[0;32m    538\u001b[0m     \u001b[38;5;28mself\u001b[39m,\n\u001b[0;32m    539\u001b[0m     X\u001b[38;5;241m=\u001b[39m\u001b[38;5;124m\"\u001b[39m\u001b[38;5;124mno_validation\u001b[39m\u001b[38;5;124m\"\u001b[39m,\n\u001b[1;32m   (...)\u001b[0m\n\u001b[0;32m    544\u001b[0m     \u001b[38;5;241m*\u001b[39m\u001b[38;5;241m*\u001b[39mcheck_params,\n\u001b[0;32m    545\u001b[0m ):\n\u001b[0;32m    546\u001b[0m \u001b[38;5;250m    \u001b[39m\u001b[38;5;124;03m\"\"\"Validate input data and set or check the `n_features_in_` attribute.\u001b[39;00m\n\u001b[0;32m    547\u001b[0m \n\u001b[0;32m    548\u001b[0m \u001b[38;5;124;03m    Parameters\u001b[39;00m\n\u001b[1;32m   (...)\u001b[0m\n\u001b[0;32m    606\u001b[0m \u001b[38;5;124;03m        validated.\u001b[39;00m\n\u001b[0;32m    607\u001b[0m \u001b[38;5;124;03m    \"\"\"\u001b[39;00m\n\u001b[1;32m--> 608\u001b[0m     \u001b[38;5;28;43mself\u001b[39;49m\u001b[38;5;241;43m.\u001b[39;49m\u001b[43m_check_feature_names\u001b[49m\u001b[43m(\u001b[49m\u001b[43mX\u001b[49m\u001b[43m,\u001b[49m\u001b[43m \u001b[49m\u001b[43mreset\u001b[49m\u001b[38;5;241;43m=\u001b[39;49m\u001b[43mreset\u001b[49m\u001b[43m)\u001b[49m\n\u001b[0;32m    610\u001b[0m     \u001b[38;5;28;01mif\u001b[39;00m y \u001b[38;5;129;01mis\u001b[39;00m \u001b[38;5;28;01mNone\u001b[39;00m \u001b[38;5;129;01mand\u001b[39;00m \u001b[38;5;28mself\u001b[39m\u001b[38;5;241m.\u001b[39m_get_tags()[\u001b[38;5;124m\"\u001b[39m\u001b[38;5;124mrequires_y\u001b[39m\u001b[38;5;124m\"\u001b[39m]:\n\u001b[0;32m    611\u001b[0m         \u001b[38;5;28;01mraise\u001b[39;00m \u001b[38;5;167;01mValueError\u001b[39;00m(\n\u001b[0;32m    612\u001b[0m             \u001b[38;5;124mf\u001b[39m\u001b[38;5;124m\"\u001b[39m\u001b[38;5;124mThis \u001b[39m\u001b[38;5;132;01m{\u001b[39;00m\u001b[38;5;28mself\u001b[39m\u001b[38;5;241m.\u001b[39m\u001b[38;5;18m__class__\u001b[39m\u001b[38;5;241m.\u001b[39m\u001b[38;5;18m__name__\u001b[39m\u001b[38;5;132;01m}\u001b[39;00m\u001b[38;5;124m estimator \u001b[39m\u001b[38;5;124m\"\u001b[39m\n\u001b[0;32m    613\u001b[0m             \u001b[38;5;124m\"\u001b[39m\u001b[38;5;124mrequires y to be passed, but the target y is None.\u001b[39m\u001b[38;5;124m\"\u001b[39m\n\u001b[0;32m    614\u001b[0m         )\n",
      "File \u001b[1;32mc:\\Users\\shiva\\AppData\\Local\\pypoetry\\Cache\\virtualenvs\\nba-amlaa-assignment1-jx_plJzx-py3.11\\Lib\\site-packages\\sklearn\\base.py:535\u001b[0m, in \u001b[0;36mBaseEstimator._check_feature_names\u001b[1;34m(self, X, reset)\u001b[0m\n\u001b[0;32m    530\u001b[0m \u001b[38;5;28;01mif\u001b[39;00m \u001b[38;5;129;01mnot\u001b[39;00m missing_names \u001b[38;5;129;01mand\u001b[39;00m \u001b[38;5;129;01mnot\u001b[39;00m unexpected_names:\n\u001b[0;32m    531\u001b[0m     message \u001b[38;5;241m+\u001b[39m\u001b[38;5;241m=\u001b[39m (\n\u001b[0;32m    532\u001b[0m         \u001b[38;5;124m\"\u001b[39m\u001b[38;5;124mFeature names must be in the same order as they were in fit.\u001b[39m\u001b[38;5;130;01m\\n\u001b[39;00m\u001b[38;5;124m\"\u001b[39m\n\u001b[0;32m    533\u001b[0m     )\n\u001b[1;32m--> 535\u001b[0m \u001b[38;5;28;01mraise\u001b[39;00m \u001b[38;5;167;01mValueError\u001b[39;00m(message)\n",
      "\u001b[1;31mValueError\u001b[0m: The feature names should match those that were passed during fit.\nFeature names unseen at fit time:\n- AST_per\n- DRB_per\n- FTA\n- FTM\n- FT_per\n- ...\nFeature names seen at fit time, yet now missing:\n- ast_per\n- drb_per\n- efg\n- ft_per\n- fta\n- ...\n"
     ]
    }
   ],
   "source": [
    "# File paths for the saved model and PCA (assuming 'logistic_regression' was used in training)\n",
    "model_filepath = 'logistic_regression_model.pkl'\n",
    "pca_filepath = 'logistic_regression_pca.pkl'\n",
    "\n",
    "\n",
    "# Make predictions on the test data\n",
    "y_test_pred = predict_test_data(test_filepath, model_filepath=model_filepath, pca_filepath=pca_filepath)\n",
    "\n",
    "# Display the first few predicted probabilities\n",
    "print(\"Predicted probabilities (first 10):\", y_test_pred[:10])\n",
    "\n"
   ]
  },
  {
   "cell_type": "code",
   "execution_count": null,
   "id": "be5850c9",
   "metadata": {},
   "outputs": [
    {
     "data": {
      "text/plain": [
       "array([1.45902395e-131, 9.30265706e-108, 1.11616906e-107, ...,\n",
       "       3.53094381e-114, 1.05833175e-111, 2.69139470e-127])"
      ]
     },
     "execution_count": 46,
     "metadata": {},
     "output_type": "execute_result"
    }
   ],
   "source": [
    "y_test_pred"
   ]
  },
  {
   "cell_type": "code",
   "execution_count": null,
   "id": "e3ff711e",
   "metadata": {},
   "outputs": [
    {
     "data": {
      "text/html": [
       "<div>\n",
       "<style scoped>\n",
       "    .dataframe tbody tr th:only-of-type {\n",
       "        vertical-align: middle;\n",
       "    }\n",
       "\n",
       "    .dataframe tbody tr th {\n",
       "        vertical-align: top;\n",
       "    }\n",
       "\n",
       "    .dataframe thead th {\n",
       "        text-align: right;\n",
       "    }\n",
       "</style>\n",
       "<table border=\"1\" class=\"dataframe\">\n",
       "  <thead>\n",
       "    <tr style=\"text-align: right;\">\n",
       "      <th></th>\n",
       "      <th>team</th>\n",
       "      <th>conf</th>\n",
       "      <th>GP</th>\n",
       "      <th>Min_per</th>\n",
       "      <th>Ortg</th>\n",
       "      <th>usg</th>\n",
       "      <th>eFG</th>\n",
       "      <th>TS_per</th>\n",
       "      <th>ORB_per</th>\n",
       "      <th>DRB_per</th>\n",
       "      <th>AST_per</th>\n",
       "      <th>TO_per</th>\n",
       "      <th>FTM</th>\n",
       "      <th>FTA</th>\n",
       "      <th>FT_per</th>\n",
       "      <th>twoPM</th>\n",
       "      <th>twoPA</th>\n",
       "      <th>twoP_per</th>\n",
       "      <th>TPM</th>\n",
       "      <th>TPA</th>\n",
       "      <th>TP_per</th>\n",
       "      <th>blk_per</th>\n",
       "      <th>stl_per</th>\n",
       "      <th>ftr</th>\n",
       "      <th>yr</th>\n",
       "      <th>ht</th>\n",
       "      <th>num</th>\n",
       "      <th>porpag</th>\n",
       "      <th>adjoe</th>\n",
       "      <th>pfr</th>\n",
       "      <th>year</th>\n",
       "      <th>type</th>\n",
       "      <th>Rec_Rank</th>\n",
       "      <th>ast_tov</th>\n",
       "      <th>rimmade</th>\n",
       "      <th>rimmade_rimmiss</th>\n",
       "      <th>midmade</th>\n",
       "      <th>midmade_midmiss</th>\n",
       "      <th>rim_ratio</th>\n",
       "      <th>mid_ratio</th>\n",
       "      <th>dunksmade</th>\n",
       "      <th>dunksmiss_dunksmade</th>\n",
       "      <th>dunks_ratio</th>\n",
       "      <th>pick</th>\n",
       "      <th>drtg</th>\n",
       "      <th>adrtg</th>\n",
       "      <th>dporpag</th>\n",
       "      <th>stops</th>\n",
       "      <th>bpm</th>\n",
       "      <th>obpm</th>\n",
       "      <th>dbpm</th>\n",
       "      <th>gbpm</th>\n",
       "      <th>mp</th>\n",
       "      <th>ogbpm</th>\n",
       "      <th>dgbpm</th>\n",
       "      <th>oreb</th>\n",
       "      <th>dreb</th>\n",
       "      <th>treb</th>\n",
       "      <th>ast</th>\n",
       "      <th>stl</th>\n",
       "      <th>blk</th>\n",
       "      <th>pts</th>\n",
       "      <th>player_id</th>\n",
       "    </tr>\n",
       "  </thead>\n",
       "  <tbody>\n",
       "    <tr>\n",
       "      <th>0</th>\n",
       "      <td>Morgan St.</td>\n",
       "      <td>MEAC</td>\n",
       "      <td>2</td>\n",
       "      <td>3.0</td>\n",
       "      <td>115.1</td>\n",
       "      <td>4.7</td>\n",
       "      <td>50.0</td>\n",
       "      <td>50.00</td>\n",
       "      <td>0.0</td>\n",
       "      <td>4.6</td>\n",
       "      <td>0.0</td>\n",
       "      <td>0.0</td>\n",
       "      <td>0</td>\n",
       "      <td>0</td>\n",
       "      <td>0.000</td>\n",
       "      <td>0</td>\n",
       "      <td>0</td>\n",
       "      <td>0.000</td>\n",
       "      <td>1</td>\n",
       "      <td>3</td>\n",
       "      <td>0.333</td>\n",
       "      <td>0.0</td>\n",
       "      <td>0.0</td>\n",
       "      <td>0.0</td>\n",
       "      <td>Sr</td>\n",
       "      <td>4-Jun</td>\n",
       "      <td>25.0</td>\n",
       "      <td>0.261536</td>\n",
       "      <td>91.8097</td>\n",
       "      <td>3.5</td>\n",
       "      <td>2021</td>\n",
       "      <td>all</td>\n",
       "      <td>NaN</td>\n",
       "      <td>0.000000</td>\n",
       "      <td>0.0</td>\n",
       "      <td>0.0</td>\n",
       "      <td>0.0</td>\n",
       "      <td>0.0</td>\n",
       "      <td>NaN</td>\n",
       "      <td>NaN</td>\n",
       "      <td>0.0</td>\n",
       "      <td>0.0</td>\n",
       "      <td>NaN</td>\n",
       "      <td>NaN</td>\n",
       "      <td>106.4190</td>\n",
       "      <td>110.8410</td>\n",
       "      <td>0.655018</td>\n",
       "      <td>3.04099</td>\n",
       "      <td>-6.329190</td>\n",
       "      <td>-2.48656</td>\n",
       "      <td>-3.842620</td>\n",
       "      <td>-4.743390</td>\n",
       "      <td>10.0000</td>\n",
       "      <td>-2.467740</td>\n",
       "      <td>-2.275660</td>\n",
       "      <td>0.0000</td>\n",
       "      <td>0.3333</td>\n",
       "      <td>0.3333</td>\n",
       "      <td>0.0000</td>\n",
       "      <td>0.0000</td>\n",
       "      <td>0.0000</td>\n",
       "      <td>1.0000</td>\n",
       "      <td>23549e01-c1b3-4ca0-a0fd-de9b5d76276b</td>\n",
       "    </tr>\n",
       "    <tr>\n",
       "      <th>1</th>\n",
       "      <td>South Carolina St.</td>\n",
       "      <td>MEAC</td>\n",
       "      <td>11</td>\n",
       "      <td>17.6</td>\n",
       "      <td>61.1</td>\n",
       "      <td>18.6</td>\n",
       "      <td>34.7</td>\n",
       "      <td>35.18</td>\n",
       "      <td>2.5</td>\n",
       "      <td>15.7</td>\n",
       "      <td>8.1</td>\n",
       "      <td>30.4</td>\n",
       "      <td>1</td>\n",
       "      <td>2</td>\n",
       "      <td>0.500</td>\n",
       "      <td>2</td>\n",
       "      <td>8</td>\n",
       "      <td>0.250</td>\n",
       "      <td>7</td>\n",
       "      <td>28</td>\n",
       "      <td>0.250</td>\n",
       "      <td>0.0</td>\n",
       "      <td>0.9</td>\n",
       "      <td>5.6</td>\n",
       "      <td>Sr</td>\n",
       "      <td>Jun-00</td>\n",
       "      <td>0.0</td>\n",
       "      <td>-1.110000</td>\n",
       "      <td>57.5491</td>\n",
       "      <td>2.8</td>\n",
       "      <td>2021</td>\n",
       "      <td>all</td>\n",
       "      <td>NaN</td>\n",
       "      <td>0.384583</td>\n",
       "      <td>2.0</td>\n",
       "      <td>4.0</td>\n",
       "      <td>0.0</td>\n",
       "      <td>4.0</td>\n",
       "      <td>0.5000</td>\n",
       "      <td>0.0000</td>\n",
       "      <td>0.0</td>\n",
       "      <td>0.0</td>\n",
       "      <td>NaN</td>\n",
       "      <td>NaN</td>\n",
       "      <td>110.1920</td>\n",
       "      <td>116.0180</td>\n",
       "      <td>0.450228</td>\n",
       "      <td>21.52420</td>\n",
       "      <td>-11.237600</td>\n",
       "      <td>-7.65745</td>\n",
       "      <td>-3.580200</td>\n",
       "      <td>-11.907200</td>\n",
       "      <td>11.5455</td>\n",
       "      <td>-7.494720</td>\n",
       "      <td>-4.412530</td>\n",
       "      <td>0.2727</td>\n",
       "      <td>1.4545</td>\n",
       "      <td>1.7273</td>\n",
       "      <td>0.4545</td>\n",
       "      <td>0.1818</td>\n",
       "      <td>0.0000</td>\n",
       "      <td>2.3636</td>\n",
       "      <td>52a518bb-b34a-4b43-adee-5e996cb853fa</td>\n",
       "    </tr>\n",
       "    <tr>\n",
       "      <th>2</th>\n",
       "      <td>Binghamton</td>\n",
       "      <td>AE</td>\n",
       "      <td>9</td>\n",
       "      <td>28.6</td>\n",
       "      <td>91.9</td>\n",
       "      <td>23.8</td>\n",
       "      <td>54.1</td>\n",
       "      <td>52.49</td>\n",
       "      <td>6.4</td>\n",
       "      <td>22.5</td>\n",
       "      <td>10.0</td>\n",
       "      <td>21.9</td>\n",
       "      <td>14</td>\n",
       "      <td>32</td>\n",
       "      <td>0.438</td>\n",
       "      <td>33</td>\n",
       "      <td>59</td>\n",
       "      <td>0.559</td>\n",
       "      <td>0</td>\n",
       "      <td>2</td>\n",
       "      <td>0.000</td>\n",
       "      <td>9.0</td>\n",
       "      <td>1.7</td>\n",
       "      <td>52.5</td>\n",
       "      <td>Sr</td>\n",
       "      <td>9-Jun</td>\n",
       "      <td>32.0</td>\n",
       "      <td>0.662985</td>\n",
       "      <td>93.6716</td>\n",
       "      <td>5.5</td>\n",
       "      <td>2021</td>\n",
       "      <td>all</td>\n",
       "      <td>NaN</td>\n",
       "      <td>0.500000</td>\n",
       "      <td>26.0</td>\n",
       "      <td>37.0</td>\n",
       "      <td>7.0</td>\n",
       "      <td>22.0</td>\n",
       "      <td>0.7027</td>\n",
       "      <td>0.3182</td>\n",
       "      <td>9.0</td>\n",
       "      <td>10.0</td>\n",
       "      <td>0.9</td>\n",
       "      <td>NaN</td>\n",
       "      <td>99.2886</td>\n",
       "      <td>105.5980</td>\n",
       "      <td>1.706130</td>\n",
       "      <td>48.26240</td>\n",
       "      <td>-0.796603</td>\n",
       "      <td>-3.88882</td>\n",
       "      <td>3.092220</td>\n",
       "      <td>-1.207060</td>\n",
       "      <td>23.3333</td>\n",
       "      <td>-2.924950</td>\n",
       "      <td>1.717890</td>\n",
       "      <td>1.3333</td>\n",
       "      <td>4.4444</td>\n",
       "      <td>5.7778</td>\n",
       "      <td>1.0000</td>\n",
       "      <td>0.6667</td>\n",
       "      <td>1.8889</td>\n",
       "      <td>8.8889</td>\n",
       "      <td>ad3d9117-b6bf-4675-ab97-3497acf3e555</td>\n",
       "    </tr>\n",
       "    <tr>\n",
       "      <th>3</th>\n",
       "      <td>Illinois</td>\n",
       "      <td>B10</td>\n",
       "      <td>7</td>\n",
       "      <td>1.3</td>\n",
       "      <td>111.0</td>\n",
       "      <td>10.4</td>\n",
       "      <td>83.3</td>\n",
       "      <td>83.33</td>\n",
       "      <td>0.0</td>\n",
       "      <td>13.4</td>\n",
       "      <td>0.0</td>\n",
       "      <td>33.6</td>\n",
       "      <td>0</td>\n",
       "      <td>0</td>\n",
       "      <td>0.000</td>\n",
       "      <td>1</td>\n",
       "      <td>2</td>\n",
       "      <td>0.500</td>\n",
       "      <td>1</td>\n",
       "      <td>1</td>\n",
       "      <td>1.000</td>\n",
       "      <td>0.0</td>\n",
       "      <td>0.0</td>\n",
       "      <td>0.0</td>\n",
       "      <td>Sr</td>\n",
       "      <td>2-Jun</td>\n",
       "      <td>32.0</td>\n",
       "      <td>0.135373</td>\n",
       "      <td>102.3240</td>\n",
       "      <td>5.0</td>\n",
       "      <td>2021</td>\n",
       "      <td>all</td>\n",
       "      <td>NaN</td>\n",
       "      <td>0.000000</td>\n",
       "      <td>0.0</td>\n",
       "      <td>0.0</td>\n",
       "      <td>1.0</td>\n",
       "      <td>2.0</td>\n",
       "      <td>NaN</td>\n",
       "      <td>0.5000</td>\n",
       "      <td>0.0</td>\n",
       "      <td>0.0</td>\n",
       "      <td>NaN</td>\n",
       "      <td>NaN</td>\n",
       "      <td>100.4870</td>\n",
       "      <td>95.3504</td>\n",
       "      <td>0.253055</td>\n",
       "      <td>2.53301</td>\n",
       "      <td>-1.802590</td>\n",
       "      <td>-1.15052</td>\n",
       "      <td>-0.652075</td>\n",
       "      <td>0.194558</td>\n",
       "      <td>2.2857</td>\n",
       "      <td>-0.767911</td>\n",
       "      <td>0.962469</td>\n",
       "      <td>0.0000</td>\n",
       "      <td>0.2857</td>\n",
       "      <td>0.2857</td>\n",
       "      <td>0.0000</td>\n",
       "      <td>0.0000</td>\n",
       "      <td>0.0000</td>\n",
       "      <td>0.7143</td>\n",
       "      <td>eaf66a5c-6f4c-4070-bc70-a99d731b3740</td>\n",
       "    </tr>\n",
       "    <tr>\n",
       "      <th>4</th>\n",
       "      <td>Iowa St.</td>\n",
       "      <td>B12</td>\n",
       "      <td>23</td>\n",
       "      <td>78.5</td>\n",
       "      <td>103.1</td>\n",
       "      <td>21.5</td>\n",
       "      <td>54.0</td>\n",
       "      <td>56.12</td>\n",
       "      <td>3.6</td>\n",
       "      <td>10.2</td>\n",
       "      <td>7.8</td>\n",
       "      <td>16.1</td>\n",
       "      <td>31</td>\n",
       "      <td>36</td>\n",
       "      <td>0.861</td>\n",
       "      <td>62</td>\n",
       "      <td>129</td>\n",
       "      <td>0.481</td>\n",
       "      <td>58</td>\n",
       "      <td>147</td>\n",
       "      <td>0.395</td>\n",
       "      <td>0.3</td>\n",
       "      <td>1.4</td>\n",
       "      <td>13.0</td>\n",
       "      <td>Sr</td>\n",
       "      <td>4-Jun</td>\n",
       "      <td>5.0</td>\n",
       "      <td>2.977030</td>\n",
       "      <td>111.4260</td>\n",
       "      <td>3.5</td>\n",
       "      <td>2021</td>\n",
       "      <td>all</td>\n",
       "      <td>92.8</td>\n",
       "      <td>0.586950</td>\n",
       "      <td>14.0</td>\n",
       "      <td>26.0</td>\n",
       "      <td>48.0</td>\n",
       "      <td>103.0</td>\n",
       "      <td>0.5385</td>\n",
       "      <td>0.4660</td>\n",
       "      <td>0.0</td>\n",
       "      <td>0.0</td>\n",
       "      <td>NaN</td>\n",
       "      <td>NaN</td>\n",
       "      <td>111.7920</td>\n",
       "      <td>104.3060</td>\n",
       "      <td>2.610670</td>\n",
       "      <td>114.53100</td>\n",
       "      <td>1.064440</td>\n",
       "      <td>2.41992</td>\n",
       "      <td>-1.355480</td>\n",
       "      <td>1.874610</td>\n",
       "      <td>32.7826</td>\n",
       "      <td>2.893610</td>\n",
       "      <td>-1.019000</td>\n",
       "      <td>1.0435</td>\n",
       "      <td>2.8696</td>\n",
       "      <td>3.9130</td>\n",
       "      <td>1.1739</td>\n",
       "      <td>0.8261</td>\n",
       "      <td>0.0870</td>\n",
       "      <td>14.3043</td>\n",
       "      <td>55d07491-5bd1-447f-844e-9cb36eaa442e</td>\n",
       "    </tr>\n",
       "  </tbody>\n",
       "</table>\n",
       "</div>"
      ],
      "text/plain": [
       "                 team  conf  GP  Min_per   Ortg   usg   eFG  TS_per  ORB_per  \\\n",
       "0          Morgan St.  MEAC   2      3.0  115.1   4.7  50.0   50.00      0.0   \n",
       "1  South Carolina St.  MEAC  11     17.6   61.1  18.6  34.7   35.18      2.5   \n",
       "2          Binghamton    AE   9     28.6   91.9  23.8  54.1   52.49      6.4   \n",
       "3            Illinois   B10   7      1.3  111.0  10.4  83.3   83.33      0.0   \n",
       "4            Iowa St.   B12  23     78.5  103.1  21.5  54.0   56.12      3.6   \n",
       "\n",
       "   DRB_per  AST_per  TO_per  FTM  FTA  FT_per  twoPM  twoPA  twoP_per  TPM  \\\n",
       "0      4.6      0.0     0.0    0    0   0.000      0      0     0.000    1   \n",
       "1     15.7      8.1    30.4    1    2   0.500      2      8     0.250    7   \n",
       "2     22.5     10.0    21.9   14   32   0.438     33     59     0.559    0   \n",
       "3     13.4      0.0    33.6    0    0   0.000      1      2     0.500    1   \n",
       "4     10.2      7.8    16.1   31   36   0.861     62    129     0.481   58   \n",
       "\n",
       "   TPA  TP_per  blk_per  stl_per   ftr  yr      ht   num    porpag     adjoe  \\\n",
       "0    3   0.333      0.0      0.0   0.0  Sr   4-Jun  25.0  0.261536   91.8097   \n",
       "1   28   0.250      0.0      0.9   5.6  Sr  Jun-00   0.0 -1.110000   57.5491   \n",
       "2    2   0.000      9.0      1.7  52.5  Sr   9-Jun  32.0  0.662985   93.6716   \n",
       "3    1   1.000      0.0      0.0   0.0  Sr   2-Jun  32.0  0.135373  102.3240   \n",
       "4  147   0.395      0.3      1.4  13.0  Sr   4-Jun   5.0  2.977030  111.4260   \n",
       "\n",
       "   pfr  year type  Rec_Rank   ast_tov  rimmade  rimmade_rimmiss  midmade  \\\n",
       "0  3.5  2021  all       NaN  0.000000      0.0              0.0      0.0   \n",
       "1  2.8  2021  all       NaN  0.384583      2.0              4.0      0.0   \n",
       "2  5.5  2021  all       NaN  0.500000     26.0             37.0      7.0   \n",
       "3  5.0  2021  all       NaN  0.000000      0.0              0.0      1.0   \n",
       "4  3.5  2021  all      92.8  0.586950     14.0             26.0     48.0   \n",
       "\n",
       "   midmade_midmiss  rim_ratio  mid_ratio  dunksmade  dunksmiss_dunksmade  \\\n",
       "0              0.0        NaN        NaN        0.0                  0.0   \n",
       "1              4.0     0.5000     0.0000        0.0                  0.0   \n",
       "2             22.0     0.7027     0.3182        9.0                 10.0   \n",
       "3              2.0        NaN     0.5000        0.0                  0.0   \n",
       "4            103.0     0.5385     0.4660        0.0                  0.0   \n",
       "\n",
       "   dunks_ratio  pick      drtg     adrtg   dporpag      stops        bpm  \\\n",
       "0          NaN   NaN  106.4190  110.8410  0.655018    3.04099  -6.329190   \n",
       "1          NaN   NaN  110.1920  116.0180  0.450228   21.52420 -11.237600   \n",
       "2          0.9   NaN   99.2886  105.5980  1.706130   48.26240  -0.796603   \n",
       "3          NaN   NaN  100.4870   95.3504  0.253055    2.53301  -1.802590   \n",
       "4          NaN   NaN  111.7920  104.3060  2.610670  114.53100   1.064440   \n",
       "\n",
       "      obpm      dbpm       gbpm       mp     ogbpm     dgbpm    oreb    dreb  \\\n",
       "0 -2.48656 -3.842620  -4.743390  10.0000 -2.467740 -2.275660  0.0000  0.3333   \n",
       "1 -7.65745 -3.580200 -11.907200  11.5455 -7.494720 -4.412530  0.2727  1.4545   \n",
       "2 -3.88882  3.092220  -1.207060  23.3333 -2.924950  1.717890  1.3333  4.4444   \n",
       "3 -1.15052 -0.652075   0.194558   2.2857 -0.767911  0.962469  0.0000  0.2857   \n",
       "4  2.41992 -1.355480   1.874610  32.7826  2.893610 -1.019000  1.0435  2.8696   \n",
       "\n",
       "     treb     ast     stl     blk      pts  \\\n",
       "0  0.3333  0.0000  0.0000  0.0000   1.0000   \n",
       "1  1.7273  0.4545  0.1818  0.0000   2.3636   \n",
       "2  5.7778  1.0000  0.6667  1.8889   8.8889   \n",
       "3  0.2857  0.0000  0.0000  0.0000   0.7143   \n",
       "4  3.9130  1.1739  0.8261  0.0870  14.3043   \n",
       "\n",
       "                              player_id  \n",
       "0  23549e01-c1b3-4ca0-a0fd-de9b5d76276b  \n",
       "1  52a518bb-b34a-4b43-adee-5e996cb853fa  \n",
       "2  ad3d9117-b6bf-4675-ab97-3497acf3e555  \n",
       "3  eaf66a5c-6f4c-4070-bc70-a99d731b3740  \n",
       "4  55d07491-5bd1-447f-844e-9cb36eaa442e  "
      ]
     },
     "execution_count": 47,
     "metadata": {},
     "output_type": "execute_result"
    }
   ],
   "source": [
    "sample_submission = pd.read_csv('../data/raw/test.csv')\n",
    "sample_submission.head()"
   ]
  },
  {
   "cell_type": "code",
   "execution_count": null,
   "id": "054a1c50",
   "metadata": {},
   "outputs": [],
   "source": [
    "submission_df = pd.DataFrame({\n",
    "    'player_id': sample_submission['player_id'],  # Replace 'id_column' with the actual column name\n",
    "    'drafted': y_test_pred  # Replace 'drafted' with the target column name as in sample_submission\n",
    "})\n",
    "\n",
    "# Save the submission file\n",
    "submission_df.to_csv('test_submission.csv', index=False)"
   ]
  }
 ],
 "metadata": {
  "kernelspec": {
   "display_name": "Python 3",
   "language": "python",
   "name": "python3"
  },
  "language_info": {
   "codemirror_mode": {
    "name": "ipython",
    "version": 3
   },
   "file_extension": ".py",
   "mimetype": "text/x-python",
   "name": "python",
   "nbconvert_exporter": "python",
   "pygments_lexer": "ipython3",
   "version": "3.11.4"
  }
 },
 "nbformat": 4,
 "nbformat_minor": 5
}
